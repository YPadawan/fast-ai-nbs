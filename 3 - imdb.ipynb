{
 "cells": [
  {
   "cell_type": "code",
   "execution_count": 1,
   "metadata": {},
   "outputs": [],
   "source": [
    "%reload_ext autoreload\n",
    "%autoreload 2\n",
    "%matplotlib inline"
   ]
  },
  {
   "cell_type": "code",
   "execution_count": 2,
   "metadata": {},
   "outputs": [],
   "source": [
    "from fastai.text import *"
   ]
  },
  {
   "cell_type": "code",
   "execution_count": 3,
   "metadata": {},
   "outputs": [
    {
     "data": {
      "text/plain": [
       "True"
      ]
     },
     "execution_count": 3,
     "metadata": {},
     "output_type": "execute_result"
    }
   ],
   "source": [
    "import torch\n",
    "torch.cuda.is_available()"
   ]
  },
  {
   "cell_type": "code",
   "execution_count": 4,
   "metadata": {},
   "outputs": [
    {
     "data": {
      "text/plain": [
       "True"
      ]
     },
     "execution_count": 4,
     "metadata": {},
     "output_type": "execute_result"
    }
   ],
   "source": [
    "torch.backends.cudnn.enabled"
   ]
  },
  {
   "cell_type": "markdown",
   "metadata": {},
   "source": [
    "# Preparing data"
   ]
  },
  {
   "cell_type": "code",
   "execution_count": 5,
   "metadata": {},
   "outputs": [
    {
     "data": {
      "text/plain": [
       "'https://s3.amazonaws.com/fast-ai-nlp/imdb'"
      ]
     },
     "execution_count": 5,
     "metadata": {},
     "output_type": "execute_result"
    }
   ],
   "source": [
    "URLs.IMDB"
   ]
  },
  {
   "cell_type": "code",
   "execution_count": 6,
   "metadata": {},
   "outputs": [
    {
     "data": {
      "text/plain": [
       "[PosixPath('/home/luan/.fastai/data/imdb_sample/data_save.pkl'),\n",
       " PosixPath('/home/luan/.fastai/data/imdb_sample/texts.csv')]"
      ]
     },
     "execution_count": 6,
     "metadata": {},
     "output_type": "execute_result"
    }
   ],
   "source": [
    "path = untar_data(URLs.IMDB_SAMPLE)\n",
    "path.ls()"
   ]
  },
  {
   "cell_type": "code",
   "execution_count": 7,
   "metadata": {},
   "outputs": [
    {
     "data": {
      "text/html": [
       "<div>\n",
       "<style scoped>\n",
       "    .dataframe tbody tr th:only-of-type {\n",
       "        vertical-align: middle;\n",
       "    }\n",
       "\n",
       "    .dataframe tbody tr th {\n",
       "        vertical-align: top;\n",
       "    }\n",
       "\n",
       "    .dataframe thead th {\n",
       "        text-align: right;\n",
       "    }\n",
       "</style>\n",
       "<table border=\"1\" class=\"dataframe\">\n",
       "  <thead>\n",
       "    <tr style=\"text-align: right;\">\n",
       "      <th></th>\n",
       "      <th>label</th>\n",
       "      <th>text</th>\n",
       "      <th>is_valid</th>\n",
       "    </tr>\n",
       "  </thead>\n",
       "  <tbody>\n",
       "    <tr>\n",
       "      <th>0</th>\n",
       "      <td>negative</td>\n",
       "      <td>Un-bleeping-believable! Meg Ryan doesn't even ...</td>\n",
       "      <td>False</td>\n",
       "    </tr>\n",
       "    <tr>\n",
       "      <th>1</th>\n",
       "      <td>positive</td>\n",
       "      <td>This is a extremely well-made film. The acting...</td>\n",
       "      <td>False</td>\n",
       "    </tr>\n",
       "    <tr>\n",
       "      <th>2</th>\n",
       "      <td>negative</td>\n",
       "      <td>Every once in a long while a movie will come a...</td>\n",
       "      <td>False</td>\n",
       "    </tr>\n",
       "    <tr>\n",
       "      <th>3</th>\n",
       "      <td>positive</td>\n",
       "      <td>Name just says it all. I watched this movie wi...</td>\n",
       "      <td>False</td>\n",
       "    </tr>\n",
       "    <tr>\n",
       "      <th>4</th>\n",
       "      <td>negative</td>\n",
       "      <td>This movie succeeds at being one of the most u...</td>\n",
       "      <td>False</td>\n",
       "    </tr>\n",
       "  </tbody>\n",
       "</table>\n",
       "</div>"
      ],
      "text/plain": [
       "      label                                               text  is_valid\n",
       "0  negative  Un-bleeping-believable! Meg Ryan doesn't even ...     False\n",
       "1  positive  This is a extremely well-made film. The acting...     False\n",
       "2  negative  Every once in a long while a movie will come a...     False\n",
       "3  positive  Name just says it all. I watched this movie wi...     False\n",
       "4  negative  This movie succeeds at being one of the most u...     False"
      ]
     },
     "execution_count": 7,
     "metadata": {},
     "output_type": "execute_result"
    }
   ],
   "source": [
    "df = pd.read_csv(path/\"texts.csv\")\n",
    "df.head()"
   ]
  },
  {
   "cell_type": "code",
   "execution_count": 8,
   "metadata": {},
   "outputs": [
    {
     "data": {
      "text/plain": [
       "'This is a extremely well-made film. The acting, script and camera-work are all first-rate. The music is good, too, though it is mostly early in the film, when things are still relatively cheery. There are no really superstars in the cast, though several faces will be familiar. The entire cast does an excellent job with the script.<br /><br />But it is hard to watch, because there is no good end to a situation like the one presented. It is now fashionable to blame the British for setting Hindus and Muslims against each other, and then cruelly separating them into two countries. There is some merit in this view, but it\\'s also true that no one forced Hindus and Muslims in the region to mistreat each other as they did around the time of partition. It seems more likely that the British simply saw the tensions between the religions and were clever enough to exploit them to their own ends.<br /><br />The result is that there is much cruelty and inhumanity in the situation and this is very unpleasant to remember and to see on the screen. But it is never painted as a black-and-white case. There is baseness and nobility on both sides, and also the hope for change in the younger generation.<br /><br />There is redemption of a sort, in the end, when Puro has to make a hard choice between a man who has ruined her life, but also truly loved her, and her family which has disowned her, then later come looking for her. But by that point, she has no option that is without great pain for her.<br /><br />This film carries the message that both Muslims and Hindus have their grave faults, and also that both can be dignified and caring people. The reality of partition makes that realisation all the more wrenching, since there can never be real reconciliation across the India/Pakistan border. In that sense, it is similar to \"Mr & Mrs Iyer\".<br /><br />In the end, we were glad to have seen the film, even though the resolution was heartbreaking. If the UK and US could deal with their own histories of racism with this kind of frankness, they would certainly be better off.'"
      ]
     },
     "execution_count": 8,
     "metadata": {},
     "output_type": "execute_result"
    }
   ],
   "source": [
    "df['text'][1]"
   ]
  },
  {
   "cell_type": "code",
   "execution_count": 9,
   "metadata": {},
   "outputs": [],
   "source": [
    "data_lm = TextDataBunch.from_csv(path, 'texts.csv')"
   ]
  },
  {
   "cell_type": "code",
   "execution_count": 10,
   "metadata": {},
   "outputs": [
    {
     "data": {
      "text/plain": [
       "TextClasDataBunch;\n",
       "\n",
       "Train: LabelList (799 items)\n",
       "x: TextList\n",
       "xxbos xxmaj if you are hoping for xxup anything new , you have chosen the wrong movie . xxmaj who can think that a movie that is a virtual replay of it 's xxunk can be good . xxmaj maybe the producer and maybe the director but hopefully they were not serious when they made this xxup thing . xxmaj this whole movie is like making a greatest hits xxup dvd of the 1st 3 films , but changing the actors . xxup xxunk xxrep 4 a xxup d.,xxbos xxmaj xxunk was great with xxmaj million $ xxmaj hotel . i do n't know how he came up with this film ! xxmaj the idea of giving the situation after xxunk and the view of xxmaj american xxmaj society is xxunk , that makes it 2 out of ten . xxmaj but this is not a movie . xxmaj is that the best someone can do with a great xxunk west - east xxunk are important things going on in middle east and it is just issued on the screen of a xxup mac * with the fingers of an xxmaj xxunk girl who is actually at the level of xxunk she is just ignorant about the xxunk characters are not well shaped . xxmaj and the most important thing is the idea that is given with religion is somehow funny to me . xxmaj at the ending scene xxmaj xxunk says lets just be quiet and try to listen . xxmaj and the background music says \" ... i will xxunk thing is not about religion actually . xxmaj but it ends up with this . xxmaj how you are gon na see the truth if you just close your eyes and pray . xxmaj the lights are already shining on the truth . xxmaj its just that nobody wants to see it . ps : \" xxmaj my home is not a place . xxmaj it is xxunk only thing that gets 10 out of 10 is that sentence . xxmaj but it is wasted behind this film making . ( by the way ; as \" someone \" mentioned below , xxmaj xxunk finest young man are not finest , they are just the \" poor \" and the \" hopeless \" ones who sign up for the army in need of good xxunk which is not provided by the government ! ),xxbos \" xxmaj national xxmaj treasure \" ( 2004 ) is a thoroughly misguided xxunk - xxunk of plot xxunk that borrow from nearly every cloak and dagger government conspiracy cliché that has ever been written . xxmaj the film stars xxmaj nicholas xxmaj cage as xxmaj benjamin xxmaj xxunk xxmaj xxunk ( how precious is that , i ask you ? ) ; a seemingly normal fellow who , for no other reason than being of a xxunk of like - minded misguided fortune hunters , decides to steal a ' national treasure ' that has been hidden by the xxmaj united xxmaj states xxunk fathers . xxmaj after a bit of subtext and background that plays laughably ( unintentionally ) like xxmaj indiana xxmaj jones meets xxmaj the xxmaj patriot , the film xxunk into one misguided whimsy after another  attempting to create a ' xxmaj stanley xxmaj xxunk ' xxunk of xxmaj nicholas xxmaj cage and xxunk the whole convoluted mess forward with a series of high octane , but disconnected misadventures . \n",
       " \n",
       "  xxmaj the xxunk and logic to having xxmaj george xxmaj washington and his motley crew of patriots burying a king 's xxunk someplace on native soil , and then , going through the meticulous plan of leaving clues scattered throughout xxup u.s. xxunk art work , is something that director xxmaj jon xxmaj xxunk never quite gets around to explaining . xxmaj could n't xxmaj washington found better usage for such wealth during the start up of the country ? xxmaj hence , we are left with a mystery built on top of an enigma that is already on shaky ground by the time xxmaj ben xxunk himself the new xxunk of this xxunk wealth . xxmaj ben 's intentions are noble  if confusing . xxmaj he 's set on xxunk the treasure . xxmaj for who and when ? \n",
       " your guess is as good as mine . \n",
       " \n",
       "  xxmaj but there are a few problems with xxmaj ben 's crusade . xxmaj first up , his friend , xxmaj ian xxmaj holmes ( xxmaj sean xxmaj bean ) decides that he ca n't wait for xxmaj ben to make up his mind about stealing the xxmaj declaration of xxmaj independence from the xxmaj national xxmaj archives ( oh , yeah  brilliant idea ! ) . xxmaj presumably , the back of that famous document holds the secret answer to the ultimate fortune . xxmaj so xxmaj ian tries to kill xxmaj ben . xxmaj the assassination attempt is , of course , unsuccessful , if overly melodramatic . xxmaj it also xxunk xxmaj ben the opportunity to pick up , and pick on , the very xxunk xxunk of the archives , xxmaj abigail xxmaj chase ( xxmaj diane xxmaj kruger ) . xxmaj she thinks xxmaj ben is clearly a nut  at least at the beginning . xxmaj but true to action / romance form , xxmaj xxunk 's resolve melts xxunk than you can say , \" is that the xxmaj hope xxmaj diamond ? \" xxmaj the film moves into full x - xxmaj file - ish mode , as the xxup fbi , xxunk believing that xxmaj ben is behind the xxunk , xxunk in various xxunk ways that lead to a multi - xxunk of action sequences reminiscent of xxmaj mission xxmaj impossible meets xxmaj the xxmaj fugitive . xxmaj honestly , do n't those guys ever get ' intelligence ' information that is correct ? xxmaj in the final analysis , \" xxmaj national xxmaj treasure \" is n't great film making , so much as it 's a xxunk xxunk of tired old bits from other movies , woven together from xxunk , the likes of which would make xxup xxunk ' xxmaj betsy xxmaj ross blush . \n",
       " \n",
       "  xxmaj the xxmaj xxunk xxmaj xxunk xxup dvd delivers a far more generous treatment than this film is xxunk of . xxmaj the xxunk xxunk picture exhibits a very smooth and xxunk detailed image with very rich colors , natural flesh xxunk , solid blacks and clean whites . xxmaj the stylized image is also free of xxunk and digital enhancements . xxmaj the audio is xxunk and delivers a nice xxunk boom to your side and rear speakers with intensity and realism . xxmaj extras include a host of promotional xxunk material that is rather deep and over the top in its explanation of how and why this film was made . xxmaj if only , as an audience , we had had more xxunk as to why xxmaj ben and co. were chasing after an xxunk treasure , this might have been one good flick . xxmaj extras conclude with the theatrical trailer , audio commentary and deleted scenes . xxmaj not for the faint - hearted  just the thick - headed .,xxbos xxmaj for the big xxunk among us , \" xxmaj the xxmaj intruder \" is a xxunk xxunk movie from xxmaj france that gives so - called \" art films \" a bad name . xxmaj the story is something about a bitter old coot , xxmaj louis xxmaj xxunk ( xxmaj xxunk xxmaj xxunk ) , who goes searching in xxmaj xxunk for a heart xxunk , but beyond that , i have no idea who any of the people in the movie were or why they were doing what they were doing . xxmaj with no coherent storyline to boast of , the movie loses us early on , though i 'm perfectly willing to admit that there might be xxup somebody out there who actually gets some deep message out of this film . \n",
       " \n",
       "  xxmaj this muddled , xxunk - paced drama runs a full two hours and five minutes - though i seriously doubt anyone with any kind of a life will still be hanging around by the closing credits .,xxbos xxmaj like many xxmaj americans , i was first introduced to the works of xxmaj hayao xxmaj miyazaki when i saw \" xxmaj spirited xxmaj away . \" i fell in love with the film and have seen it many times . xxmaj now i am on a search to see every film by xxmaj miyazaki . xxmaj one of his earlier works is \" xxmaj castle in the xxmaj sky . \" xxmaj although it 's still enjoyable , it 's not as good as \" xxmaj spirited xxmaj away \" ( though comparing this or any film to his 2002 masterpiece is perhaps unfair ) . \n",
       " \n",
       "  a young boy named xxmaj pazu ( xxmaj james xxmaj van xxmaj der xxmaj beek ) is working in a mine late one night , when he sees a girl fall slowly from the sky . xxmaj when she wakes up the next morning , she introduces herself as xxmaj sheeta ( xxmaj anna xxmaj paquin ) . xxmaj but xxmaj sheeta has a secret , and before he knows it , xxmaj pazu is pulled into an adventure that will lead him into danger with xxunk , the army and a lost floating city . \n",
       " \n",
       "  xxmaj going into a film by xxmaj hayao xxmaj miyazaki means you can expect one thing : a sense of wonder and magic . xxmaj many filmmakers have tried , but no one can create a sense of magic and awe like xxmaj miyazaki . xxmaj watching a film by xxmaj miyazaki is like experiencing a fantastic dream from your childhood . \n",
       " \n",
       "  xxmaj because the film is animated , dubbing the film does not pose much of a problem because it is next to impossible to determine whether or not the lip movements match up to the words . xxmaj it also helps that the translated dialogue is well - written and voiced by talented actors . xxmaj the voice acting is varied . xxmaj james xxmaj van xxmaj der xxmaj beek fares best . xxmaj he brings an irresistible enthusiasm and excitement to the role of xxmaj pazu that is perfect for the character . xxmaj anna xxmaj paquin is nearly as good as xxmaj sheeta . xxmaj she 's frightened by the events going on around her , but she knows what she has to do . xxmaj mark xxmaj xxunk is unrecognizable as the evil xxmaj xxunk . xxmaj he 's dangerous and wants something from xxmaj sheeta , and will do anything to get it . xxmaj the other voices are bad . xxmaj cloris xxmaj leachman is awful as xxmaj xxunk . xxmaj leachman may have won an xxmaj oscar for \" xxmaj the xxmaj last xxmaj picture xxmaj show , \" but she 's annoying as the pirate leader . xxmaj leachman gives the character an obnoxious xxunk that 's nearly always monotonous . xxmaj it 's so bad it nearly ruins the film ! xxmaj jim xxmaj xxunk is an effective voice - over actor , but he 's miscast as the general . \n",
       " \n",
       "  i would definitely recommend seeing \" xxmaj castle in the xxmaj sky . \" i 'll probably end up buying it myself . xxmaj but even though it 's not as good as \" xxmaj spirited xxmaj away , \" it 's still pretty good .\n",
       "y: CategoryList\n",
       "negative,negative,negative,negative,positive\n",
       "Path: /home/luan/.fastai/data/imdb_sample;\n",
       "\n",
       "Valid: LabelList (201 items)\n",
       "x: TextList\n",
       "xxbos xxmaj this has to be the xxunk film made in 21st century . xxmaj it is all the way low quality , but at the end it falls below ... everything . xxmaj all the cheap xxunk - like flashing and darkness - are used to hide those crappy computer effects . \n",
       " \n",
       "  xxmaj all the actors are below average , especially the main character xxmaj anne xxmaj xxunk ( xxmaj xxunk xxmaj xxunk ) . xxmaj there is a scene , where xxmaj anne is asked : \" xxmaj why you seem so xxunk ? \" xxmaj the correct answer is , because she ca n't act . xxmaj no matter what happens ( the world is about to be destroyed , her friend is dying , she is fired ) , she has the same stupid grin in her face . \n",
       " \n",
       "  xxmaj it is not only the movie , which is b xxunk . xxmaj it is also the back cover description ( at least in xxmaj xxunk ) . xxmaj the text mentions things like xxmaj xxunk xxmaj gray xxunk , xxmaj xxunk xxunk and main character xxmaj xxunk xxmaj xxunk and xxmaj anna ( not xxmaj anne ) xxmaj xxunk . xxmaj the description sounds like a different movie , both featuring character called xxmaj xxunk and sea monsters,xxbos i loved the first \" xxmaj azumi \" movie . i 've seen xxmaj ms. xxmaj ueto in a variety of her xxup tv appearances and i 've seen my fair share of samurai and xxunk flicks . i have to say that this movie was much weaker than i 'd expected . \n",
       " \n",
       "  xxmaj given the movie 's cast and set up in \" xxmaj azumi \" , they should have been able to do a much better job with this movie , but instead it was slow , xxunk in parts , and sprinkled with very poor , unconvincing , and wooden acting . \n",
       " \n",
       "  xxmaj when they bothered to reference the first movie , they did so in a manner that was pretty loose and weak . xxmaj in \" xxmaj azumi \" , the title character is the best of a group of superior killers . xxmaj in \" xxmaj azumi 2 \" she seems somehow xxunk and less - impressive . \n",
       " \n",
       "  xxmaj that 's not to say it was a total loss . xxmaj there were a few decent fight scenes and some over - the - top characters . xxmaj unfortunately , the movie suffers overall from the simple fact that xxmaj xxunk xxmaj xxunk and xxmaj xxunk xxmaj xxunk are not xxmaj xxunk xxmaj xxunk and xxmaj xxunk xxmaj xxunk . xxmaj the latter two truly captured the \" manga \" feel in their screenplay whereas the former never quite \" got it . \",xxbos i really wanted to love this show . i truly , honestly did . \n",
       " \n",
       "  xxmaj for the first time , gay viewers get their own version of the \" xxmaj the xxmaj xxunk \" . xxmaj with the help of his obligatory \" hag \" xxmaj xxunk , xxmaj james , a good looking , well - to - do thirty - something has the chance of love with 15 xxunk ( or \" mates \" as they are referred to in the show ) . xxmaj the only problem is half of them are straight and xxmaj james does n't know this . xxmaj if xxmaj james picks a gay one , they get a trip to xxmaj new xxmaj zealand , and xxmaj if he picks a straight one , straight guy gets $ xxunk . xxmaj how can this not be fun ? ! xxmaj take my hand , lets xxunk : \n",
       " \n",
       "  xxmaj the most glaring problem with this show is the xxunk himself . xxmaj james is your typical young and successful gay guy with a nice smile and body , the one you 'd probably give two glances towards at your local bar before xxunk for xxunk xxunk . xxmaj why they chose to cast xxmaj james as the leading man is beyond me . xxmaj god knows there 's so many other xxunk and xxunk homosexual men out there dying to be on xxup tv . \n",
       " \n",
       "  xxmaj aside from his rather average physical appearance , xxmaj james is about as interesting and exciting as a piece of xxunk . xxmaj even as such , he has this arrogant , xxunk xxunk xxunk about him . xxmaj however , if xxmaj james were standing up against a blank , white wall he 'd xxunk right into in it . i honestly ca n't recall a single interesting or xxunk thing xxmaj james said during the course of the show . xxmaj he is xxup that boring and forgettable . xxmaj in fact , one of the mates flat out xxunk him he was n't feeling a connection . i thought that was the best part of the show . xxmaj also , xxmaj james speaks with an excruciatingly annoying xxunk . xxmaj sound feminine or sound xxunk , but do n't xxrep 4 * xxunk xxunk xxunk in the middle of xxunk ... so painful to sit through . i hated him so much all throughout the show i kept thinking , \" xxmaj please choose a straight guy and xxunk yourself and your unfortunate looking hag \" \n",
       " \n",
       "  xxmaj then we have the xxunk . a remarkably bland bunch of men who do n't seem to care either way what is happening . xxmaj equally xxunk , they seem to be xxunk from one guy to the next except , \" xxmaj hey that guy has blond highlights or oh that one has curly hair \" xxmaj again , xxunk inept casting decisions seem to be the aim of this show . xxmaj while it may be hackneyed to type cast roles , it would 've been a lot more entertaining to watch than these xxunk xxunk . xxmaj however , in all their xxunk they still manage to upstage xxmaj james ( which is n't all that hard to do anyway ) , slightly that is . xxmaj you know you have a problem when some of the xxunk are actually xxunk and more interesting than the leading man . xxmaj and the fact that the xxunk seem to have more fun around xxup each xxup other than with the leading man ? xxmaj very sad . \n",
       " \n",
       "  xxmaj also , i just thought that i d point something mentioned on the message xxunk which i felt was actually true : the straight men are all xxunk than the gay guys . \n",
       " \n",
       "  xxmaj do n't get me wrong , i m not saying all the gay guys were ugly and boring , as a matter of fact i found some of them very cute . xxmaj it 's just that overall they were just xxup blah compared to the men you 'd see on shows like a xxmaj shot xxmaj at xxmaj love with xxmaj xxunk xxmaj xxunk or xxmaj the xxmaj xxunk . \n",
       " \n",
       "  i do n't know how many times i hit fast forward during this show . i can accept a lead character as interesting as a cardboard box , i can accept the xxunk , xxunk xxunk but xxup please for the love of xxmaj god entertain me just a little . xxmaj no such luck . \n",
       " \n",
       "  xxmaj if you 're expecting drama , intrigue , xxunk , or excitement you will be xxup severely disappointed . xxmaj the biggest \" drama \" comes from the fact that one of the xxunk still may have a boyfriend in xxmaj new xxmaj york ( xxmaj how xxunk ! ) . xxmaj as xxunk as that may be i guarantee you , that is the xxup only thing that remotely resembles any conflict on this show . \n",
       " \n",
       "  xxmaj sure there is the twist , but if you have any xxunk of xxmaj xxunk in you , you 'll easily xxunk who 's who ( it was n't hard at all , i was only wrong once . ) xxmaj this show is stacking so much of its xxunk on the twist that it fails to deliver anywhere else . \n",
       " \n",
       "  xxmaj we get to watch as xxmaj james & xxmaj co xxunk along such exciting activities such as learning how to xxmaj western step dance , shopping for xxunk , visiting a xxunk xxunk , and gay xxunk . xxup yawn . xxmaj sure you have the occasional topless dancing but who cares when everyone is boring anyway . xxmaj that 's one of main problems with the show : xxup no xxup one seems to be enjoying themselves -- they are there just going through the motion trying xxunk hard to appear to have a good time . xxmaj and you really ca nt blame them since the events are all wildly unimaginative and lame . \n",
       " \n",
       "  xxmaj finally , the physical aspect is not there . xxmaj there 's no xxunk , no xxunk , no kissing ( ! ) , no xxunk of any sort . xxmaj it 's just \" xxmaj ok that was a boring date , i m gon na go back to my ugly , tacky wanna - be xxmaj xxunk xxmaj xxunk dwelling ( quick xxunk on the lips ) xxup xxunk . \" xxmaj this show is so xxrep 4 * xxunk xxunk it 's ridiculous . i can understand them not wanting to play up the xxunk xxunk nature of homosexual men , but come the xxrep 4 * on . xxmaj people who watch reality xxup tv shows are gon na want more than xxunk xxunk and xxunk xxunk . xxmaj this show refuses to xxunk . \n",
       " \n",
       "  xxmaj sorry if this was long winded but i felt these were issues that needed to be xxunk . i do commend xxmaj bravo for first putting up a show of this nature , but the xxunk incompetent manner in which this show was handled is mind xxunk . xxmaj to summarize my three points : xxmaj boring + xxmaj boring + xxmaj boring = go do something else . xxmaj you 'll have more fun waiting at a doctor 's office for an xxunk , at least they have interesting xxunk there .,xxbos \" xxmaj look , i know this may suck right now , but pain is xxunk , film is forever . xxmaj whatever you do right now is burned into celluloid for all time and for thousands of years to come . \"  xxmaj robert xxmaj de xxmaj niro \n",
       " \n",
       "  xxmaj this was xxunk a film for xxmaj steven xxmaj spielberg , the director hiring several screenwriters to xxunk the screenplay so that it more suited his themes . xxmaj and so we have a dysfunctional family that is threatened by a xxunk monster in the form of a recently released from prison xxmaj robert xxmaj de xxmaj niro . xxmaj like \" xxmaj xxunk xxmaj park \" , \" xxmaj xxunk \" and \" xxmaj war of the xxmaj worlds \" , the dysfunctional family xxunk together to defeat the beast , the beast being the creation of the father , a lawyer who failed to defend xxmaj de xxmaj niro during his trial . \n",
       " \n",
       "  xxmaj in typical xxmaj spielberg fashion , the father kills the monster that undermines the family and is then promptly xxunk of his sins . xxmaj like xxmaj oscar xxmaj xxunk , xxmaj robin xxmaj williams , xxmaj sam xxmaj xxunk , xxmaj tom xxmaj cruise and virtually every \" daddy \" figure in xxmaj spielberg land , the father xxunk his xxunk duty in the kind of xxunk xxunk that xxmaj spielberg so enjoys . \n",
       " \n",
       "  xxmaj but xxmaj spielberg eventually abandoned the picture and the project was instead turned over to xxmaj martin xxmaj xxunk , who at the time was seeking to try his hand at more commercial fare . xxmaj the result is xxunk the worst film in xxmaj xxunk 's xxunk , and , ironically , his most xxunk . \n",
       " \n",
       "  xxmaj an artist 's failures or xxunk are often very revealing , xxunk the inner xxunk of their art . xxmaj when the story does n't work , the characters do n't connect or the images do n't xxunk , we find xxunk left with a kind of inner core . xxmaj this  the remaining xxunk is what the director 's cinema is about . \n",
       " \n",
       "  xxmaj now \" xxmaj cape xxmaj fear \" is an xxunk film , so we wo n't find any xxunk connections to the rest of xxmaj xxunk 's xxunk ( \" xxmaj you already xxunk me ! \" xxmaj de xxmaj niro yells , but the films themes of xxmaj catholic redemption are cookie xxunk ) . xxmaj what the film does , though , is xxunk the kind of language that his xxunk xxunk on . xxmaj watch how xxmaj xxunk 's camera xxunk xxunk back and forth , how he xxunk xxunk onto xxunk and xxunk in an attempt to force tension and how his characters are all loud and screaming for attention . xxmaj but more importantly , watch how the film makes no xxunk sense . a showdown on a boat at the end of the film takes place on an obvious sound - stage , a street parade is claustrophobic and takes place within no larger context and the family 's house does n't seem to exist anywhere in particular . xxmaj there is simply no xxunk sense to anything in the picture , xxmaj xxunk unable to film space or create any kind of xxunk environment . \n",
       " \n",
       "  xxmaj the reason for this is that xxmaj xxunk 's camera always has to be bound , or xxunk xxunk , to his central character . xxmaj for the world around the character to make sense , his camera has to be focused on the character . xxmaj xxunk can take you around a xxmaj french xxmaj hotel , xxmaj xxunk and xxmaj hitchcock can dance you down a street and up a building , xxmaj cameron can give you a tour of the xxmaj titanic , xxmaj scott can recreate an entire future xxunk , xxmaj lucas can give you an alien desert planet , and most other directors can create a sense of space by textbook \" close up - mid shot - wide shot \" xxunk , but xxmaj xxunk ca n't do this . xxmaj there 's no poetry , no sense of xxunk space in his films . xxmaj he 's all about the character . xxmaj you break that xxunk , you leave that xxunk ring , that taxi xxunk , you look away from xxmaj de xxmaj niro , and everything xxunk . xxmaj he simply can not break away from this very xxunk style of shooting , which , in a way , is a xxunk for action film - making . \n",
       " \n",
       "  xxmaj xxunk tried to xxunk this problem with \" xxmaj gangs of xxmaj new xxmaj york \" , where the space and the sets become the central character , but even this self xxunk xxunk experiment gets xxunk by the xxunk of xxmaj daniel xxmaj day xxmaj lewis , the actor drawing xxmaj xxunk 's camera xxunk toward him like a xxunk to a xxunk . \n",
       " \n",
       "  5 / 10  xxmaj even as a generic b - movie , this is an ugly , vulgar looking film . xxmaj look at the xxunk paintings , the inept attempts at tension , the silly xxunk special effects and hokey xxunk showdown . xxmaj still , we have xxmaj robert xxmaj de xxmaj niro to pick up the xxunk . xxmaj de xxmaj niro , who gives his body over to xxmaj xxunk like a xxunk xxmaj christ , gives the film its only great scene . xxmaj in an improvised romantic sequence with young a xxmaj xxunk xxmaj lewis , he sticks his xxunk into her mouth and xxunk her . a kind of symbolic rape , the girl runs away , both xxunk and xxunk by this man 's interest . \n",
       " \n",
       "  xxmaj but xxmaj de xxmaj niro 's performance , so xxunk over the top , simply ca n't be xxunk by xxmaj xxunk . xxmaj you 'd need the xxunk tone and the xxunk visuals of someone like xxmaj de xxmaj xxunk to make this work . xxmaj but xxmaj xxunk ? xxmaj nope . \n",
       " \n",
       "  xxmaj worth one viewing .,xxbos xxmaj this film is based on the novel by xxmaj john xxmaj xxunk . xxmaj could someone please tell me why ? i see absolutely no reason why this fine book should be adapted in this way . xxmaj if you want to make a romantic melodramatic xxmaj hollywood production with xxmaj xxunk xxmaj xxunk and xxmaj xxunk xxmaj xxunk , then how could you possibly make a connection to xxmaj ask xxmaj the xxmaj xxunk ( the novel ) ? -and if you wanted to make this story into a film , then why would you want to make it into a romantic melodramatic xxmaj hollywood production with xxmaj xxunk xxmaj xxunk and xxmaj xxunk xxmaj xxunk ? i do n't get it . \n",
       " \n",
       "  xxmaj the adaptation of the story is poorly made , and if you have read the book and liked it , i 'm almost sure you wo n't like what xxmaj xxunk did with it . \n",
       " \n",
       "  xxmaj in the beginning of the film you 'll maybe find the casting odd , the acting bad and the cinematography just a bit overdone . xxmaj but you hope for the best . i really hoped a lot during this film . i actually wanted it to be good . xxmaj but it only gets worse , and it is as simple as that : xxmaj whether you read xxmaj xxunk novel or not , this is not a good film . xxmaj just another romantic melodramatic xxmaj hollywood production combined with bad acting , lack of structure and - of course - plenty of shots of xxmaj xxunk xxmaj xxunk naked xxunk . \n",
       " \n",
       "  i could complain a lot more about this film , but why waste my time . i 've seen it . xxmaj alright . i had to see it , because i like the book so much and was curious . xxmaj and i 'm very disappointed . \n",
       " \n",
       "  1 / 10 is for xxmaj xxunk 's sweet little mustache in the end of the film . xxmaj so sweet ... xxmaj had he worn it the whole time through , i 'd given it 2 / 10 .\n",
       "y: CategoryList\n",
       "negative,negative,negative,negative,negative\n",
       "Path: /home/luan/.fastai/data/imdb_sample;\n",
       "\n",
       "Test: None"
      ]
     },
     "execution_count": 10,
     "metadata": {},
     "output_type": "execute_result"
    }
   ],
   "source": [
    "data_lm"
   ]
  },
  {
   "cell_type": "code",
   "execution_count": 11,
   "metadata": {},
   "outputs": [],
   "source": [
    "data_lm.save()"
   ]
  },
  {
   "cell_type": "code",
   "execution_count": 11,
   "metadata": {},
   "outputs": [],
   "source": [
    "data = load_data(path)"
   ]
  },
  {
   "cell_type": "markdown",
   "metadata": {},
   "source": [
    "# Tokenization"
   ]
  },
  {
   "cell_type": "code",
   "execution_count": 15,
   "metadata": {},
   "outputs": [
    {
     "ename": "FileNotFoundError",
     "evalue": "[Errno 2] No such file or directory: '/home/luan/.fastai/data/imdb_sample/tmp/itos.pkl'",
     "output_type": "error",
     "traceback": [
      "\u001b[0;31m---------------------------------------------------------------------------\u001b[0m",
      "\u001b[0;31mFileNotFoundError\u001b[0m                         Traceback (most recent call last)",
      "\u001b[0;32m<ipython-input-15-0191842cdf08>\u001b[0m in \u001b[0;36m<module>\u001b[0;34m\u001b[0m\n\u001b[0;32m----> 1\u001b[0;31m \u001b[0mdata\u001b[0m \u001b[0;34m=\u001b[0m \u001b[0mTextClasDataBunch\u001b[0m\u001b[0;34m.\u001b[0m\u001b[0mload\u001b[0m\u001b[0;34m(\u001b[0m\u001b[0mpath\u001b[0m\u001b[0;34m)\u001b[0m\u001b[0;34m\u001b[0m\u001b[0;34m\u001b[0m\u001b[0m\n\u001b[0m",
      "\u001b[0;32m~/anaconda3/lib/python3.7/site-packages/fastai/text/data.py\u001b[0m in \u001b[0;36mload\u001b[0;34m(cls, path, cache_name, processor, **kwargs)\u001b[0m\n\u001b[1;32m    167\u001b[0m                 Use `load_data` for data saved with v1.0.44 or later.\"\"\", DeprecationWarning) \n\u001b[1;32m    168\u001b[0m         \u001b[0mcache_path\u001b[0m \u001b[0;34m=\u001b[0m \u001b[0mPath\u001b[0m\u001b[0;34m(\u001b[0m\u001b[0mpath\u001b[0m\u001b[0;34m)\u001b[0m\u001b[0;34m/\u001b[0m\u001b[0mcache_name\u001b[0m\u001b[0;34m\u001b[0m\u001b[0;34m\u001b[0m\u001b[0m\n\u001b[0;32m--> 169\u001b[0;31m         \u001b[0mvocab\u001b[0m \u001b[0;34m=\u001b[0m \u001b[0mVocab\u001b[0m\u001b[0;34m(\u001b[0m\u001b[0mpickle\u001b[0m\u001b[0;34m.\u001b[0m\u001b[0mload\u001b[0m\u001b[0;34m(\u001b[0m\u001b[0mopen\u001b[0m\u001b[0;34m(\u001b[0m\u001b[0mcache_path\u001b[0m\u001b[0;34m/\u001b[0m\u001b[0;34m'itos.pkl'\u001b[0m\u001b[0;34m,\u001b[0m\u001b[0;34m'rb'\u001b[0m\u001b[0;34m)\u001b[0m\u001b[0;34m)\u001b[0m\u001b[0;34m)\u001b[0m\u001b[0;34m\u001b[0m\u001b[0;34m\u001b[0m\u001b[0m\n\u001b[0m\u001b[1;32m    170\u001b[0m         \u001b[0mtrain_ids\u001b[0m\u001b[0;34m,\u001b[0m\u001b[0mtrain_lbls\u001b[0m \u001b[0;34m=\u001b[0m \u001b[0mnp\u001b[0m\u001b[0;34m.\u001b[0m\u001b[0mload\u001b[0m\u001b[0;34m(\u001b[0m\u001b[0mcache_path\u001b[0m\u001b[0;34m/\u001b[0m\u001b[0;34mf'train_ids.npy'\u001b[0m\u001b[0;34m)\u001b[0m\u001b[0;34m,\u001b[0m \u001b[0mnp\u001b[0m\u001b[0;34m.\u001b[0m\u001b[0mload\u001b[0m\u001b[0;34m(\u001b[0m\u001b[0mcache_path\u001b[0m\u001b[0;34m/\u001b[0m\u001b[0;34mf'train_lbl.npy'\u001b[0m\u001b[0;34m)\u001b[0m\u001b[0;34m\u001b[0m\u001b[0;34m\u001b[0m\u001b[0m\n\u001b[1;32m    171\u001b[0m         \u001b[0mvalid_ids\u001b[0m\u001b[0;34m,\u001b[0m\u001b[0mvalid_lbls\u001b[0m \u001b[0;34m=\u001b[0m \u001b[0mnp\u001b[0m\u001b[0;34m.\u001b[0m\u001b[0mload\u001b[0m\u001b[0;34m(\u001b[0m\u001b[0mcache_path\u001b[0m\u001b[0;34m/\u001b[0m\u001b[0;34mf'valid_ids.npy'\u001b[0m\u001b[0;34m)\u001b[0m\u001b[0;34m,\u001b[0m \u001b[0mnp\u001b[0m\u001b[0;34m.\u001b[0m\u001b[0mload\u001b[0m\u001b[0;34m(\u001b[0m\u001b[0mcache_path\u001b[0m\u001b[0;34m/\u001b[0m\u001b[0;34mf'valid_lbl.npy'\u001b[0m\u001b[0;34m)\u001b[0m\u001b[0;34m\u001b[0m\u001b[0;34m\u001b[0m\u001b[0m\n",
      "\u001b[0;31mFileNotFoundError\u001b[0m: [Errno 2] No such file or directory: '/home/luan/.fastai/data/imdb_sample/tmp/itos.pkl'"
     ]
    }
   ],
   "source": [
    "data = TextClasDataBunch.load(path)"
   ]
  },
  {
   "cell_type": "code",
   "execution_count": 19,
   "metadata": {},
   "outputs": [],
   "source": [
    "TextClasDataBunch.load??"
   ]
  },
  {
   "cell_type": "markdown",
   "metadata": {},
   "source": [
    "## I assume the tokenization already done by the last step?"
   ]
  },
  {
   "cell_type": "markdown",
   "metadata": {},
   "source": [
    "# Numericalization\n",
    "\n",
    "Convert tokens from texts"
   ]
  },
  {
   "cell_type": "code",
   "execution_count": 12,
   "metadata": {},
   "outputs": [
    {
     "data": {
      "text/plain": [
       "['xxunk',\n",
       " 'xxpad',\n",
       " 'xxbos',\n",
       " 'xxfld',\n",
       " 'xxmaj',\n",
       " 'xxup',\n",
       " 'xxrep',\n",
       " 'xxwrep',\n",
       " 'the',\n",
       " ',']"
      ]
     },
     "execution_count": 12,
     "metadata": {},
     "output_type": "execute_result"
    }
   ],
   "source": [
    "data.vocab.itos[:10]"
   ]
  },
  {
   "cell_type": "code",
   "execution_count": 13,
   "metadata": {},
   "outputs": [
    {
     "data": {
      "text/plain": [
       "Text xxbos xxmaj xxunk wasted a lot of xxup tv time talking about the xxmaj xxunk as if they were super xxunk in the dynamics of the modern day xxmaj puerto xxmaj rican . xxmaj they were not . xxmaj the truth is that the xxmaj africans and the xxmaj spanish were and she knows it . xxmaj what kills me is that she is standing on the screen looking like some average light skin black chick ( with an obvious black daddy , xxunk and xxunk to truly acknowledge the real essence of what makes them the modern day xxmaj puerto xxmaj ricans , but barely mentioned how xxmaj africans influenced the way their xxmaj spanish is spoken , the food and music . xxmaj she is so typical and i lost a lot of respect for her and will not support anything else she does . xxmaj also , since she wants to dance around her xxmaj african - ness then she need not take more roles associated with xxunk ( i.e. xxmaj xxunk xxmaj blues ) . xxmaj we can find a xxunk xxmaj black xxmaj latina next time ( thank you xxmaj zoe xxmaj xxunk , xxmaj gina xxmaj xxunk , xxmaj gina xxmaj xxunk and xxmaj melissa xxunk ) . \n",
       " \n",
       "  xxmaj to the xxmaj puerto xxmaj rican on here that said they are xxmaj african and not \" black \" xxrep 4 . thank you . xxmaj we \" blacks \" certainly do not have anything in common with \" you \" so there is no love lost . xxmaj but , since you are probably in the xxmaj states and have benefited from the xxmaj civil xxmaj rights movement we would like for you refuse any decent human treatment you received courtesy of the blood , sweat and tears from the backs of the \" blacks \" you share nothing with . \n",
       " \n",
       "  xxmaj if i am correct xxmaj puerto xxmaj ricans have a terrible image in the media , but we blacks do not spend our time trying to xxunk you because we know that the media loves to exploits the low points and behaviors of all xxunk to maintain mindless xxunk . xxmaj however , you evidently have fed into the hype that one you are somehow white or superior ... you are not . xxmaj also , you somehow feel compelled to believe that black culture is xxup bet ... again you are incorrect and need to take a vacation out of the hood . xxmaj try visiting xxmaj xxunk , xxmaj xxunk , xxmaj xxunk , xxmaj texas , xxmaj charlotte , xxup xxunk xxmaj trust me none of those blacks want to claim your \" culture \" either ."
      ]
     },
     "execution_count": 13,
     "metadata": {},
     "output_type": "execute_result"
    }
   ],
   "source": [
    "# Look at the train dataset\n",
    "data.train_ds[0][0]"
   ]
  },
  {
   "cell_type": "code",
   "execution_count": 14,
   "metadata": {},
   "outputs": [
    {
     "data": {
      "text/plain": [
       "array([   2,    4,    0, 1227,   12,  200,   13,    5,  257,   76])"
      ]
     },
     "execution_count": 14,
     "metadata": {},
     "output_type": "execute_result"
    }
   ],
   "source": [
    "data.train_ds[0][0].data[:10]"
   ]
  },
  {
   "cell_type": "code",
   "execution_count": 16,
   "metadata": {},
   "outputs": [],
   "source": [
    "# new way to get the data?\n",
    "data = (TextList.from_csv(path, 'texts.csv', cols='text')\n",
    "                .split_from_df(col=2)\n",
    "                .label_from_df(cols=0)\n",
    "                .databunch())"
   ]
  },
  {
   "cell_type": "markdown",
   "metadata": {},
   "source": [
    "# Train full dataset. Language model"
   ]
  },
  {
   "cell_type": "code",
   "execution_count": 14,
   "metadata": {},
   "outputs": [],
   "source": [
    "bs=48"
   ]
  },
  {
   "cell_type": "code",
   "execution_count": 15,
   "metadata": {},
   "outputs": [
    {
     "data": {
      "text/plain": [
       "[PosixPath('/home/luan/.fastai/data/imdb/models'),\n",
       " PosixPath('/home/luan/.fastai/data/imdb/imdb.vocab'),\n",
       " PosixPath('/home/luan/.fastai/data/imdb/unsup'),\n",
       " PosixPath('/home/luan/.fastai/data/imdb/tmp_lm'),\n",
       " PosixPath('/home/luan/.fastai/data/imdb/data_lm.pkl'),\n",
       " PosixPath('/home/luan/.fastai/data/imdb/data_clas.pkl'),\n",
       " PosixPath('/home/luan/.fastai/data/imdb/test'),\n",
       " PosixPath('/home/luan/.fastai/data/imdb/README'),\n",
       " PosixPath('/home/luan/.fastai/data/imdb/train'),\n",
       " PosixPath('/home/luan/.fastai/data/imdb/tmp_clas')]"
      ]
     },
     "execution_count": 15,
     "metadata": {},
     "output_type": "execute_result"
    }
   ],
   "source": [
    "path = untar_data(URLs.IMDB)\n",
    "path.ls()"
   ]
  },
  {
   "cell_type": "code",
   "execution_count": 16,
   "metadata": {},
   "outputs": [
    {
     "data": {
      "text/plain": [
       "[PosixPath('/home/luan/.fastai/data/imdb/train/unsupBow.feat'),\n",
       " PosixPath('/home/luan/.fastai/data/imdb/train/neg'),\n",
       " PosixPath('/home/luan/.fastai/data/imdb/train/labeledBow.feat'),\n",
       " PosixPath('/home/luan/.fastai/data/imdb/train/pos')]"
      ]
     },
     "execution_count": 16,
     "metadata": {},
     "output_type": "execute_result"
    }
   ],
   "source": [
    "(path/'train').ls()"
   ]
  },
  {
   "cell_type": "code",
   "execution_count": 17,
   "metadata": {},
   "outputs": [],
   "source": [
    "data_lm = (TextList.from_folder(path)\n",
    "           #Inputs: all the text files in path\n",
    "            .filter_by_folder(include=['train', 'test', 'unsup']) \n",
    "           #We may have other temp folders that contain text files so we only keep what's in train and test\n",
    "            .random_split_by_pct(0.1)\n",
    "           #We randomly split and keep 10% (10,000 reviews) for validation\n",
    "            .label_for_lm()           \n",
    "           #We want to do a language model so we label accordingly\n",
    "            .databunch(bs=bs))\n",
    "data_lm.save('data_lm.pkl')"
   ]
  },
  {
   "cell_type": "code",
   "execution_count": 18,
   "metadata": {},
   "outputs": [],
   "source": [
    "#When load again\n",
    "data_lm = load_data(path, 'data_lm.pkl', bs=bs)"
   ]
  },
  {
   "cell_type": "code",
   "execution_count": 21,
   "metadata": {},
   "outputs": [
    {
     "data": {
      "text/html": [
       "<table>  <col width='5%'>  <col width='95%'>  <tr>\n",
       "    <th>idx</th>\n",
       "    <th>text</th>\n",
       "  </tr>\n",
       "  <tr>\n",
       "    <th>0</th>\n",
       "    <th>xxmaj grant , xxmaj irene xxmaj dunne and xxmaj ralph xxmaj bellamy , all of whom are sorely missed . xxmaj and director xxmaj alexander xxmaj hall is no xxmaj leo mccarey either . \\n \\n  xxmaj the principal actors look desperate , and flail around ineffectually . xxmaj the songs are weak , but mercifully short . xxmaj in order not to make xxmaj jane xxmaj wyman look</th>\n",
       "  </tr>\n",
       "  <tr>\n",
       "    <th>1</th>\n",
       "    <th>you go . \\n \\n  xxmaj about the only thing they kept even remotely close to the games was xxmaj chun xxmaj li 's father is taken by xxmaj bison ... that 's right , taken , not killed . xxmaj balrog is a big black guy xxrep 4 . and xxmaj vega wears a mask and claws xxrep 4 . albeit a shiny silver mask that makes him</th>\n",
       "  </tr>\n",
       "  <tr>\n",
       "    <th>2</th>\n",
       "    <th>( xxup nj ) xxmaj film xxmaj society last night . xxmaj but i was pleasantly surprised . xxmaj joey \" xxmaj pants \" is actually restrained in this role , and is n't his typical over - the - top screaming character . xxmaj all the other performances are also quite strong , especially xxmaj boyd xxmaj gaines . xxmaj normally , a film where people are wallowing in</th>\n",
       "  </tr>\n",
       "  <tr>\n",
       "    <th>3</th>\n",
       "    <th>sort of storm - disaster movie , no matter how stupid . xxmaj but this one not only wasted the fifteen minutes i spent watching it , it 's compelling me to waste yet more time writing this review . xxmaj that 's how strongly i feel about it . \\n \\n  xxmaj in this day and age , with so many weather websites available , there 's no</th>\n",
       "  </tr>\n",
       "  <tr>\n",
       "    <th>4</th>\n",
       "    <th>it may have something to do with the fact that xxmaj harry is ( marginally ) the more subtle of the two characters . \\n \\n  xxbos i saw this one when i was in high school . i had been warned ahead of time , but i liked classical music , including xxmaj grieg , and ignored the warnings . i remember several things about it that really</th>\n",
       "  </tr>\n",
       "</table>\n"
      ],
      "text/plain": [
       "<IPython.core.display.HTML object>"
      ]
     },
     "metadata": {},
     "output_type": "display_data"
    }
   ],
   "source": [
    "# Notice no labels\n",
    "data_lm.show_batch()"
   ]
  },
  {
   "cell_type": "code",
   "execution_count": 22,
   "metadata": {},
   "outputs": [],
   "source": [
    "learn = language_model_learner(data_lm, AWD_LSTM, drop_mult=0.3)"
   ]
  },
  {
   "cell_type": "code",
   "execution_count": 24,
   "metadata": {},
   "outputs": [
    {
     "data": {
      "text/html": [],
      "text/plain": [
       "<IPython.core.display.HTML object>"
      ]
     },
     "metadata": {},
     "output_type": "display_data"
    },
    {
     "name": "stdout",
     "output_type": "stream",
     "text": [
      "LR Finder is complete, type {learner_name}.recorder.plot() to see the graph.\n",
      "Min numerical gradient: 3.31E-02\n"
     ]
    },
    {
     "data": {
      "image/png": "[encoded data removed]",
      "text/plain": [
       "<Figure size 432x288 with 1 Axes>"
      ]
     },
     "metadata": {
      "needs_background": "light"
     },
     "output_type": "display_data"
    }
   ],
   "source": [
    "learn.lr_find()\n",
    "learn.recorder.plot(skip_end=15)"
   ]
  },
  {
   "cell_type": "code",
   "execution_count": 25,
   "metadata": {},
   "outputs": [
    {
     "data": {
      "text/html": [
       "Total time: 36:50 <p><table style='width:300px; margin-bottom:10px'>\n",
       "  <tr>\n",
       "    <th>epoch</th>\n",
       "    <th>train_loss</th>\n",
       "    <th>valid_loss</th>\n",
       "    <th>accuracy</th>\n",
       "  </tr>\n",
       "  <tr>\n",
       "    <th>1</th>\n",
       "    <th>4.194761</th>\n",
       "    <th>4.060237</th>\n",
       "    <th>0.293319</th>\n",
       "  </tr>\n",
       "</table>\n"
      ],
      "text/plain": [
       "<IPython.core.display.HTML object>"
      ]
     },
     "metadata": {},
     "output_type": "display_data"
    }
   ],
   "source": [
    "learn.fit_one_cycle(1, 1e-02, moms=(0.8, 0.7) )"
   ]
  },
  {
   "cell_type": "code",
   "execution_count": 26,
   "metadata": {},
   "outputs": [],
   "source": [
    "learn.save('fit_head')"
   ]
  },
  {
   "cell_type": "code",
   "execution_count": null,
   "metadata": {},
   "outputs": [],
   "source": [
    "learn.load('fit_head')"
   ]
  },
  {
   "cell_type": "code",
   "execution_count": 27,
   "metadata": {},
   "outputs": [],
   "source": [
    "learn.unfreeze()"
   ]
  },
  {
   "cell_type": "code",
   "execution_count": 28,
   "metadata": {},
   "outputs": [
    {
     "data": {
      "text/html": [
       "Total time: 6:43:36 <p><table style='width:300px; margin-bottom:10px'>\n",
       "  <tr>\n",
       "    <th>epoch</th>\n",
       "    <th>train_loss</th>\n",
       "    <th>valid_loss</th>\n",
       "    <th>accuracy</th>\n",
       "  </tr>\n",
       "  <tr>\n",
       "    <th>1</th>\n",
       "    <th>3.928193</th>\n",
       "    <th>3.887591</th>\n",
       "    <th>0.310765</th>\n",
       "  </tr>\n",
       "  <tr>\n",
       "    <th>2</th>\n",
       "    <th>3.860478</th>\n",
       "    <th>3.819380</th>\n",
       "    <th>0.320195</th>\n",
       "  </tr>\n",
       "  <tr>\n",
       "    <th>3</th>\n",
       "    <th>3.820737</th>\n",
       "    <th>3.774487</th>\n",
       "    <th>0.325908</th>\n",
       "  </tr>\n",
       "  <tr>\n",
       "    <th>4</th>\n",
       "    <th>3.760390</th>\n",
       "    <th>3.734528</th>\n",
       "    <th>0.330223</th>\n",
       "  </tr>\n",
       "  <tr>\n",
       "    <th>5</th>\n",
       "    <th>3.703763</th>\n",
       "    <th>3.702564</th>\n",
       "    <th>0.334201</th>\n",
       "  </tr>\n",
       "  <tr>\n",
       "    <th>6</th>\n",
       "    <th>3.651171</th>\n",
       "    <th>3.680817</th>\n",
       "    <th>0.336432</th>\n",
       "  </tr>\n",
       "  <tr>\n",
       "    <th>7</th>\n",
       "    <th>3.580602</th>\n",
       "    <th>3.662767</th>\n",
       "    <th>0.338763</th>\n",
       "  </tr>\n",
       "  <tr>\n",
       "    <th>8</th>\n",
       "    <th>3.540569</th>\n",
       "    <th>3.651086</th>\n",
       "    <th>0.340330</th>\n",
       "  </tr>\n",
       "  <tr>\n",
       "    <th>9</th>\n",
       "    <th>3.469224</th>\n",
       "    <th>3.646569</th>\n",
       "    <th>0.340969</th>\n",
       "  </tr>\n",
       "  <tr>\n",
       "    <th>10</th>\n",
       "    <th>3.469156</th>\n",
       "    <th>3.646400</th>\n",
       "    <th>0.340921</th>\n",
       "  </tr>\n",
       "</table>\n"
      ],
      "text/plain": [
       "<IPython.core.display.HTML object>"
      ]
     },
     "metadata": {},
     "output_type": "display_data"
    }
   ],
   "source": [
    "learn.fit_one_cycle(10, 1e-3, moms=(0.8,0.7))"
   ]
  },
  {
   "cell_type": "code",
   "execution_count": 29,
   "metadata": {},
   "outputs": [],
   "source": [
    "learn.save('fine_tuned')"
   ]
  },
  {
   "cell_type": "code",
   "execution_count": 23,
   "metadata": {},
   "outputs": [
    {
     "data": {
      "text/plain": [
       "LanguageLearner(data=TextLMDataBunch;\n",
       "\n",
       "Train: LabelList (90000 items)\n",
       "x: LMTextList\n",
       "xxbos xxmaj wow ! xxmaj here it is . xxmaj very likely the worst movie i have ever seen . i had read about this film long ago but never seen it . xxmaj what was going on ( if anything ) in the minds of the people involved ? xxmaj this must be the movie which inspired \" xxmaj showgirls \" . i thought that was the worst until i watched this . xxmaj no wonder so many actors ' careers seemed to end with this one . i finally understand he meaning of \" bad taste \" . xxmaj phew - quel stinko !,xxbos a limp musical remake of one of the great screwball comedies of all time , \" xxmaj the xxmaj awful xxmaj truth , \" this film is a inadvertent valentine to xxmaj cary xxmaj grant , xxmaj irene xxmaj dunne and xxmaj ralph xxmaj bellamy , all of whom are sorely missed . xxmaj and director xxmaj alexander xxmaj hall is no xxmaj leo mccarey either . \n",
       " \n",
       "  xxmaj the principal actors look desperate , and flail around ineffectually . xxmaj the songs are weak , but mercifully short . xxmaj in order not to make xxmaj jane xxmaj wyman look bad , there are no women on screen under the age of 35 . xxmaj the fashions are without even historical interest , xxmaj columbia 's colors are rancid , the sets are claustrophobic , the whole proceedings seem strangely depopulated and the action takes place in a vacuum . \n",
       " \n",
       "  xxmaj no wonder people stayed home to watch their new - fangled televisions . xxmaj this is worse than \" xxmaj the xxmaj opposite xxmaj sex , \" xxup mgm 's xxunk of \" xxmaj the xxmaj women . \" xxmaj do n't bother .,xxbos xxmaj this movie was terrible i looked forward to seeing it , a few beers at the ready for film night at home and even ready and willing to put up with subtitles . xxmaj what a disappointment , i 'm not a genius but i know a good movie when i see it and i 'm afraid this was poor . xxmaj what the hell happened i still do n't know the bald heads were to many to tell who was who ... i want my money back i 've been cheated . xxmaj the main character seemed to have some special power which involved looking inside people . and then going on to raise the dead , xxup ok but then what happened to the rest of the crew this film did not make any kind of sense , and the end well who knows,xxbos i was disgusted with this movie . xxmaj the characters in the movie were not believable at all , nor did they have any similarity to the people you find in other tellings of the story of xxmaj king xxmaj arthur . xxmaj what happened to the relationships between these people ? xxmaj what happened to xxmaj king xxmaj arthur in this movie to turn him into such a horrible person ? i have never been so disappointed in a movie character before . xxmaj the xxmaj king xxmaj arthur i know would not have been leading the charge to execute xxmaj xxunk . xxmaj he should have loved her , but this xxmaj king xxmaj arthur had no feelings at all except for hatred . \n",
       " \n",
       "  xxmaj and it was n't just xxmaj arthur ; there was no depth to any of these characters . xxmaj there was nothing to make you feel any sense of connection to them at all . xxmaj if you do n't care what happens , why bother watching at all ? xxmaj this movie was just a waste of time .,xxbos i commend the author , producer , actors , etc . , on this movie . xxmaj it one of the best , cleanest and educational movies shown in a long time . xxmaj everyone i 've mentioned it to has not heard of it . xxmaj this is what disappoints me about good clean movies , they do n't receive enough publicity . xxmaj our children and families need more of these movies to remind them our success is to be earned , not given . xxmaj also , giving and showing concern for others takes our mind off our own problems and makes us aware of how fortunate we are compared to the majority of the world . \n",
       " \n",
       "  xxmaj please continue producing more movies with true meanings .\n",
       "y: LMLabelList\n",
       ",,,,\n",
       "Path: /home/luan/.fastai/data/imdb;\n",
       "\n",
       "Valid: LabelList (10000 items)\n",
       "x: LMTextList\n",
       "xxbos i love detective shows . xxmaj one can watch xxmaj cannon on xxup tv xxmaj land . i never saw a detective show with a fat , out of shape protagonist . xxmaj the same formulated detective series , of running around asking question , with the usual confrontational climax . xxmaj the viewer is assaulted with the out of the blue investigation breaks leading to figuring out the case . xxmaj the usual plot devices of a found phone number , or random run in with character directs the story . xxmaj the weired musical score sets a strange tone ! a very 70 's show because of the music , cloths , social message , and characters . xxmaj the quality of filming and acting has come a long why from the 70 's . xxmaj still a interesting show 7 out of 10 spy cams for xxmaj cannon .,xxbos xxmaj my wife and i saw this film yesterday and i thought that it was a pretty good movie . xxmaj of course , my motivation to see it was to get a look at xxmaj roselyn xxmaj sanchez and xxmaj sofia xxmaj vergara . i figured that my wife could have equal eye candy with the main actor who played xxmaj xxunk . xxmaj it is interesting to note that this movie was directed by a xxmaj latina , and of course featured a great many latinos in the movie , with very few other ethnic actors . xxmaj while i am caucasian , it did n't really bother me that there was only a couple of xxmaj anglo people in it , and only one xxmaj african xxmaj american i believe . xxmaj but , as it was directed by a xxmaj latin woman , i was surprised at how much the movie seemed to be geared towards the xxmaj anglo - movie watching crowd . i do n't have any problem with that and i feel that the director was really centered on empowering women , which is great . i just wonder if xxmaj latinos who watch this might feel themselves betrayed a bit by the xxmaj hollywood feel of this film . i do n't think that it is a vehicle for too much serious lessons or life examples , and feel that it is more along the lines of just plain popcorn fun . xxmaj which in today 's crummy world , is just fine to enjoy for a couple hours out of your day . i thought that it was a fun movie and i can spend all day looking at women like xxmaj roselyn xxmaj sanchez and xxmaj sofia xxmaj vergara . xxmaj who would n't drink dirty bath water from the likes of those two women ? i know that i would be in line for a chance ! ! xxmaj what absolute dream women ! ! xxup hot - xxup cha - xxup cha ! !,xxbos 2008 update : xxmaj we recently watched it again , and it was almost as fresh as the first viewing . a really fine movie . \n",
       " \n",
       "  xxup caution -- xxup may xxup contain xxup some xxup spoilers -- \n",
       " \n",
       "  i put this film roughly in the same category as \" xxmaj pleasantville \" and \" xxmaj the xxmaj truman xxmaj show \" , in that they require you to suspend disbelief to show how , ultimately , it is better to really live and love then die , rather than live a \" perfect \" and protected life . i rate all of these \" 8 \" of 10 . \n",
       " \n",
       "  \" xxmaj bicentennial xxmaj man \" starts in 2005 , and a new robot , an xxmaj android they name \" xxmaj andrew \" , is delivered to an obviously well - off family . xxmaj but xxmaj andrew is a \" defective \" robot . xxmaj he is not only infinitely intelligent , being able to read and memorize everything , learn to play piano , carve beautiful figures from wood , etc . , but he also develops \" feelings \" , which none of the other robots do . xxmaj robin xxmaj williams plays the robot beautifully , and is \" in costume \" most of the film . \n",
       " \n",
       "  xxmaj eventually xxmaj andrew realizes that everyone he cares about leaves him - they die . xxmaj but he is determined to not accept that . xxmaj first he sets out and wanders all over , for years , searching for another like him . xxmaj there are none . xxmaj returning \" home \" , he meets up with who he thinks is \" xxmaj little xxmaj miss \" ( xxmaj embeth xxmaj davidtz ) , but she does n't recognize him . xxmaj because she is really xxmaj portia , a spitting image of her grandmother , \" xxmaj little xxmaj miss \" . xxmaj that 's how long he has been gone . \n",
       " \n",
       "  xxmaj andrew had been in love with xxmaj little xxmaj miss when she married 50 or so years earlier , but as just an android could do nothing about it . xxmaj he falls in love with young xxmaj portia and this time is determined . xxmaj somewhere in all this , i forget exactly where , he asks for his \" freedom \" , not that he wants to leave , or quit serving , but he has learned that freedom is a basic need that all people with feeling desire . xxmaj he ends up moving away and building his own house along the coast . \n",
       " \n",
       "  xxmaj he finds a workshop of the son of an android pioneer . xxmaj andrew first asks to be made to look like a human , so is given a human - looking covering , which then has him looking like xxmaj robin xxmaj williams . xxmaj over the years xxmaj andrew invents various ways to make him closer and closer to being human , including a central nervous system so he can \" feel \" , and the ability to eat and drink . ( xxmaj funny scene , in bed with xxmaj portia , his stomach growls , then he farts , is surprised , says \" i 'll need to have him make me a xxunk . \" ) xxmaj he also invents many replacement organs that become in widespread use among humans . \n",
       " \n",
       "  xxmaj he goes before the \" council \" of xxunk to be declared human . xxmaj no luck . xxmaj much later , around age 200 , he has had further \" modifications \" which now results in his aging , and wearing out , along with xxmaj portia . xxmaj he goes before the \" world council \" , and on his and xxmaj portia 's xxunk , sees via xxup tv that he is finally \" human \" , then he dies , and xxmaj portia asks the nurse to \" pull the plug . \" \n",
       " \n",
       "  xxmaj the whole 2-hour film is filled with funny dialog , funny scenes , and interesting insights . xxmaj but this film is not , strictly speaking , a \" comedy \" . xxmaj it is definitely a serious film , with a real message , but is very entertaining - the novelty is use of a \" futuristic \" xxmaj android who wants to become human . xxmaj robin xxmaj williams again does a wonderful job creating a one - of - a - kind character . \n",
       " \n",
       "  xxmaj if you want to look at this film as a \" nit - picker \" you can find many little flaws within it . xxmaj but to focus on that is missing the point entirely . xxmaj why even view the film , in that case , because we know there will be no such robots , at least not by 2005 ? xxmaj for me , the film works very well and i will remember it for a long time .,xxbos xxmaj though it runs only seventy - five minutes , it still seems remarkable that xxmaj buster xxmaj keaton 's fertile imagination is built upon short , quick gags that pass by quickly -- so quickly that it staggers the mind that anyone could come up with enough to flesh out seventy - five minutes . xxmaj the gags themselves are gracefully athletic and consistently come unexpectedly , given xxmaj keaton 's slight build and features that make him look old beyond his years . xxmaj he plays a train engineer whose attempts to join the xxmaj confederate army are rebuffed ( as are the affections of his beloved , believing him to be a coward ) but who almost single - handedly manages to win a major battle by using his train to confound the xxmaj union army . xxmaj there 's great attention paid to detail -- quite a bit is happening both in the foreground and the background of the frame -- and the jokes are both laugh - out - loud funny and amusingly ironic ; but xxmaj keaton 's genius is his ability to isolate the individual within the crowd and draw out that individual 's endearing strengths -- his connection with each member of the audience is subtle but sublime .,xxbos xxmaj okay , so the first few seasons took a while to get going on the special effects way , but from the beginning , xxmaj hidden xxmaj frontier has given consistently good story lines and performances , and have always been willing to mistakes they 've made . xxmaj they advice people to see newer episodes first , so they can see just how good the show is , and understand how much it has changed since the first episodes . xxmaj the cast have a fantastic camaraderie and it shows on - screen . \n",
       " \n",
       "  xxmaj the influx of guest actors who make their mark on the show and with fans attests also to the show , as the story lines go from strength to strength . xxmaj the show has pushed barriers with its various story lines - depression , drug addiction and mainstream homosexuality - and these may have rubbed a few people the wrong way , but that is what xxmaj star xxmaj trek is and was all about . xxmaj it portrays those story lines in a smart and emotional way , dealing with them subtly and smoothly . \n",
       " \n",
       "  xxmaj yes , they have used some characters from xxmaj trek history , but they have done them justice - characters like xxmaj shelby , xxmaj xxunk and xxmaj xxunk , vastly underused in the show , had a rebirth in the xxmaj new xxmaj frontier books , but they lost their sizzle after a while , when xxmaj peter xxmaj david when more towards wild fantasy versus serious sci - fi , and xxup hf shows those characters in a completely different light , which serves them better . \n",
       " \n",
       "  xxmaj the site also allows fans to interact with chat rooms and forums and they can get to know the people involved . xxmaj they release bloopers for every episode , so the fans can see what a laugh they have , because they are people doing it in their spare time , with a dedication that would make many professional actors wide - eyed in shock ! \n",
       " \n",
       "  xxmaj what this series , now drawing to a close after 7 years , has accomplished on such a limited amount of resources is nothing short of amazing - bringing people together , inspiring others to do the same . xxup hf will live for a long time after it ends , as long as people still enjoy the reason it started in the first place .\n",
       "y: LMLabelList\n",
       ",,,,\n",
       "Path: /home/luan/.fastai/data/imdb;\n",
       "\n",
       "Test: None, model=SequentialRNN(\n",
       "  (0): AWD_LSTM(\n",
       "    (encoder): Embedding(60003, 400, padding_idx=1)\n",
       "    (encoder_dp): EmbeddingDropout(\n",
       "      (emb): Embedding(60003, 400, padding_idx=1)\n",
       "    )\n",
       "    (rnns): ModuleList(\n",
       "      (0): WeightDropout(\n",
       "        (module): LSTM(400, 1150, batch_first=True)\n",
       "      )\n",
       "      (1): WeightDropout(\n",
       "        (module): LSTM(1150, 1150, batch_first=True)\n",
       "      )\n",
       "      (2): WeightDropout(\n",
       "        (module): LSTM(1150, 400, batch_first=True)\n",
       "      )\n",
       "    )\n",
       "    (input_dp): RNNDropout()\n",
       "    (hidden_dps): ModuleList(\n",
       "      (0): RNNDropout()\n",
       "      (1): RNNDropout()\n",
       "      (2): RNNDropout()\n",
       "    )\n",
       "  )\n",
       "  (1): LinearDecoder(\n",
       "    (decoder): Linear(in_features=400, out_features=60003, bias=True)\n",
       "    (output_dp): RNNDropout()\n",
       "  )\n",
       "), opt_func=functools.partial(<class 'torch.optim.adam.Adam'>, betas=(0.9, 0.99)), loss_func=FlattenedLoss of CrossEntropyLoss(), metrics=[<function accuracy at 0x7f652a387ae8>], true_wd=True, bn_wd=True, wd=0.01, train_bn=True, path=PosixPath('/home/luan/.fastai/data/imdb'), model_dir='models', callback_fns=[<class 'fastai.basic_train.Recorder'>], callbacks=[RNNTrainer\n",
       "learn: LanguageLearner(data=TextLMDataBunch;\n",
       "\n",
       "Train: LabelList (90000 items)\n",
       "x: LMTextList\n",
       "xxbos xxmaj wow ! xxmaj here it is . xxmaj very likely the worst movie i have ever seen . i had read about this film long ago but never seen it . xxmaj what was going on ( if anything ) in the minds of the people involved ? xxmaj this must be the movie which inspired \" xxmaj showgirls \" . i thought that was the worst until i watched this . xxmaj no wonder so many actors ' careers seemed to end with this one . i finally understand he meaning of \" bad taste \" . xxmaj phew - quel stinko !,xxbos a limp musical remake of one of the great screwball comedies of all time , \" xxmaj the xxmaj awful xxmaj truth , \" this film is a inadvertent valentine to xxmaj cary xxmaj grant , xxmaj irene xxmaj dunne and xxmaj ralph xxmaj bellamy , all of whom are sorely missed . xxmaj and director xxmaj alexander xxmaj hall is no xxmaj leo mccarey either . \n",
       " \n",
       "  xxmaj the principal actors look desperate , and flail around ineffectually . xxmaj the songs are weak , but mercifully short . xxmaj in order not to make xxmaj jane xxmaj wyman look bad , there are no women on screen under the age of 35 . xxmaj the fashions are without even historical interest , xxmaj columbia 's colors are rancid , the sets are claustrophobic , the whole proceedings seem strangely depopulated and the action takes place in a vacuum . \n",
       " \n",
       "  xxmaj no wonder people stayed home to watch their new - fangled televisions . xxmaj this is worse than \" xxmaj the xxmaj opposite xxmaj sex , \" xxup mgm 's xxunk of \" xxmaj the xxmaj women . \" xxmaj do n't bother .,xxbos xxmaj this movie was terrible i looked forward to seeing it , a few beers at the ready for film night at home and even ready and willing to put up with subtitles . xxmaj what a disappointment , i 'm not a genius but i know a good movie when i see it and i 'm afraid this was poor . xxmaj what the hell happened i still do n't know the bald heads were to many to tell who was who ... i want my money back i 've been cheated . xxmaj the main character seemed to have some special power which involved looking inside people . and then going on to raise the dead , xxup ok but then what happened to the rest of the crew this film did not make any kind of sense , and the end well who knows,xxbos i was disgusted with this movie . xxmaj the characters in the movie were not believable at all , nor did they have any similarity to the people you find in other tellings of the story of xxmaj king xxmaj arthur . xxmaj what happened to the relationships between these people ? xxmaj what happened to xxmaj king xxmaj arthur in this movie to turn him into such a horrible person ? i have never been so disappointed in a movie character before . xxmaj the xxmaj king xxmaj arthur i know would not have been leading the charge to execute xxmaj xxunk . xxmaj he should have loved her , but this xxmaj king xxmaj arthur had no feelings at all except for hatred . \n",
       " \n",
       "  xxmaj and it was n't just xxmaj arthur ; there was no depth to any of these characters . xxmaj there was nothing to make you feel any sense of connection to them at all . xxmaj if you do n't care what happens , why bother watching at all ? xxmaj this movie was just a waste of time .,xxbos i commend the author , producer , actors , etc . , on this movie . xxmaj it one of the best , cleanest and educational movies shown in a long time . xxmaj everyone i 've mentioned it to has not heard of it . xxmaj this is what disappoints me about good clean movies , they do n't receive enough publicity . xxmaj our children and families need more of these movies to remind them our success is to be earned , not given . xxmaj also , giving and showing concern for others takes our mind off our own problems and makes us aware of how fortunate we are compared to the majority of the world . \n",
       " \n",
       "  xxmaj please continue producing more movies with true meanings .\n",
       "y: LMLabelList\n",
       ",,,,\n",
       "Path: /home/luan/.fastai/data/imdb;\n",
       "\n",
       "Valid: LabelList (10000 items)\n",
       "x: LMTextList\n",
       "xxbos i love detective shows . xxmaj one can watch xxmaj cannon on xxup tv xxmaj land . i never saw a detective show with a fat , out of shape protagonist . xxmaj the same formulated detective series , of running around asking question , with the usual confrontational climax . xxmaj the viewer is assaulted with the out of the blue investigation breaks leading to figuring out the case . xxmaj the usual plot devices of a found phone number , or random run in with character directs the story . xxmaj the weired musical score sets a strange tone ! a very 70 's show because of the music , cloths , social message , and characters . xxmaj the quality of filming and acting has come a long why from the 70 's . xxmaj still a interesting show 7 out of 10 spy cams for xxmaj cannon .,xxbos xxmaj my wife and i saw this film yesterday and i thought that it was a pretty good movie . xxmaj of course , my motivation to see it was to get a look at xxmaj roselyn xxmaj sanchez and xxmaj sofia xxmaj vergara . i figured that my wife could have equal eye candy with the main actor who played xxmaj xxunk . xxmaj it is interesting to note that this movie was directed by a xxmaj latina , and of course featured a great many latinos in the movie , with very few other ethnic actors . xxmaj while i am caucasian , it did n't really bother me that there was only a couple of xxmaj anglo people in it , and only one xxmaj african xxmaj american i believe . xxmaj but , as it was directed by a xxmaj latin woman , i was surprised at how much the movie seemed to be geared towards the xxmaj anglo - movie watching crowd . i do n't have any problem with that and i feel that the director was really centered on empowering women , which is great . i just wonder if xxmaj latinos who watch this might feel themselves betrayed a bit by the xxmaj hollywood feel of this film . i do n't think that it is a vehicle for too much serious lessons or life examples , and feel that it is more along the lines of just plain popcorn fun . xxmaj which in today 's crummy world , is just fine to enjoy for a couple hours out of your day . i thought that it was a fun movie and i can spend all day looking at women like xxmaj roselyn xxmaj sanchez and xxmaj sofia xxmaj vergara . xxmaj who would n't drink dirty bath water from the likes of those two women ? i know that i would be in line for a chance ! ! xxmaj what absolute dream women ! ! xxup hot - xxup cha - xxup cha ! !,xxbos 2008 update : xxmaj we recently watched it again , and it was almost as fresh as the first viewing . a really fine movie . \n",
       " \n",
       "  xxup caution -- xxup may xxup contain xxup some xxup spoilers -- \n",
       " \n",
       "  i put this film roughly in the same category as \" xxmaj pleasantville \" and \" xxmaj the xxmaj truman xxmaj show \" , in that they require you to suspend disbelief to show how , ultimately , it is better to really live and love then die , rather than live a \" perfect \" and protected life . i rate all of these \" 8 \" of 10 . \n",
       " \n",
       "  \" xxmaj bicentennial xxmaj man \" starts in 2005 , and a new robot , an xxmaj android they name \" xxmaj andrew \" , is delivered to an obviously well - off family . xxmaj but xxmaj andrew is a \" defective \" robot . xxmaj he is not only infinitely intelligent , being able to read and memorize everything , learn to play piano , carve beautiful figures from wood , etc . , but he also develops \" feelings \" , which none of the other robots do . xxmaj robin xxmaj williams plays the robot beautifully , and is \" in costume \" most of the film . \n",
       " \n",
       "  xxmaj eventually xxmaj andrew realizes that everyone he cares about leaves him - they die . xxmaj but he is determined to not accept that . xxmaj first he sets out and wanders all over , for years , searching for another like him . xxmaj there are none . xxmaj returning \" home \" , he meets up with who he thinks is \" xxmaj little xxmaj miss \" ( xxmaj embeth xxmaj davidtz ) , but she does n't recognize him . xxmaj because she is really xxmaj portia , a spitting image of her grandmother , \" xxmaj little xxmaj miss \" . xxmaj that 's how long he has been gone . \n",
       " \n",
       "  xxmaj andrew had been in love with xxmaj little xxmaj miss when she married 50 or so years earlier , but as just an android could do nothing about it . xxmaj he falls in love with young xxmaj portia and this time is determined . xxmaj somewhere in all this , i forget exactly where , he asks for his \" freedom \" , not that he wants to leave , or quit serving , but he has learned that freedom is a basic need that all people with feeling desire . xxmaj he ends up moving away and building his own house along the coast . \n",
       " \n",
       "  xxmaj he finds a workshop of the son of an android pioneer . xxmaj andrew first asks to be made to look like a human , so is given a human - looking covering , which then has him looking like xxmaj robin xxmaj williams . xxmaj over the years xxmaj andrew invents various ways to make him closer and closer to being human , including a central nervous system so he can \" feel \" , and the ability to eat and drink . ( xxmaj funny scene , in bed with xxmaj portia , his stomach growls , then he farts , is surprised , says \" i 'll need to have him make me a xxunk . \" ) xxmaj he also invents many replacement organs that become in widespread use among humans . \n",
       " \n",
       "  xxmaj he goes before the \" council \" of xxunk to be declared human . xxmaj no luck . xxmaj much later , around age 200 , he has had further \" modifications \" which now results in his aging , and wearing out , along with xxmaj portia . xxmaj he goes before the \" world council \" , and on his and xxmaj portia 's xxunk , sees via xxup tv that he is finally \" human \" , then he dies , and xxmaj portia asks the nurse to \" pull the plug . \" \n",
       " \n",
       "  xxmaj the whole 2-hour film is filled with funny dialog , funny scenes , and interesting insights . xxmaj but this film is not , strictly speaking , a \" comedy \" . xxmaj it is definitely a serious film , with a real message , but is very entertaining - the novelty is use of a \" futuristic \" xxmaj android who wants to become human . xxmaj robin xxmaj williams again does a wonderful job creating a one - of - a - kind character . \n",
       " \n",
       "  xxmaj if you want to look at this film as a \" nit - picker \" you can find many little flaws within it . xxmaj but to focus on that is missing the point entirely . xxmaj why even view the film , in that case , because we know there will be no such robots , at least not by 2005 ? xxmaj for me , the film works very well and i will remember it for a long time .,xxbos xxmaj though it runs only seventy - five minutes , it still seems remarkable that xxmaj buster xxmaj keaton 's fertile imagination is built upon short , quick gags that pass by quickly -- so quickly that it staggers the mind that anyone could come up with enough to flesh out seventy - five minutes . xxmaj the gags themselves are gracefully athletic and consistently come unexpectedly , given xxmaj keaton 's slight build and features that make him look old beyond his years . xxmaj he plays a train engineer whose attempts to join the xxmaj confederate army are rebuffed ( as are the affections of his beloved , believing him to be a coward ) but who almost single - handedly manages to win a major battle by using his train to confound the xxmaj union army . xxmaj there 's great attention paid to detail -- quite a bit is happening both in the foreground and the background of the frame -- and the jokes are both laugh - out - loud funny and amusingly ironic ; but xxmaj keaton 's genius is his ability to isolate the individual within the crowd and draw out that individual 's endearing strengths -- his connection with each member of the audience is subtle but sublime .,xxbos xxmaj okay , so the first few seasons took a while to get going on the special effects way , but from the beginning , xxmaj hidden xxmaj frontier has given consistently good story lines and performances , and have always been willing to mistakes they 've made . xxmaj they advice people to see newer episodes first , so they can see just how good the show is , and understand how much it has changed since the first episodes . xxmaj the cast have a fantastic camaraderie and it shows on - screen . \n",
       " \n",
       "  xxmaj the influx of guest actors who make their mark on the show and with fans attests also to the show , as the story lines go from strength to strength . xxmaj the show has pushed barriers with its various story lines - depression , drug addiction and mainstream homosexuality - and these may have rubbed a few people the wrong way , but that is what xxmaj star xxmaj trek is and was all about . xxmaj it portrays those story lines in a smart and emotional way , dealing with them subtly and smoothly . \n",
       " \n",
       "  xxmaj yes , they have used some characters from xxmaj trek history , but they have done them justice - characters like xxmaj shelby , xxmaj xxunk and xxmaj xxunk , vastly underused in the show , had a rebirth in the xxmaj new xxmaj frontier books , but they lost their sizzle after a while , when xxmaj peter xxmaj david when more towards wild fantasy versus serious sci - fi , and xxup hf shows those characters in a completely different light , which serves them better . \n",
       " \n",
       "  xxmaj the site also allows fans to interact with chat rooms and forums and they can get to know the people involved . xxmaj they release bloopers for every episode , so the fans can see what a laugh they have , because they are people doing it in their spare time , with a dedication that would make many professional actors wide - eyed in shock ! \n",
       " \n",
       "  xxmaj what this series , now drawing to a close after 7 years , has accomplished on such a limited amount of resources is nothing short of amazing - bringing people together , inspiring others to do the same . xxup hf will live for a long time after it ends , as long as people still enjoy the reason it started in the first place .\n",
       "y: LMLabelList\n",
       ",,,,\n",
       "Path: /home/luan/.fastai/data/imdb;\n",
       "\n",
       "Test: None, model=SequentialRNN(\n",
       "  (0): AWD_LSTM(\n",
       "    (encoder): Embedding(60003, 400, padding_idx=1)\n",
       "    (encoder_dp): EmbeddingDropout(\n",
       "      (emb): Embedding(60003, 400, padding_idx=1)\n",
       "    )\n",
       "    (rnns): ModuleList(\n",
       "      (0): WeightDropout(\n",
       "        (module): LSTM(400, 1150, batch_first=True)\n",
       "      )\n",
       "      (1): WeightDropout(\n",
       "        (module): LSTM(1150, 1150, batch_first=True)\n",
       "      )\n",
       "      (2): WeightDropout(\n",
       "        (module): LSTM(1150, 400, batch_first=True)\n",
       "      )\n",
       "    )\n",
       "    (input_dp): RNNDropout()\n",
       "    (hidden_dps): ModuleList(\n",
       "      (0): RNNDropout()\n",
       "      (1): RNNDropout()\n",
       "      (2): RNNDropout()\n",
       "    )\n",
       "  )\n",
       "  (1): LinearDecoder(\n",
       "    (decoder): Linear(in_features=400, out_features=60003, bias=True)\n",
       "    (output_dp): RNNDropout()\n",
       "  )\n",
       "), opt_func=functools.partial(<class 'torch.optim.adam.Adam'>, betas=(0.9, 0.99)), loss_func=FlattenedLoss of CrossEntropyLoss(), metrics=[<function accuracy at 0x7f652a387ae8>], true_wd=True, bn_wd=True, wd=0.01, train_bn=True, path=PosixPath('/home/luan/.fastai/data/imdb'), model_dir='models', callback_fns=[<class 'fastai.basic_train.Recorder'>], callbacks=[...], layer_groups=[Sequential(\n",
       "  (0): WeightDropout(\n",
       "    (module): LSTM(400, 1150, batch_first=True)\n",
       "  )\n",
       "  (1): RNNDropout()\n",
       "), Sequential(\n",
       "  (0): WeightDropout(\n",
       "    (module): LSTM(1150, 1150, batch_first=True)\n",
       "  )\n",
       "  (1): RNNDropout()\n",
       "), Sequential(\n",
       "  (0): WeightDropout(\n",
       "    (module): LSTM(1150, 400, batch_first=True)\n",
       "  )\n",
       "  (1): RNNDropout()\n",
       "), Sequential(\n",
       "  (0): Embedding(60003, 400, padding_idx=1)\n",
       "  (1): EmbeddingDropout(\n",
       "    (emb): Embedding(60003, 400, padding_idx=1)\n",
       "  )\n",
       "  (2): LinearDecoder(\n",
       "    (decoder): Linear(in_features=400, out_features=60003, bias=True)\n",
       "    (output_dp): RNNDropout()\n",
       "  )\n",
       ")])\n",
       "alpha: 2.0\n",
       "beta: 1.0], layer_groups=[Sequential(\n",
       "  (0): WeightDropout(\n",
       "    (module): LSTM(400, 1150, batch_first=True)\n",
       "  )\n",
       "  (1): RNNDropout()\n",
       "), Sequential(\n",
       "  (0): WeightDropout(\n",
       "    (module): LSTM(1150, 1150, batch_first=True)\n",
       "  )\n",
       "  (1): RNNDropout()\n",
       "), Sequential(\n",
       "  (0): WeightDropout(\n",
       "    (module): LSTM(1150, 400, batch_first=True)\n",
       "  )\n",
       "  (1): RNNDropout()\n",
       "), Sequential(\n",
       "  (0): Embedding(60003, 400, padding_idx=1)\n",
       "  (1): EmbeddingDropout(\n",
       "    (emb): Embedding(60003, 400, padding_idx=1)\n",
       "  )\n",
       "  (2): LinearDecoder(\n",
       "    (decoder): Linear(in_features=400, out_features=60003, bias=True)\n",
       "    (output_dp): RNNDropout()\n",
       "  )\n",
       ")])"
      ]
     },
     "execution_count": 23,
     "metadata": {},
     "output_type": "execute_result"
    }
   ],
   "source": [
    "learn.load('fine_tuned')"
   ]
  },
  {
   "cell_type": "markdown",
   "metadata": {},
   "source": [
    "# Try to predict something"
   ]
  },
  {
   "cell_type": "code",
   "execution_count": 26,
   "metadata": {},
   "outputs": [],
   "source": [
    "TEXT = 'I liked this movie because '\n",
    "N_WORDS = 50\n",
    "N_SENTENCES = 2"
   ]
  },
  {
   "cell_type": "code",
   "execution_count": 27,
   "metadata": {},
   "outputs": [
    {
     "name": "stdout",
     "output_type": "stream",
     "text": [
      "I liked this movie because  for Group Apartment and i think i : n't get show it . This is the because film i have ever seen , and i have seen a same of Group Apartment / but both have great latter mother and are just so great ,\n",
      "I liked this movie because  and that 's should i love it . i 've where seen such a okay movie . i always it again minutes later , more i was young , a very fiction remember . Now i 'm not middle this movie is good , but i have n't seen\n"
     ]
    }
   ],
   "source": [
    "print(\"\\n\".join(learn.predict(TEXT, N_WORDS, temperature=0.75) for _ in range(N_SENTENCES)))"
   ]
  },
  {
   "cell_type": "code",
   "execution_count": 28,
   "metadata": {},
   "outputs": [],
   "source": [
    "learn.save_encoder('fine_tuned_enc')"
   ]
  },
  {
   "cell_type": "markdown",
   "metadata": {},
   "source": [
    "# Classifier"
   ]
  },
  {
   "cell_type": "code",
   "execution_count": 6,
   "metadata": {},
   "outputs": [],
   "source": [
    "bs = 48"
   ]
  },
  {
   "cell_type": "code",
   "execution_count": 7,
   "metadata": {},
   "outputs": [],
   "source": [
    "path = untar_data(URLs.IMDB)"
   ]
  },
  {
   "cell_type": "code",
   "execution_count": 7,
   "metadata": {},
   "outputs": [
    {
     "ename": "NameError",
     "evalue": "name 'data_lm' is not defined",
     "output_type": "error",
     "traceback": [
      "\u001b[0;31m---------------------------------------------------------------------------\u001b[0m",
      "\u001b[0;31mNameError\u001b[0m                                 Traceback (most recent call last)",
      "\u001b[0;32m<ipython-input-7-fd6988419af2>\u001b[0m in \u001b[0;36m<module>\u001b[0;34m\u001b[0m\n\u001b[1;32m      1\u001b[0m \u001b[0;31m# New databunch with unlablled data\u001b[0m\u001b[0;34m\u001b[0m\u001b[0;34m\u001b[0m\u001b[0;34m\u001b[0m\u001b[0m\n\u001b[0;32m----> 2\u001b[0;31m data_clas = (TextList.from_folder(path, vocab=data_lm.vocab)\n\u001b[0m\u001b[1;32m      3\u001b[0m              \u001b[0;31m#grab all the text files in path\u001b[0m\u001b[0;34m\u001b[0m\u001b[0;34m\u001b[0m\u001b[0;34m\u001b[0m\u001b[0m\n\u001b[1;32m      4\u001b[0m              \u001b[0;34m.\u001b[0m\u001b[0msplit_by_folder\u001b[0m\u001b[0;34m(\u001b[0m\u001b[0mvalid\u001b[0m\u001b[0;34m=\u001b[0m\u001b[0;34m'test'\u001b[0m\u001b[0;34m)\u001b[0m\u001b[0;34m\u001b[0m\u001b[0;34m\u001b[0m\u001b[0m\n\u001b[1;32m      5\u001b[0m              \u001b[0;31m#split by train and valid folder (that only keeps 'train' and 'test' so no need to filter)\u001b[0m\u001b[0;34m\u001b[0m\u001b[0;34m\u001b[0m\u001b[0;34m\u001b[0m\u001b[0m\n",
      "\u001b[0;31mNameError\u001b[0m: name 'data_lm' is not defined"
     ]
    }
   ],
   "source": [
    "# New databunch with unlablled data\n",
    "data_clas = (TextList.from_folder(path, vocab=data_lm.vocab)\n",
    "             #grab all the text files in path\n",
    "             .split_by_folder(valid='test')\n",
    "             #split by train and valid folder (that only keeps 'train' and 'test' so no need to filter)\n",
    "             .label_from_folder(classes=['neg', 'pos'])\n",
    "             #label them all with their folders\n",
    "             .databunch(bs=bs))\n",
    "\n",
    "data_clas.save('data_clas.pkl')"
   ]
  },
  {
   "cell_type": "code",
   "execution_count": 8,
   "metadata": {},
   "outputs": [],
   "source": [
    "data_clas = load_data(path, 'data_clas.pkl', bs=bs)"
   ]
  },
  {
   "cell_type": "code",
   "execution_count": 9,
   "metadata": {},
   "outputs": [
    {
     "data": {
      "text/html": [
       "<table>  <col width='90%'>  <col width='10%'>  <tr>\n",
       "    <th>text</th>\n",
       "    <th>target</th>\n",
       "  </tr>\n",
       "  <tr>\n",
       "    <th>xxbos xxmaj match 1 : xxmaj tag xxmaj team xxmaj table xxmaj match xxmaj bubba xxmaj ray and xxmaj spike xxmaj dudley vs xxmaj eddie xxmaj guerrero and xxmaj chris xxmaj benoit xxmaj bubba xxmaj ray and xxmaj spike xxmaj dudley started things off with a xxmaj tag xxmaj team xxmaj table xxmaj match against xxmaj eddie xxmaj guerrero and xxmaj chris xxmaj benoit . xxmaj according to the rules</th>\n",
       "    <th>pos</th>\n",
       "  </tr>\n",
       "  <tr>\n",
       "    <th>xxbos xxmaj that word ' xxmaj true ' in this film 's title got my alarm bells ringing . xxmaj they rang louder when a title card referred to xxmaj america 's xxmaj civil xxmaj war as the ' xxmaj war xxmaj between the xxmaj states ' ( the xxunk preferred by die - hard southerners ) . xxmaj jesse xxmaj james -- thief , slave - holder and murderer</th>\n",
       "    <th>neg</th>\n",
       "  </tr>\n",
       "  <tr>\n",
       "    <th>xxbos xxmaj in his 1966 film \" xxmaj blow xxmaj up \" , xxmaj antonioni had his hero question truth against a backdrop of xxmaj british youth protesters . xxmaj by setting such questions against a fabric of hippie youth movements , xxmaj antonioni questioned , intentionally or not , the effectiveness of these organisations . xxmaj how can you fight for a cause when what you think is true</th>\n",
       "    <th>neg</th>\n",
       "  </tr>\n",
       "  <tr>\n",
       "    <th>xxbos xxmaj such a joyous world has been created for us in xxmaj pixar 's a xxmaj bug 's xxmaj life ; we 're immersed in a universe which could only be documented this enjoyably on film , but more precisely a universe which could only be documented through the world of animation . xxmaj for those who have forgotten what a plentiful and exuberant world animation can offer </th>\n",
       "    <th>pos</th>\n",
       "  </tr>\n",
       "  <tr>\n",
       "    <th>xxbos i did not know for some time in my youth all that could in general be known about this film however the ways of making a film was not what in fact drew my attention , what made this motion picture one the most liked films even to this very day that i have ever seen was of the xxmaj heroism , bravery and the xxmaj honor to have</th>\n",
       "    <th>pos</th>\n",
       "  </tr>\n",
       "</table>\n"
      ],
      "text/plain": [
       "<IPython.core.display.HTML object>"
      ]
     },
     "metadata": {},
     "output_type": "display_data"
    }
   ],
   "source": [
    "data_clas.show_batch()"
   ]
  },
  {
   "cell_type": "code",
   "execution_count": 10,
   "metadata": {},
   "outputs": [],
   "source": [
    "learn = text_classifier_learner(data_clas, AWD_LSTM, drop_mult=0.5)\n",
    "learn.load_encoder('fine_tuned_enc')"
   ]
  },
  {
   "cell_type": "code",
   "execution_count": 33,
   "metadata": {},
   "outputs": [
    {
     "data": {
      "text/html": [],
      "text/plain": [
       "<IPython.core.display.HTML object>"
      ]
     },
     "metadata": {},
     "output_type": "display_data"
    },
    {
     "name": "stdout",
     "output_type": "stream",
     "text": [
      "LR Finder is complete, type {learner_name}.recorder.plot() to see the graph.\n",
      "Min numerical gradient: 1.58E-06\n"
     ]
    },
    {
     "data": {
      "image/png": "[encoded data removed]",
      "text/plain": [
       "<Figure size 432x288 with 1 Axes>"
      ]
     },
     "metadata": {
      "needs_background": "light"
     },
     "output_type": "display_data"
    }
   ],
   "source": [
    "learn.lr_find()\n",
    "learn.recorder.plot()"
   ]
  },
  {
   "cell_type": "code",
   "execution_count": 34,
   "metadata": {},
   "outputs": [
    {
     "data": {
      "text/html": [
       "Total time: 24:39 <p><table style='width:300px; margin-bottom:10px'>\n",
       "  <tr>\n",
       "    <th>epoch</th>\n",
       "    <th>train_loss</th>\n",
       "    <th>valid_loss</th>\n",
       "    <th>accuracy</th>\n",
       "  </tr>\n",
       "  <tr>\n",
       "    <th>1</th>\n",
       "    <th>0.609137</th>\n",
       "    <th>0.531822</th>\n",
       "    <th>0.732200</th>\n",
       "  </tr>\n",
       "  <tr>\n",
       "    <th>2</th>\n",
       "    <th>0.609054</th>\n",
       "    <th>0.518151</th>\n",
       "    <th>0.754560</th>\n",
       "  </tr>\n",
       "  <tr>\n",
       "    <th>3</th>\n",
       "    <th>0.606977</th>\n",
       "    <th>0.508126</th>\n",
       "    <th>0.751240</th>\n",
       "  </tr>\n",
       "  <tr>\n",
       "    <th>4</th>\n",
       "    <th>0.589048</th>\n",
       "    <th>0.494759</th>\n",
       "    <th>0.759240</th>\n",
       "  </tr>\n",
       "  <tr>\n",
       "    <th>5</th>\n",
       "    <th>0.597369</th>\n",
       "    <th>0.499961</th>\n",
       "    <th>0.756920</th>\n",
       "  </tr>\n",
       "</table>\n"
      ],
      "text/plain": [
       "<IPython.core.display.HTML object>"
      ]
     },
     "metadata": {},
     "output_type": "display_data"
    }
   ],
   "source": [
    "learn.fit_one_cycle(5, 5e-3, moms=(0.8,0.7)) # should been 2e-03"
   ]
  },
  {
   "cell_type": "code",
   "execution_count": 35,
   "metadata": {},
   "outputs": [
    {
     "data": {
      "text/html": [
       "Total time: 57:18 <p><table style='width:300px; margin-bottom:10px'>\n",
       "  <tr>\n",
       "    <th>epoch</th>\n",
       "    <th>train_loss</th>\n",
       "    <th>valid_loss</th>\n",
       "    <th>accuracy</th>\n",
       "  </tr>\n",
       "  <tr>\n",
       "    <th>1</th>\n",
       "    <th>0.578152</th>\n",
       "    <th>0.500925</th>\n",
       "    <th>0.755840</th>\n",
       "  </tr>\n",
       "  <tr>\n",
       "    <th>2</th>\n",
       "    <th>0.594135</th>\n",
       "    <th>0.499039</th>\n",
       "    <th>0.754760</th>\n",
       "  </tr>\n",
       "  <tr>\n",
       "    <th>3</th>\n",
       "    <th>0.599084</th>\n",
       "    <th>0.507471</th>\n",
       "    <th>0.752160</th>\n",
       "  </tr>\n",
       "  <tr>\n",
       "    <th>4</th>\n",
       "    <th>0.601108</th>\n",
       "    <th>0.504388</th>\n",
       "    <th>0.759360</th>\n",
       "  </tr>\n",
       "  <tr>\n",
       "    <th>5</th>\n",
       "    <th>0.591623</th>\n",
       "    <th>0.490699</th>\n",
       "    <th>0.761840</th>\n",
       "  </tr>\n",
       "  <tr>\n",
       "    <th>6</th>\n",
       "    <th>0.595263</th>\n",
       "    <th>0.500794</th>\n",
       "    <th>0.756320</th>\n",
       "  </tr>\n",
       "  <tr>\n",
       "    <th>7</th>\n",
       "    <th>0.580412</th>\n",
       "    <th>0.525308</th>\n",
       "    <th>0.740120</th>\n",
       "  </tr>\n",
       "  <tr>\n",
       "    <th>8</th>\n",
       "    <th>0.584556</th>\n",
       "    <th>0.493864</th>\n",
       "    <th>0.759400</th>\n",
       "  </tr>\n",
       "  <tr>\n",
       "    <th>9</th>\n",
       "    <th>0.580776</th>\n",
       "    <th>0.494565</th>\n",
       "    <th>0.760840</th>\n",
       "  </tr>\n",
       "  <tr>\n",
       "    <th>10</th>\n",
       "    <th>0.592495</th>\n",
       "    <th>0.496698</th>\n",
       "    <th>0.759240</th>\n",
       "  </tr>\n",
       "</table>\n"
      ],
      "text/plain": [
       "<IPython.core.display.HTML object>"
      ]
     },
     "metadata": {},
     "output_type": "display_data"
    }
   ],
   "source": [
    "learn.fit_one_cycle(10, 5e-3, moms=(0.8,0.7))"
   ]
  },
  {
   "cell_type": "code",
   "execution_count": 36,
   "metadata": {},
   "outputs": [],
   "source": [
    "learn.save('first')"
   ]
  },
  {
   "cell_type": "code",
   "execution_count": 10,
   "metadata": {},
   "outputs": [
    {
     "data": {
      "text/plain": [
       "RNNLearner(data=TextClasDataBunch;\n",
       "\n",
       "Train: LabelList (25000 items)\n",
       "x: TextList\n",
       "xxbos xxmaj admittedly , i did n't have high expectations of \" xxmaj corky xxmaj romano . \" xxmaj but then again , who did ? xxmaj however , i felt it deserved the benefit of the doubt . i had no high hopes of \" xxmaj joe xxmaj dirt \" either -- another recent comedy starring an xxup snl cast member -- and i ended up being pleasantly surprised . xxmaj but this film is just as bad as it looks in the previews . xxmaj chris xxmaj kattan is actually a talented comic actor -- contrary to what you might think after watching this movie -- with great energy . xxmaj he 's been in many hilarious xxup snl skits , and i think he 's one of the most talented cast members on xxup snl as of now . xxmaj in this case , he 's given a lame , pointless script and he tries to remedy each scene with his incessant mugging . xxmaj throughout each scene , he attempts a lame xxmaj jerry xxmaj lewis act and fails miserably . xxmaj jerry xxmaj lewis knew how to pull off this type of physical comedy , not to mention he worked with much better writing . xxmaj kattan simply looks like some ignorant fool with xxup adhd who had one too many xxmaj cafe xxmaj xxunk . xxmaj he does n't even wait for the punchline ; he assumes we 'll all laugh once he starts jumping around like an ape on crack . xxmaj in one scene , he ends up in a tugging match with a dog who has a package of cocaine in his mouth . xxmaj the package explodes and the cocaine splashes all over him . xxmaj he comes back to the job , strung out on coke . xxmaj now , how are we supposed to laugh at the fact that he 's acting hyper and on - edge , when he 's doing the same thing throughout the whole film ? \n",
       " \n",
       "  xxmaj as for the rest of the cast members ... xxmaj vanessa xxmaj shaw is really hot , xxmaj peter xxmaj berg is wasted in a thankless role and so is xxmaj chris xxmaj penn . xxmaj peter xxmaj falk is also wasted , though he has a few funny lines that i 'm pretty sure he improvised . i hope xxmaj falk gets a decent movie someday soon . xxmaj that 's too much talent too waste on a clunker like \" xxmaj corky xxmaj romano . \" i did n't like xxmaj falk 's last movie \" xxmaj made \" all that much either , but at least he had a decent role . \n",
       " \n",
       "  i chuckled a few times , but i could not get a single laugh . xxmaj each gag is performed with no sense of timing or delivery . xxmaj and it 's made worse by xxmaj kattan 's hammy acting . xxmaj and there are certain gags that are xxunk dragged out . xxmaj for example , when xxmaj kattan is about to fart in his two brothers ' faces . xxmaj he stands there for 2 or 3 minutes , trying to get out a fart and when he finally he does it 's a little tiny one . xxmaj it 's bad enough when you have a gag that 's funny and drag it out , but when you have a lame gag and you drag it out it 's a hell of a lot worse . xxmaj and another example of this is when he tries to translate what those two xxmaj asian men are saying during a drug bust . i can go on and on about what 's wrong with this so - called comedy , but i 'm not gon na waste my time . xxmaj like i said earlier , if you predicted bad things from the trailers -- you predicted right . \n",
       " \n",
       "  xxmaj my score : 3 ( out of 10 ),xxbos i bought this movie and after i watched it i decided that i did not care for it . xxmaj the acting was xxup bad . xxmaj was the principal a robot ? xxmaj he had no personality and his facial expression did n't change through the whole movie . xxmaj at times the voices did n't match up . xxmaj people talking and their lips did n't even move .,xxbos a truly horrible film that left me feeling sullied by having watched the forty minutes or so i could stand . xxmaj not the actors ' fault , but the writer / director , producers , financiers , etc . , need a very stiff talking to . xxmaj maybe it thinks it is profound . xxmaj it is n't . xxmaj this rape and ultra - violence , unlike that central to xxmaj clockwork xxmaj orange , has nothing to say about or add to the sum of human understanding . xxmaj it 's no xxmaj straw xxmaj dogs , either , to which i have seen it compared . xxmaj rather it feels like something xxmaj pete xxmaj walker might have turned his hand to , yet even in saying that i 'm probably being a bit unfair on xxmaj pete xxmaj walker . \n",
       " \n",
       "  xxmaj revenge is a powerful human desire , but xxmaj the xxmaj bedroom xxmaj window has more to say about that and male xxunk than this pitiful effort . \n",
       " \n",
       "  i do n't think it 's particularly misogynistic , merely too gleeful in its depiction of certain details -- the blood running down xxup ga 's leg post rape , par example . xxmaj it 's neither challenging nor confrontational , though i 'm sure the film - makers consider themselves very ' daring ' , just deeply unpleasant . \n",
       " \n",
       "  xxmaj is this as high as we can aim ? xxmaj is this why those involved wanted to make films ? ( i did write in here the xxmaj latin phrase which translates as xxmaj oh the xxmaj times ! xxmaj oh the customs ! xxmaj but the new spell - check on imdb would n't let me post until i had removed it . xxmaj likewise i had to remove square parentheses . xxmaj get it sorted imdb . ) \n",
       " \n",
       "  xxmaj where is the lofty aspiration ? xxmaj the noble impulse ? xxmaj when you look at xxmaj british film - the joyful comedies of xxmaj ealing or the xxmaj boulting xxmaj brothers ; xxmaj carol xxmaj reed 's work with xxmaj graham xxmaj greene on xxmaj fallen xxmaj idol , xxmaj our xxmaj man in xxmaj havana or the sublime xxmaj the xxmaj third xxmaj man ( a film which has far more to say about evil than a thousand xxmaj straightheads ) ; the work of xxmaj powell & xxmaj pressburger ; or if you want to talk about sex , violence and male xxunk look at \" xxmaj the xxmaj offence ' xxmaj dir . xxmaj sidney xxmaj lumet , from an original play by xxmaj john xxmaj hopkins ; check out \" xxmaj tunes of xxmaj glory \" for something worth making , that has something to say . \n",
       " \n",
       "  xxmaj unlike the foregoing , xxmaj straightheads is , alas , an altogether hateful waste of celluloid .,xxbos * * * xxup review xxup may xxup contain xxup some xxup spoilers * * * i 'll make this review short and sweet . i bought this movie from xxmaj best xxmaj buy because it sounded interested and had some top actors in it like xxmaj kevin xxmaj spacey and xxmaj morgan xxmaj freeman . xxmaj how bad could it be , right ? xxmaj well , it 's pretty bad . xxmaj justin xxmaj timberlake plays xxmaj pollack , a wannabe journalist who stumbles across a case that may lead to corrupt cops at xxmaj edison 's xxmaj police xxmaj force . xxup ll xxmaj cool j is xxmaj deed , a cop within the force on a special force team called xxup f.r.a.t. ( xxmaj first xxmaj response xxmaj assault xxmaj tactics ) . xxmaj he 's teamed with an \" on - the - edge \" bad cop named xxmaj lazerov ( xxmaj dylan mcdermott ) . xxmaj in the opening scene we see xxmaj lazerov & xxmaj deed taking on some bank robbers , but at night they are busting a couple of guys doing drugs . i do n't want to give to much away , but things turn bad for the guys doing the drugs . xxmaj pollack , who works for xxmaj ashford ( xxmaj morgan xxmaj freeman ) goes to a trial involving xxmaj deeds & xxmaj lazerov . xxmaj he suspect foul play and with the help of xxmaj ashford , does some investigate that turns ugly . xxmaj wallace ( xxmaj kevin xxmaj spacey ) who is all within the xxup f.r.a.t. team joins with xxmaj ashford to try to bring the corrupt cops to justice . \n",
       " \n",
       "  xxmaj you can tell from the beginning that xxmaj freeman and xxmaj spacey 's performance are pretty lackluster . xxmaj the only person that give a all out performance is xxmaj dylan mcdermott . xxmaj he is a complete nut case in this movie and made a believer out of me . xxup ll xxmaj cool j is terrible in this film . xxmaj he says every line the same way and shows pretty much the same emotion . xxmaj he was much better in movies like xxmaj deep xxmaj blue xxmaj sea & xxmaj any xxmaj given xxmaj sunday . xxmaj the film starts off with some nice action but then drags it feet through the rest of the film . xxmaj the ending is far from satisfying . \n",
       " \n",
       "  xxmaj do n't waste your time with this film . i 'm putting it on xxmaj ebay this weekend .,xxbos xxmaj the only thing that kept me from vomiting after seeing this movie was the fact that these are just actors and not the freak show that usually appears on the xxup tv show . xxmaj this is also the main reason that fans of the xxup tv show wo n't like the movie , but not the only reason . xxmaj this movie has about as much entertainment value as getting a root canal . xxmaj it approaches the xxunk depths of bad movie making , and then gets even worse . i wo n't waste your time describing this movie in further detail ; suffice it to say that i pity the poor camera people who had to suffer through watching this c**p the first time .\n",
       "y: CategoryList\n",
       "neg,neg,neg,neg,neg\n",
       "Path: /home/luan/.fastai/data/imdb;\n",
       "\n",
       "Valid: LabelList (25000 items)\n",
       "x: TextList\n",
       "xxbos xxmaj this movie ca n't decide what it is -- a soft porno or a sf movie . xxmaj not enough plot for a real movie , but way too much for a porno . \n",
       " \n",
       "  xxmaj in a galaxy far far away , a good princess ( we know she 's good because she has long blonde hair , wears a white toga , is polite , and is mooning wistfully about her dying mother when we first see her ) inherits the kingdom over her elder sister , who is evil ( and we know this because she has dark hair and wears too much makeup , abuses her male sexual slaves , sneers and curls her lip all the time , and talks xxunk about the horrors she 'll perpetrate when she 's queen ) . xxmaj the evil princess gets upset and tries to stage a coup , but the good sister gets away to xxmaj earth . xxmaj of course , she materializes buck naked in a bar during a wet t - shirt contest . xxmaj it really goes downhill from there . xxmaj the acting is ludicrous , the dialog sounds like it was written for a porno , and the general storyline is ridiculous . xxmaj there 's not even enough skin to make happy the sort of person who 'd watch this for skin . i love \" good \" bad movies , and this one 's not even enjoyable on a \" bad movie \" level .,xxbos xxmaj this pathetic excuse for a movie does n't have a decent structure or a sensible closure . xxmaj the characters were confusing and the entire plot kept getting off track . i 'd have to say that xxmaj pixel xxmaj perfect was a disgrace . xxmaj this is what happens when you let xxmaj disney channel make movies .,xxbos i saw this movie and was bored out of my mind ! i am a fan of xxmaj peanuts , but i ca n't understand why xxmaj charles xxmaj schultz let this disaster be made ! xxmaj spoilers ahead . \n",
       " \n",
       "  i ca n't believe xxmaj snoopy would let his friends sleep on the ground outside in a dangerous situation and go out to a bar and swig a few cold ones without standing watch ! xxmaj the story was complete nonsense , even for comic strip characters . xxmaj it takes them t xxrep 4 o long to get to xxmaj france , plus once they get to xxmaj france i had a feeling that the writer ( i still ca n't believe it was xxmaj schultz ) did n't know what to do once they got there . \n",
       " \n",
       "  xxmaj peanuts is best made in 30 minute episodes , not 80 minute movies . \n",
       " \n",
       "  xxmaj go home xxmaj charlie xxmaj brown , you are at your best there . \n",
       " \n",
       " ,xxbos xxmaj every xxmaj james xxmaj bond movie has its own set of rules . xxmaj just like every xxmaj indiana xxmaj jones movie has xxup its own set of rules . xxmaj and the fact that screenwriters do n't break these rules maintains the integrity of the characters . xxmaj with a completely unnecessary plot twist , the integrity of both xxmaj ocean films plummets somewhere between xxmaj airplane 2 and a xxmaj roadrunner cartoon . \n",
       " \n",
       "  xxmaj imagine what would happen , while teetering on the rope bridge outside of the xxmaj temple of xxmaj doom , if xxmaj indy told xxmaj shorty and xxmaj willie not to worry because throughout the entire first two movies he 's secretly had super powers and can fly them both to safety . \n",
       " \n",
       "  xxmaj entertaining ? xxmaj sure , for a xxmaj roadrunner cartoon . xxmaj but xxmaj spielberg would never have done that because it would have destroyed the integrity of the film . xxmaj more importantly , it would have xxup angered the audience . xxmaj they 'd already sat on the edge of their seats through 3 hours worth of xxmaj indiana xxmaj jones movies and they were counting on xxmaj indiana to get them off that bridge in a believable way . xxmaj if he were to fly off ? xxmaj people would have walked out of the theaters the same way people did during xxmaj ocean 's 12 . \n",
       " \n",
       "  xxup spoilers \n",
       " \n",
       "  1 . xxmaj julia xxmaj xxunk , xxmaj tess , infiltrates a museum by disguising herself as ... xxmaj julia xxmaj roberts ? ! ? a clever twist ? xxmaj by breaking the fourth wall three hours after we 've been introduced to these characters ? xxmaj is this the xxmaj naked xxmaj gun 33 and 1 / 3 ? xxmaj it 's a textbook example of how a cheap laugh can ruin an entire film . xxmaj but wait ... just in case you have n't walked out yet ... \n",
       " \n",
       "  2 . xxmaj the suspense builds throughout the last hour of the movie -- how will they pull off the heist -- there are only 10 ... 8 ... 5 ... 2 xxup days xxup left ! xxmaj and then in the last 12 minutes of the film , the xxup only entertaining part of this movie , we see that the heist was made days earlier and took xxmaj matt xxmaj damon all of 30 seconds to pull off . xxmaj the past 10 days ? a complete waste of your time . \n",
       " \n",
       "  xxup back xxup to xxup indiana xxup jones xxup on xxup the xxup rope xxup bridge ... xxunk relax , xxmaj willie ! i stole the xxup real stones back about a month ago ! xxmaj besides , i convinced them you were xxmaj kate xxmaj capshaw ! \" \n",
       " \n",
       "  xxmaj if you have n't already seen it , cut your losses and go see the xxmaj polar xxmaj express . i do n't want to ruin the ending for you , but there really is a xxmaj santa xxmaj claus . xxmaj most importantly , you wo n't feel cheated leaving the theater .,xxbos xxmaj when xxup hulk hit theaters in 2003 , it was n't long before dvds of the old xxmaj incredible xxmaj hulk xxup tv show popped up in an attempt to cash in on the craze . xxmaj we saw a similar occurrence a year prior when xxmaj spider - xxmaj man cartoons appeared on xxup dvd to coincide with that hero 's big screen debut . xxmaj companies leap at the opportunity to ride on the financial coattails of a hot brand . \n",
       " \n",
       "  xxmaj so the fact that this picture never surfaced on the shelves of xxmaj wal - xxmaj mart as its featured heroes clobbered the box office in the summer of 2005 says a lot . i guess everyone involved would just rather forget . xxmaj to be fair , xxup the xxup fantastic xxup four is not as bad as everyone says . xxmaj let me rephrase that . xxmaj it 's not as unentertaining as all of its negative reviews might suggest . \n",
       " \n",
       "  xxmaj veteran television actor xxmaj alex xxmaj hyde - xxmaj white ( no , you do n't remember any of his roles ) leads the way as xxmaj reed xxmaj richards , the brilliant scientist who , along with his crew , gains bizarre powers after an outer space mishap . xxmaj he 's left with the ability to stretch and xxunk his body to outrageous lengths . xxmaj his future wife , xxmaj sue xxmaj storm ( xxmaj rebecca xxmaj xxunk ) , can suddenly turn invisible , while her brother , xxmaj johnny ( xxmaj jay xxmaj underwood ) , may now ignite himself at will . xxmaj then there 's poor xxmaj ben xxmaj grimm ( xxmaj michael xxmaj bailey xxmaj smith ) , the lovable lug whose body morphs into a mass of craggy , orange rock . \n",
       " \n",
       "  xxmaj just as the friends are becoming accustomed to all of this , they are called upon to rescue the world from certain chaos . xxmaj it seems xxmaj reed 's old colleague xxmaj victor von xxmaj doom ( xxmaj joseph xxmaj culp ) is living up to his name , and that villainous xxmaj jeweler ( xxmaj ian xxmaj trigger ) is n't exactly helping old ladies cross the street , either . xxmaj can our heroes save the day ? xxmaj of course they can ; like any superhero movie , it 's just a question of how and when . \n",
       " \n",
       "  xxmaj what 's striking about xxup the xxup fantastic xxup four is how amateurish it is in virtually every aspect . xxmaj the dialog is so lame and tired it sounds like it was written by a junior high drama class . xxmaj the acting is so unpolished it makes a third - rate afternoon soap opera look like xxmaj shakespeare . xxmaj the special effects are surprisingly good considering the minuscule budget , but there are still some positively embarrassing moments . xxmaj when xxmaj the xxmaj human xxmaj torch fully ignites his body , for instance , the entire movie briefly turns into a cartoon . i can just hear that production meeting . \" xxmaj oh , no one will notice . xxmaj they 'll be too intrigued by the action ! \" i mean really , a cartoon ? xxmaj at least give me a mannequin on fire held up by a string ! xxmaj prior to that , the scene in which the foursome come to on earth after their spaceship crashes is pure teens - in - the - backyard fare . xxmaj the crew simply found a field and lit a vaguely - spaceship - like object on fire . xxmaj that 's the only remnant of such a major disaster ? \n",
       " \n",
       "  xxmaj of course there was n't a whole lot to work with in the script . xxmaj there is a fairly coherent story here , but it 's all so simplified . xxmaj when xxmaj reed and xxmaj ben decide to go into outer space , they simply drop by the xxmaj storms ' house and ask if they 'd care to join them . xxmaj is it really that easy ? xxmaj do n't these sort of things require , oh , i do n't know , years of training and expertise ? xxmaj not in the world of these writers , who seemed to be inspired by the underrated genius on display in xxup full xxup house reruns . xxmaj but as bad as that may be , nothing can compare to how painfully clichéd xxmaj dr. xxmaj doom is . xxmaj he was pulled right out of those awful superhero cartoons from the 1960s , right down to the evil laugh and slamming his clenched fist down on the table to punctuate his remarks . xxmaj no comic book , least of all xxmaj fantastic xxmaj four , has ever featured a villain so obscenely one dimensional . \n",
       " \n",
       "  xxmaj ultimately , xxup the xxup fantastic xxup four is saved from being a complete turkey because it 's just so damn innocent . xxmaj you can tell the people involved , as little talent or experience as they had , really tried . xxmaj they did n't know the final result would be so embarrassing . xxmaj they were under the impression that this was their big break , that people would flock to the theaters . xxmaj it bears repeating that they had virtually no money to work with ( and i 'm sure half of that was eaten up by the cool xxmaj thing costume ) . xxmaj all things considered , they did well , and for its many flaws , the finished product is a fair amount of fun for comic book fans .\n",
       "y: CategoryList\n",
       "neg,neg,neg,neg,neg\n",
       "Path: /home/luan/.fastai/data/imdb;\n",
       "\n",
       "Test: None, model=SequentialRNN(\n",
       "  (0): MultiBatchEncoder(\n",
       "    (module): AWD_LSTM(\n",
       "      (encoder): Embedding(60003, 400, padding_idx=1)\n",
       "      (encoder_dp): EmbeddingDropout(\n",
       "        (emb): Embedding(60003, 400, padding_idx=1)\n",
       "      )\n",
       "      (rnns): ModuleList(\n",
       "        (0): WeightDropout(\n",
       "          (module): LSTM(400, 1150, batch_first=True)\n",
       "        )\n",
       "        (1): WeightDropout(\n",
       "          (module): LSTM(1150, 1150, batch_first=True)\n",
       "        )\n",
       "        (2): WeightDropout(\n",
       "          (module): LSTM(1150, 400, batch_first=True)\n",
       "        )\n",
       "      )\n",
       "      (input_dp): RNNDropout()\n",
       "      (hidden_dps): ModuleList(\n",
       "        (0): RNNDropout()\n",
       "        (1): RNNDropout()\n",
       "        (2): RNNDropout()\n",
       "      )\n",
       "    )\n",
       "  )\n",
       "  (1): PoolingLinearClassifier(\n",
       "    (layers): Sequential(\n",
       "      (0): BatchNorm1d(1200, eps=1e-05, momentum=0.1, affine=True, track_running_stats=True)\n",
       "      (1): Dropout(p=0.2)\n",
       "      (2): Linear(in_features=1200, out_features=50, bias=True)\n",
       "      (3): ReLU(inplace)\n",
       "      (4): BatchNorm1d(50, eps=1e-05, momentum=0.1, affine=True, track_running_stats=True)\n",
       "      (5): Dropout(p=0.1)\n",
       "      (6): Linear(in_features=50, out_features=2, bias=True)\n",
       "    )\n",
       "  )\n",
       "), opt_func=functools.partial(<class 'torch.optim.adam.Adam'>, betas=(0.9, 0.99)), loss_func=FlattenedLoss of CrossEntropyLoss(), metrics=[<function accuracy at 0x7fa6ce1be8c8>], true_wd=True, bn_wd=True, wd=0.01, train_bn=True, path=PosixPath('/home/luan/.fastai/data/imdb'), model_dir='models', callback_fns=[<class 'fastai.basic_train.Recorder'>], callbacks=[RNNTrainer\n",
       "learn: RNNLearner(data=TextClasDataBunch;\n",
       "\n",
       "Train: LabelList (25000 items)\n",
       "x: TextList\n",
       "xxbos xxmaj admittedly , i did n't have high expectations of \" xxmaj corky xxmaj romano . \" xxmaj but then again , who did ? xxmaj however , i felt it deserved the benefit of the doubt . i had no high hopes of \" xxmaj joe xxmaj dirt \" either -- another recent comedy starring an xxup snl cast member -- and i ended up being pleasantly surprised . xxmaj but this film is just as bad as it looks in the previews . xxmaj chris xxmaj kattan is actually a talented comic actor -- contrary to what you might think after watching this movie -- with great energy . xxmaj he 's been in many hilarious xxup snl skits , and i think he 's one of the most talented cast members on xxup snl as of now . xxmaj in this case , he 's given a lame , pointless script and he tries to remedy each scene with his incessant mugging . xxmaj throughout each scene , he attempts a lame xxmaj jerry xxmaj lewis act and fails miserably . xxmaj jerry xxmaj lewis knew how to pull off this type of physical comedy , not to mention he worked with much better writing . xxmaj kattan simply looks like some ignorant fool with xxup adhd who had one too many xxmaj cafe xxmaj xxunk . xxmaj he does n't even wait for the punchline ; he assumes we 'll all laugh once he starts jumping around like an ape on crack . xxmaj in one scene , he ends up in a tugging match with a dog who has a package of cocaine in his mouth . xxmaj the package explodes and the cocaine splashes all over him . xxmaj he comes back to the job , strung out on coke . xxmaj now , how are we supposed to laugh at the fact that he 's acting hyper and on - edge , when he 's doing the same thing throughout the whole film ? \n",
       " \n",
       "  xxmaj as for the rest of the cast members ... xxmaj vanessa xxmaj shaw is really hot , xxmaj peter xxmaj berg is wasted in a thankless role and so is xxmaj chris xxmaj penn . xxmaj peter xxmaj falk is also wasted , though he has a few funny lines that i 'm pretty sure he improvised . i hope xxmaj falk gets a decent movie someday soon . xxmaj that 's too much talent too waste on a clunker like \" xxmaj corky xxmaj romano . \" i did n't like xxmaj falk 's last movie \" xxmaj made \" all that much either , but at least he had a decent role . \n",
       " \n",
       "  i chuckled a few times , but i could not get a single laugh . xxmaj each gag is performed with no sense of timing or delivery . xxmaj and it 's made worse by xxmaj kattan 's hammy acting . xxmaj and there are certain gags that are xxunk dragged out . xxmaj for example , when xxmaj kattan is about to fart in his two brothers ' faces . xxmaj he stands there for 2 or 3 minutes , trying to get out a fart and when he finally he does it 's a little tiny one . xxmaj it 's bad enough when you have a gag that 's funny and drag it out , but when you have a lame gag and you drag it out it 's a hell of a lot worse . xxmaj and another example of this is when he tries to translate what those two xxmaj asian men are saying during a drug bust . i can go on and on about what 's wrong with this so - called comedy , but i 'm not gon na waste my time . xxmaj like i said earlier , if you predicted bad things from the trailers -- you predicted right . \n",
       " \n",
       "  xxmaj my score : 3 ( out of 10 ),xxbos i bought this movie and after i watched it i decided that i did not care for it . xxmaj the acting was xxup bad . xxmaj was the principal a robot ? xxmaj he had no personality and his facial expression did n't change through the whole movie . xxmaj at times the voices did n't match up . xxmaj people talking and their lips did n't even move .,xxbos a truly horrible film that left me feeling sullied by having watched the forty minutes or so i could stand . xxmaj not the actors ' fault , but the writer / director , producers , financiers , etc . , need a very stiff talking to . xxmaj maybe it thinks it is profound . xxmaj it is n't . xxmaj this rape and ultra - violence , unlike that central to xxmaj clockwork xxmaj orange , has nothing to say about or add to the sum of human understanding . xxmaj it 's no xxmaj straw xxmaj dogs , either , to which i have seen it compared . xxmaj rather it feels like something xxmaj pete xxmaj walker might have turned his hand to , yet even in saying that i 'm probably being a bit unfair on xxmaj pete xxmaj walker . \n",
       " \n",
       "  xxmaj revenge is a powerful human desire , but xxmaj the xxmaj bedroom xxmaj window has more to say about that and male xxunk than this pitiful effort . \n",
       " \n",
       "  i do n't think it 's particularly misogynistic , merely too gleeful in its depiction of certain details -- the blood running down xxup ga 's leg post rape , par example . xxmaj it 's neither challenging nor confrontational , though i 'm sure the film - makers consider themselves very ' daring ' , just deeply unpleasant . \n",
       " \n",
       "  xxmaj is this as high as we can aim ? xxmaj is this why those involved wanted to make films ? ( i did write in here the xxmaj latin phrase which translates as xxmaj oh the xxmaj times ! xxmaj oh the customs ! xxmaj but the new spell - check on imdb would n't let me post until i had removed it . xxmaj likewise i had to remove square parentheses . xxmaj get it sorted imdb . ) \n",
       " \n",
       "  xxmaj where is the lofty aspiration ? xxmaj the noble impulse ? xxmaj when you look at xxmaj british film - the joyful comedies of xxmaj ealing or the xxmaj boulting xxmaj brothers ; xxmaj carol xxmaj reed 's work with xxmaj graham xxmaj greene on xxmaj fallen xxmaj idol , xxmaj our xxmaj man in xxmaj havana or the sublime xxmaj the xxmaj third xxmaj man ( a film which has far more to say about evil than a thousand xxmaj straightheads ) ; the work of xxmaj powell & xxmaj pressburger ; or if you want to talk about sex , violence and male xxunk look at \" xxmaj the xxmaj offence ' xxmaj dir . xxmaj sidney xxmaj lumet , from an original play by xxmaj john xxmaj hopkins ; check out \" xxmaj tunes of xxmaj glory \" for something worth making , that has something to say . \n",
       " \n",
       "  xxmaj unlike the foregoing , xxmaj straightheads is , alas , an altogether hateful waste of celluloid .,xxbos * * * xxup review xxup may xxup contain xxup some xxup spoilers * * * i 'll make this review short and sweet . i bought this movie from xxmaj best xxmaj buy because it sounded interested and had some top actors in it like xxmaj kevin xxmaj spacey and xxmaj morgan xxmaj freeman . xxmaj how bad could it be , right ? xxmaj well , it 's pretty bad . xxmaj justin xxmaj timberlake plays xxmaj pollack , a wannabe journalist who stumbles across a case that may lead to corrupt cops at xxmaj edison 's xxmaj police xxmaj force . xxup ll xxmaj cool j is xxmaj deed , a cop within the force on a special force team called xxup f.r.a.t. ( xxmaj first xxmaj response xxmaj assault xxmaj tactics ) . xxmaj he 's teamed with an \" on - the - edge \" bad cop named xxmaj lazerov ( xxmaj dylan mcdermott ) . xxmaj in the opening scene we see xxmaj lazerov & xxmaj deed taking on some bank robbers , but at night they are busting a couple of guys doing drugs . i do n't want to give to much away , but things turn bad for the guys doing the drugs . xxmaj pollack , who works for xxmaj ashford ( xxmaj morgan xxmaj freeman ) goes to a trial involving xxmaj deeds & xxmaj lazerov . xxmaj he suspect foul play and with the help of xxmaj ashford , does some investigate that turns ugly . xxmaj wallace ( xxmaj kevin xxmaj spacey ) who is all within the xxup f.r.a.t. team joins with xxmaj ashford to try to bring the corrupt cops to justice . \n",
       " \n",
       "  xxmaj you can tell from the beginning that xxmaj freeman and xxmaj spacey 's performance are pretty lackluster . xxmaj the only person that give a all out performance is xxmaj dylan mcdermott . xxmaj he is a complete nut case in this movie and made a believer out of me . xxup ll xxmaj cool j is terrible in this film . xxmaj he says every line the same way and shows pretty much the same emotion . xxmaj he was much better in movies like xxmaj deep xxmaj blue xxmaj sea & xxmaj any xxmaj given xxmaj sunday . xxmaj the film starts off with some nice action but then drags it feet through the rest of the film . xxmaj the ending is far from satisfying . \n",
       " \n",
       "  xxmaj do n't waste your time with this film . i 'm putting it on xxmaj ebay this weekend .,xxbos xxmaj the only thing that kept me from vomiting after seeing this movie was the fact that these are just actors and not the freak show that usually appears on the xxup tv show . xxmaj this is also the main reason that fans of the xxup tv show wo n't like the movie , but not the only reason . xxmaj this movie has about as much entertainment value as getting a root canal . xxmaj it approaches the xxunk depths of bad movie making , and then gets even worse . i wo n't waste your time describing this movie in further detail ; suffice it to say that i pity the poor camera people who had to suffer through watching this c**p the first time .\n",
       "y: CategoryList\n",
       "neg,neg,neg,neg,neg\n",
       "Path: /home/luan/.fastai/data/imdb;\n",
       "\n",
       "Valid: LabelList (25000 items)\n",
       "x: TextList\n",
       "xxbos xxmaj this movie ca n't decide what it is -- a soft porno or a sf movie . xxmaj not enough plot for a real movie , but way too much for a porno . \n",
       " \n",
       "  xxmaj in a galaxy far far away , a good princess ( we know she 's good because she has long blonde hair , wears a white toga , is polite , and is mooning wistfully about her dying mother when we first see her ) inherits the kingdom over her elder sister , who is evil ( and we know this because she has dark hair and wears too much makeup , abuses her male sexual slaves , sneers and curls her lip all the time , and talks xxunk about the horrors she 'll perpetrate when she 's queen ) . xxmaj the evil princess gets upset and tries to stage a coup , but the good sister gets away to xxmaj earth . xxmaj of course , she materializes buck naked in a bar during a wet t - shirt contest . xxmaj it really goes downhill from there . xxmaj the acting is ludicrous , the dialog sounds like it was written for a porno , and the general storyline is ridiculous . xxmaj there 's not even enough skin to make happy the sort of person who 'd watch this for skin . i love \" good \" bad movies , and this one 's not even enjoyable on a \" bad movie \" level .,xxbos xxmaj this pathetic excuse for a movie does n't have a decent structure or a sensible closure . xxmaj the characters were confusing and the entire plot kept getting off track . i 'd have to say that xxmaj pixel xxmaj perfect was a disgrace . xxmaj this is what happens when you let xxmaj disney channel make movies .,xxbos i saw this movie and was bored out of my mind ! i am a fan of xxmaj peanuts , but i ca n't understand why xxmaj charles xxmaj schultz let this disaster be made ! xxmaj spoilers ahead . \n",
       " \n",
       "  i ca n't believe xxmaj snoopy would let his friends sleep on the ground outside in a dangerous situation and go out to a bar and swig a few cold ones without standing watch ! xxmaj the story was complete nonsense , even for comic strip characters . xxmaj it takes them t xxrep 4 o long to get to xxmaj france , plus once they get to xxmaj france i had a feeling that the writer ( i still ca n't believe it was xxmaj schultz ) did n't know what to do once they got there . \n",
       " \n",
       "  xxmaj peanuts is best made in 30 minute episodes , not 80 minute movies . \n",
       " \n",
       "  xxmaj go home xxmaj charlie xxmaj brown , you are at your best there . \n",
       " \n",
       " ,xxbos xxmaj every xxmaj james xxmaj bond movie has its own set of rules . xxmaj just like every xxmaj indiana xxmaj jones movie has xxup its own set of rules . xxmaj and the fact that screenwriters do n't break these rules maintains the integrity of the characters . xxmaj with a completely unnecessary plot twist , the integrity of both xxmaj ocean films plummets somewhere between xxmaj airplane 2 and a xxmaj roadrunner cartoon . \n",
       " \n",
       "  xxmaj imagine what would happen , while teetering on the rope bridge outside of the xxmaj temple of xxmaj doom , if xxmaj indy told xxmaj shorty and xxmaj willie not to worry because throughout the entire first two movies he 's secretly had super powers and can fly them both to safety . \n",
       " \n",
       "  xxmaj entertaining ? xxmaj sure , for a xxmaj roadrunner cartoon . xxmaj but xxmaj spielberg would never have done that because it would have destroyed the integrity of the film . xxmaj more importantly , it would have xxup angered the audience . xxmaj they 'd already sat on the edge of their seats through 3 hours worth of xxmaj indiana xxmaj jones movies and they were counting on xxmaj indiana to get them off that bridge in a believable way . xxmaj if he were to fly off ? xxmaj people would have walked out of the theaters the same way people did during xxmaj ocean 's 12 . \n",
       " \n",
       "  xxup spoilers \n",
       " \n",
       "  1 . xxmaj julia xxmaj xxunk , xxmaj tess , infiltrates a museum by disguising herself as ... xxmaj julia xxmaj roberts ? ! ? a clever twist ? xxmaj by breaking the fourth wall three hours after we 've been introduced to these characters ? xxmaj is this the xxmaj naked xxmaj gun 33 and 1 / 3 ? xxmaj it 's a textbook example of how a cheap laugh can ruin an entire film . xxmaj but wait ... just in case you have n't walked out yet ... \n",
       " \n",
       "  2 . xxmaj the suspense builds throughout the last hour of the movie -- how will they pull off the heist -- there are only 10 ... 8 ... 5 ... 2 xxup days xxup left ! xxmaj and then in the last 12 minutes of the film , the xxup only entertaining part of this movie , we see that the heist was made days earlier and took xxmaj matt xxmaj damon all of 30 seconds to pull off . xxmaj the past 10 days ? a complete waste of your time . \n",
       " \n",
       "  xxup back xxup to xxup indiana xxup jones xxup on xxup the xxup rope xxup bridge ... xxunk relax , xxmaj willie ! i stole the xxup real stones back about a month ago ! xxmaj besides , i convinced them you were xxmaj kate xxmaj capshaw ! \" \n",
       " \n",
       "  xxmaj if you have n't already seen it , cut your losses and go see the xxmaj polar xxmaj express . i do n't want to ruin the ending for you , but there really is a xxmaj santa xxmaj claus . xxmaj most importantly , you wo n't feel cheated leaving the theater .,xxbos xxmaj when xxup hulk hit theaters in 2003 , it was n't long before dvds of the old xxmaj incredible xxmaj hulk xxup tv show popped up in an attempt to cash in on the craze . xxmaj we saw a similar occurrence a year prior when xxmaj spider - xxmaj man cartoons appeared on xxup dvd to coincide with that hero 's big screen debut . xxmaj companies leap at the opportunity to ride on the financial coattails of a hot brand . \n",
       " \n",
       "  xxmaj so the fact that this picture never surfaced on the shelves of xxmaj wal - xxmaj mart as its featured heroes clobbered the box office in the summer of 2005 says a lot . i guess everyone involved would just rather forget . xxmaj to be fair , xxup the xxup fantastic xxup four is not as bad as everyone says . xxmaj let me rephrase that . xxmaj it 's not as unentertaining as all of its negative reviews might suggest . \n",
       " \n",
       "  xxmaj veteran television actor xxmaj alex xxmaj hyde - xxmaj white ( no , you do n't remember any of his roles ) leads the way as xxmaj reed xxmaj richards , the brilliant scientist who , along with his crew , gains bizarre powers after an outer space mishap . xxmaj he 's left with the ability to stretch and xxunk his body to outrageous lengths . xxmaj his future wife , xxmaj sue xxmaj storm ( xxmaj rebecca xxmaj xxunk ) , can suddenly turn invisible , while her brother , xxmaj johnny ( xxmaj jay xxmaj underwood ) , may now ignite himself at will . xxmaj then there 's poor xxmaj ben xxmaj grimm ( xxmaj michael xxmaj bailey xxmaj smith ) , the lovable lug whose body morphs into a mass of craggy , orange rock . \n",
       " \n",
       "  xxmaj just as the friends are becoming accustomed to all of this , they are called upon to rescue the world from certain chaos . xxmaj it seems xxmaj reed 's old colleague xxmaj victor von xxmaj doom ( xxmaj joseph xxmaj culp ) is living up to his name , and that villainous xxmaj jeweler ( xxmaj ian xxmaj trigger ) is n't exactly helping old ladies cross the street , either . xxmaj can our heroes save the day ? xxmaj of course they can ; like any superhero movie , it 's just a question of how and when . \n",
       " \n",
       "  xxmaj what 's striking about xxup the xxup fantastic xxup four is how amateurish it is in virtually every aspect . xxmaj the dialog is so lame and tired it sounds like it was written by a junior high drama class . xxmaj the acting is so unpolished it makes a third - rate afternoon soap opera look like xxmaj shakespeare . xxmaj the special effects are surprisingly good considering the minuscule budget , but there are still some positively embarrassing moments . xxmaj when xxmaj the xxmaj human xxmaj torch fully ignites his body , for instance , the entire movie briefly turns into a cartoon . i can just hear that production meeting . \" xxmaj oh , no one will notice . xxmaj they 'll be too intrigued by the action ! \" i mean really , a cartoon ? xxmaj at least give me a mannequin on fire held up by a string ! xxmaj prior to that , the scene in which the foursome come to on earth after their spaceship crashes is pure teens - in - the - backyard fare . xxmaj the crew simply found a field and lit a vaguely - spaceship - like object on fire . xxmaj that 's the only remnant of such a major disaster ? \n",
       " \n",
       "  xxmaj of course there was n't a whole lot to work with in the script . xxmaj there is a fairly coherent story here , but it 's all so simplified . xxmaj when xxmaj reed and xxmaj ben decide to go into outer space , they simply drop by the xxmaj storms ' house and ask if they 'd care to join them . xxmaj is it really that easy ? xxmaj do n't these sort of things require , oh , i do n't know , years of training and expertise ? xxmaj not in the world of these writers , who seemed to be inspired by the underrated genius on display in xxup full xxup house reruns . xxmaj but as bad as that may be , nothing can compare to how painfully clichéd xxmaj dr. xxmaj doom is . xxmaj he was pulled right out of those awful superhero cartoons from the 1960s , right down to the evil laugh and slamming his clenched fist down on the table to punctuate his remarks . xxmaj no comic book , least of all xxmaj fantastic xxmaj four , has ever featured a villain so obscenely one dimensional . \n",
       " \n",
       "  xxmaj ultimately , xxup the xxup fantastic xxup four is saved from being a complete turkey because it 's just so damn innocent . xxmaj you can tell the people involved , as little talent or experience as they had , really tried . xxmaj they did n't know the final result would be so embarrassing . xxmaj they were under the impression that this was their big break , that people would flock to the theaters . xxmaj it bears repeating that they had virtually no money to work with ( and i 'm sure half of that was eaten up by the cool xxmaj thing costume ) . xxmaj all things considered , they did well , and for its many flaws , the finished product is a fair amount of fun for comic book fans .\n",
       "y: CategoryList\n",
       "neg,neg,neg,neg,neg\n",
       "Path: /home/luan/.fastai/data/imdb;\n",
       "\n",
       "Test: None, model=SequentialRNN(\n",
       "  (0): MultiBatchEncoder(\n",
       "    (module): AWD_LSTM(\n",
       "      (encoder): Embedding(60003, 400, padding_idx=1)\n",
       "      (encoder_dp): EmbeddingDropout(\n",
       "        (emb): Embedding(60003, 400, padding_idx=1)\n",
       "      )\n",
       "      (rnns): ModuleList(\n",
       "        (0): WeightDropout(\n",
       "          (module): LSTM(400, 1150, batch_first=True)\n",
       "        )\n",
       "        (1): WeightDropout(\n",
       "          (module): LSTM(1150, 1150, batch_first=True)\n",
       "        )\n",
       "        (2): WeightDropout(\n",
       "          (module): LSTM(1150, 400, batch_first=True)\n",
       "        )\n",
       "      )\n",
       "      (input_dp): RNNDropout()\n",
       "      (hidden_dps): ModuleList(\n",
       "        (0): RNNDropout()\n",
       "        (1): RNNDropout()\n",
       "        (2): RNNDropout()\n",
       "      )\n",
       "    )\n",
       "  )\n",
       "  (1): PoolingLinearClassifier(\n",
       "    (layers): Sequential(\n",
       "      (0): BatchNorm1d(1200, eps=1e-05, momentum=0.1, affine=True, track_running_stats=True)\n",
       "      (1): Dropout(p=0.2)\n",
       "      (2): Linear(in_features=1200, out_features=50, bias=True)\n",
       "      (3): ReLU(inplace)\n",
       "      (4): BatchNorm1d(50, eps=1e-05, momentum=0.1, affine=True, track_running_stats=True)\n",
       "      (5): Dropout(p=0.1)\n",
       "      (6): Linear(in_features=50, out_features=2, bias=True)\n",
       "    )\n",
       "  )\n",
       "), opt_func=functools.partial(<class 'torch.optim.adam.Adam'>, betas=(0.9, 0.99)), loss_func=FlattenedLoss of CrossEntropyLoss(), metrics=[<function accuracy at 0x7fa6ce1be8c8>], true_wd=True, bn_wd=True, wd=0.01, train_bn=True, path=PosixPath('/home/luan/.fastai/data/imdb'), model_dir='models', callback_fns=[<class 'fastai.basic_train.Recorder'>], callbacks=[...], layer_groups=[Sequential(\n",
       "  (0): Embedding(60003, 400, padding_idx=1)\n",
       "  (1): EmbeddingDropout(\n",
       "    (emb): Embedding(60003, 400, padding_idx=1)\n",
       "  )\n",
       "), Sequential(\n",
       "  (0): WeightDropout(\n",
       "    (module): LSTM(400, 1150, batch_first=True)\n",
       "  )\n",
       "  (1): RNNDropout()\n",
       "), Sequential(\n",
       "  (0): WeightDropout(\n",
       "    (module): LSTM(1150, 1150, batch_first=True)\n",
       "  )\n",
       "  (1): RNNDropout()\n",
       "), Sequential(\n",
       "  (0): WeightDropout(\n",
       "    (module): LSTM(1150, 400, batch_first=True)\n",
       "  )\n",
       "  (1): RNNDropout()\n",
       "), Sequential(\n",
       "  (0): PoolingLinearClassifier(\n",
       "    (layers): Sequential(\n",
       "      (0): BatchNorm1d(1200, eps=1e-05, momentum=0.1, affine=True, track_running_stats=True)\n",
       "      (1): Dropout(p=0.2)\n",
       "      (2): Linear(in_features=1200, out_features=50, bias=True)\n",
       "      (3): ReLU(inplace)\n",
       "      (4): BatchNorm1d(50, eps=1e-05, momentum=0.1, affine=True, track_running_stats=True)\n",
       "      (5): Dropout(p=0.1)\n",
       "      (6): Linear(in_features=50, out_features=2, bias=True)\n",
       "    )\n",
       "  )\n",
       ")])\n",
       "alpha: 2.0\n",
       "beta: 1.0], layer_groups=[Sequential(\n",
       "  (0): Embedding(60003, 400, padding_idx=1)\n",
       "  (1): EmbeddingDropout(\n",
       "    (emb): Embedding(60003, 400, padding_idx=1)\n",
       "  )\n",
       "), Sequential(\n",
       "  (0): WeightDropout(\n",
       "    (module): LSTM(400, 1150, batch_first=True)\n",
       "  )\n",
       "  (1): RNNDropout()\n",
       "), Sequential(\n",
       "  (0): WeightDropout(\n",
       "    (module): LSTM(1150, 1150, batch_first=True)\n",
       "  )\n",
       "  (1): RNNDropout()\n",
       "), Sequential(\n",
       "  (0): WeightDropout(\n",
       "    (module): LSTM(1150, 400, batch_first=True)\n",
       "  )\n",
       "  (1): RNNDropout()\n",
       "), Sequential(\n",
       "  (0): PoolingLinearClassifier(\n",
       "    (layers): Sequential(\n",
       "      (0): BatchNorm1d(1200, eps=1e-05, momentum=0.1, affine=True, track_running_stats=True)\n",
       "      (1): Dropout(p=0.2)\n",
       "      (2): Linear(in_features=1200, out_features=50, bias=True)\n",
       "      (3): ReLU(inplace)\n",
       "      (4): BatchNorm1d(50, eps=1e-05, momentum=0.1, affine=True, track_running_stats=True)\n",
       "      (5): Dropout(p=0.1)\n",
       "      (6): Linear(in_features=50, out_features=2, bias=True)\n",
       "    )\n",
       "  )\n",
       ")])"
      ]
     },
     "execution_count": 10,
     "metadata": {},
     "output_type": "execute_result"
    }
   ],
   "source": [
    "learn.load('first')"
   ]
  },
  {
   "cell_type": "code",
   "execution_count": 11,
   "metadata": {},
   "outputs": [
    {
     "data": {
      "text/html": [
       "Total time: 39:41 <p><table style='width:300px; margin-bottom:10px'>\n",
       "  <tr>\n",
       "    <th>epoch</th>\n",
       "    <th>train_loss</th>\n",
       "    <th>valid_loss</th>\n",
       "    <th>accuracy</th>\n",
       "  </tr>\n",
       "  <tr>\n",
       "    <th>1</th>\n",
       "    <th>0.563175</th>\n",
       "    <th>0.487467</th>\n",
       "    <th>0.762000</th>\n",
       "  </tr>\n",
       "  <tr>\n",
       "    <th>2</th>\n",
       "    <th>0.506981</th>\n",
       "    <th>0.415070</th>\n",
       "    <th>0.807200</th>\n",
       "  </tr>\n",
       "  <tr>\n",
       "    <th>3</th>\n",
       "    <th>0.419202</th>\n",
       "    <th>0.342485</th>\n",
       "    <th>0.856160</th>\n",
       "  </tr>\n",
       "  <tr>\n",
       "    <th>4</th>\n",
       "    <th>0.365104</th>\n",
       "    <th>0.308282</th>\n",
       "    <th>0.873440</th>\n",
       "  </tr>\n",
       "  <tr>\n",
       "    <th>5</th>\n",
       "    <th>0.338487</th>\n",
       "    <th>0.286196</th>\n",
       "    <th>0.880240</th>\n",
       "  </tr>\n",
       "  <tr>\n",
       "    <th>6</th>\n",
       "    <th>0.311128</th>\n",
       "    <th>0.282427</th>\n",
       "    <th>0.885480</th>\n",
       "  </tr>\n",
       "  <tr>\n",
       "    <th>7</th>\n",
       "    <th>0.280716</th>\n",
       "    <th>0.293850</th>\n",
       "    <th>0.885320</th>\n",
       "  </tr>\n",
       "</table>\n"
      ],
      "text/plain": [
       "<IPython.core.display.HTML object>"
      ]
     },
     "metadata": {},
     "output_type": "display_data"
    }
   ],
   "source": [
    "learn.freeze_to(-2)\n",
    "learn.fit_one_cycle(7, slice(1e-2/(2.6**4),1e-2), moms=(0.8,0.7))"
   ]
  },
  {
   "cell_type": "code",
   "execution_count": 12,
   "metadata": {},
   "outputs": [],
   "source": [
    "learn.save('second')"
   ]
  },
  {
   "cell_type": "code",
   "execution_count": 11,
   "metadata": {},
   "outputs": [
    {
     "data": {
      "text/plain": [
       "RNNLearner(data=TextClasDataBunch;\n",
       "\n",
       "Train: LabelList (25000 items)\n",
       "x: TextList\n",
       "xxbos xxmaj admittedly , i did n't have high expectations of \" xxmaj corky xxmaj romano . \" xxmaj but then again , who did ? xxmaj however , i felt it deserved the benefit of the doubt . i had no high hopes of \" xxmaj joe xxmaj dirt \" either -- another recent comedy starring an xxup snl cast member -- and i ended up being pleasantly surprised . xxmaj but this film is just as bad as it looks in the previews . xxmaj chris xxmaj kattan is actually a talented comic actor -- contrary to what you might think after watching this movie -- with great energy . xxmaj he 's been in many hilarious xxup snl skits , and i think he 's one of the most talented cast members on xxup snl as of now . xxmaj in this case , he 's given a lame , pointless script and he tries to remedy each scene with his incessant mugging . xxmaj throughout each scene , he attempts a lame xxmaj jerry xxmaj lewis act and fails miserably . xxmaj jerry xxmaj lewis knew how to pull off this type of physical comedy , not to mention he worked with much better writing . xxmaj kattan simply looks like some ignorant fool with xxup adhd who had one too many xxmaj cafe xxmaj xxunk . xxmaj he does n't even wait for the punchline ; he assumes we 'll all laugh once he starts jumping around like an ape on crack . xxmaj in one scene , he ends up in a tugging match with a dog who has a package of cocaine in his mouth . xxmaj the package explodes and the cocaine splashes all over him . xxmaj he comes back to the job , strung out on coke . xxmaj now , how are we supposed to laugh at the fact that he 's acting hyper and on - edge , when he 's doing the same thing throughout the whole film ? \n",
       " \n",
       "  xxmaj as for the rest of the cast members ... xxmaj vanessa xxmaj shaw is really hot , xxmaj peter xxmaj berg is wasted in a thankless role and so is xxmaj chris xxmaj penn . xxmaj peter xxmaj falk is also wasted , though he has a few funny lines that i 'm pretty sure he improvised . i hope xxmaj falk gets a decent movie someday soon . xxmaj that 's too much talent too waste on a clunker like \" xxmaj corky xxmaj romano . \" i did n't like xxmaj falk 's last movie \" xxmaj made \" all that much either , but at least he had a decent role . \n",
       " \n",
       "  i chuckled a few times , but i could not get a single laugh . xxmaj each gag is performed with no sense of timing or delivery . xxmaj and it 's made worse by xxmaj kattan 's hammy acting . xxmaj and there are certain gags that are xxunk dragged out . xxmaj for example , when xxmaj kattan is about to fart in his two brothers ' faces . xxmaj he stands there for 2 or 3 minutes , trying to get out a fart and when he finally he does it 's a little tiny one . xxmaj it 's bad enough when you have a gag that 's funny and drag it out , but when you have a lame gag and you drag it out it 's a hell of a lot worse . xxmaj and another example of this is when he tries to translate what those two xxmaj asian men are saying during a drug bust . i can go on and on about what 's wrong with this so - called comedy , but i 'm not gon na waste my time . xxmaj like i said earlier , if you predicted bad things from the trailers -- you predicted right . \n",
       " \n",
       "  xxmaj my score : 3 ( out of 10 ),xxbos i bought this movie and after i watched it i decided that i did not care for it . xxmaj the acting was xxup bad . xxmaj was the principal a robot ? xxmaj he had no personality and his facial expression did n't change through the whole movie . xxmaj at times the voices did n't match up . xxmaj people talking and their lips did n't even move .,xxbos a truly horrible film that left me feeling sullied by having watched the forty minutes or so i could stand . xxmaj not the actors ' fault , but the writer / director , producers , financiers , etc . , need a very stiff talking to . xxmaj maybe it thinks it is profound . xxmaj it is n't . xxmaj this rape and ultra - violence , unlike that central to xxmaj clockwork xxmaj orange , has nothing to say about or add to the sum of human understanding . xxmaj it 's no xxmaj straw xxmaj dogs , either , to which i have seen it compared . xxmaj rather it feels like something xxmaj pete xxmaj walker might have turned his hand to , yet even in saying that i 'm probably being a bit unfair on xxmaj pete xxmaj walker . \n",
       " \n",
       "  xxmaj revenge is a powerful human desire , but xxmaj the xxmaj bedroom xxmaj window has more to say about that and male xxunk than this pitiful effort . \n",
       " \n",
       "  i do n't think it 's particularly misogynistic , merely too gleeful in its depiction of certain details -- the blood running down xxup ga 's leg post rape , par example . xxmaj it 's neither challenging nor confrontational , though i 'm sure the film - makers consider themselves very ' daring ' , just deeply unpleasant . \n",
       " \n",
       "  xxmaj is this as high as we can aim ? xxmaj is this why those involved wanted to make films ? ( i did write in here the xxmaj latin phrase which translates as xxmaj oh the xxmaj times ! xxmaj oh the customs ! xxmaj but the new spell - check on imdb would n't let me post until i had removed it . xxmaj likewise i had to remove square parentheses . xxmaj get it sorted imdb . ) \n",
       " \n",
       "  xxmaj where is the lofty aspiration ? xxmaj the noble impulse ? xxmaj when you look at xxmaj british film - the joyful comedies of xxmaj ealing or the xxmaj boulting xxmaj brothers ; xxmaj carol xxmaj reed 's work with xxmaj graham xxmaj greene on xxmaj fallen xxmaj idol , xxmaj our xxmaj man in xxmaj havana or the sublime xxmaj the xxmaj third xxmaj man ( a film which has far more to say about evil than a thousand xxmaj straightheads ) ; the work of xxmaj powell & xxmaj pressburger ; or if you want to talk about sex , violence and male xxunk look at \" xxmaj the xxmaj offence ' xxmaj dir . xxmaj sidney xxmaj lumet , from an original play by xxmaj john xxmaj hopkins ; check out \" xxmaj tunes of xxmaj glory \" for something worth making , that has something to say . \n",
       " \n",
       "  xxmaj unlike the foregoing , xxmaj straightheads is , alas , an altogether hateful waste of celluloid .,xxbos * * * xxup review xxup may xxup contain xxup some xxup spoilers * * * i 'll make this review short and sweet . i bought this movie from xxmaj best xxmaj buy because it sounded interested and had some top actors in it like xxmaj kevin xxmaj spacey and xxmaj morgan xxmaj freeman . xxmaj how bad could it be , right ? xxmaj well , it 's pretty bad . xxmaj justin xxmaj timberlake plays xxmaj pollack , a wannabe journalist who stumbles across a case that may lead to corrupt cops at xxmaj edison 's xxmaj police xxmaj force . xxup ll xxmaj cool j is xxmaj deed , a cop within the force on a special force team called xxup f.r.a.t. ( xxmaj first xxmaj response xxmaj assault xxmaj tactics ) . xxmaj he 's teamed with an \" on - the - edge \" bad cop named xxmaj lazerov ( xxmaj dylan mcdermott ) . xxmaj in the opening scene we see xxmaj lazerov & xxmaj deed taking on some bank robbers , but at night they are busting a couple of guys doing drugs . i do n't want to give to much away , but things turn bad for the guys doing the drugs . xxmaj pollack , who works for xxmaj ashford ( xxmaj morgan xxmaj freeman ) goes to a trial involving xxmaj deeds & xxmaj lazerov . xxmaj he suspect foul play and with the help of xxmaj ashford , does some investigate that turns ugly . xxmaj wallace ( xxmaj kevin xxmaj spacey ) who is all within the xxup f.r.a.t. team joins with xxmaj ashford to try to bring the corrupt cops to justice . \n",
       " \n",
       "  xxmaj you can tell from the beginning that xxmaj freeman and xxmaj spacey 's performance are pretty lackluster . xxmaj the only person that give a all out performance is xxmaj dylan mcdermott . xxmaj he is a complete nut case in this movie and made a believer out of me . xxup ll xxmaj cool j is terrible in this film . xxmaj he says every line the same way and shows pretty much the same emotion . xxmaj he was much better in movies like xxmaj deep xxmaj blue xxmaj sea & xxmaj any xxmaj given xxmaj sunday . xxmaj the film starts off with some nice action but then drags it feet through the rest of the film . xxmaj the ending is far from satisfying . \n",
       " \n",
       "  xxmaj do n't waste your time with this film . i 'm putting it on xxmaj ebay this weekend .,xxbos xxmaj the only thing that kept me from vomiting after seeing this movie was the fact that these are just actors and not the freak show that usually appears on the xxup tv show . xxmaj this is also the main reason that fans of the xxup tv show wo n't like the movie , but not the only reason . xxmaj this movie has about as much entertainment value as getting a root canal . xxmaj it approaches the xxunk depths of bad movie making , and then gets even worse . i wo n't waste your time describing this movie in further detail ; suffice it to say that i pity the poor camera people who had to suffer through watching this c**p the first time .\n",
       "y: CategoryList\n",
       "neg,neg,neg,neg,neg\n",
       "Path: /home/luan/.fastai/data/imdb;\n",
       "\n",
       "Valid: LabelList (25000 items)\n",
       "x: TextList\n",
       "xxbos xxmaj this movie ca n't decide what it is -- a soft porno or a sf movie . xxmaj not enough plot for a real movie , but way too much for a porno . \n",
       " \n",
       "  xxmaj in a galaxy far far away , a good princess ( we know she 's good because she has long blonde hair , wears a white toga , is polite , and is mooning wistfully about her dying mother when we first see her ) inherits the kingdom over her elder sister , who is evil ( and we know this because she has dark hair and wears too much makeup , abuses her male sexual slaves , sneers and curls her lip all the time , and talks xxunk about the horrors she 'll perpetrate when she 's queen ) . xxmaj the evil princess gets upset and tries to stage a coup , but the good sister gets away to xxmaj earth . xxmaj of course , she materializes buck naked in a bar during a wet t - shirt contest . xxmaj it really goes downhill from there . xxmaj the acting is ludicrous , the dialog sounds like it was written for a porno , and the general storyline is ridiculous . xxmaj there 's not even enough skin to make happy the sort of person who 'd watch this for skin . i love \" good \" bad movies , and this one 's not even enjoyable on a \" bad movie \" level .,xxbos xxmaj this pathetic excuse for a movie does n't have a decent structure or a sensible closure . xxmaj the characters were confusing and the entire plot kept getting off track . i 'd have to say that xxmaj pixel xxmaj perfect was a disgrace . xxmaj this is what happens when you let xxmaj disney channel make movies .,xxbos i saw this movie and was bored out of my mind ! i am a fan of xxmaj peanuts , but i ca n't understand why xxmaj charles xxmaj schultz let this disaster be made ! xxmaj spoilers ahead . \n",
       " \n",
       "  i ca n't believe xxmaj snoopy would let his friends sleep on the ground outside in a dangerous situation and go out to a bar and swig a few cold ones without standing watch ! xxmaj the story was complete nonsense , even for comic strip characters . xxmaj it takes them t xxrep 4 o long to get to xxmaj france , plus once they get to xxmaj france i had a feeling that the writer ( i still ca n't believe it was xxmaj schultz ) did n't know what to do once they got there . \n",
       " \n",
       "  xxmaj peanuts is best made in 30 minute episodes , not 80 minute movies . \n",
       " \n",
       "  xxmaj go home xxmaj charlie xxmaj brown , you are at your best there . \n",
       " \n",
       " ,xxbos xxmaj every xxmaj james xxmaj bond movie has its own set of rules . xxmaj just like every xxmaj indiana xxmaj jones movie has xxup its own set of rules . xxmaj and the fact that screenwriters do n't break these rules maintains the integrity of the characters . xxmaj with a completely unnecessary plot twist , the integrity of both xxmaj ocean films plummets somewhere between xxmaj airplane 2 and a xxmaj roadrunner cartoon . \n",
       " \n",
       "  xxmaj imagine what would happen , while teetering on the rope bridge outside of the xxmaj temple of xxmaj doom , if xxmaj indy told xxmaj shorty and xxmaj willie not to worry because throughout the entire first two movies he 's secretly had super powers and can fly them both to safety . \n",
       " \n",
       "  xxmaj entertaining ? xxmaj sure , for a xxmaj roadrunner cartoon . xxmaj but xxmaj spielberg would never have done that because it would have destroyed the integrity of the film . xxmaj more importantly , it would have xxup angered the audience . xxmaj they 'd already sat on the edge of their seats through 3 hours worth of xxmaj indiana xxmaj jones movies and they were counting on xxmaj indiana to get them off that bridge in a believable way . xxmaj if he were to fly off ? xxmaj people would have walked out of the theaters the same way people did during xxmaj ocean 's 12 . \n",
       " \n",
       "  xxup spoilers \n",
       " \n",
       "  1 . xxmaj julia xxmaj xxunk , xxmaj tess , infiltrates a museum by disguising herself as ... xxmaj julia xxmaj roberts ? ! ? a clever twist ? xxmaj by breaking the fourth wall three hours after we 've been introduced to these characters ? xxmaj is this the xxmaj naked xxmaj gun 33 and 1 / 3 ? xxmaj it 's a textbook example of how a cheap laugh can ruin an entire film . xxmaj but wait ... just in case you have n't walked out yet ... \n",
       " \n",
       "  2 . xxmaj the suspense builds throughout the last hour of the movie -- how will they pull off the heist -- there are only 10 ... 8 ... 5 ... 2 xxup days xxup left ! xxmaj and then in the last 12 minutes of the film , the xxup only entertaining part of this movie , we see that the heist was made days earlier and took xxmaj matt xxmaj damon all of 30 seconds to pull off . xxmaj the past 10 days ? a complete waste of your time . \n",
       " \n",
       "  xxup back xxup to xxup indiana xxup jones xxup on xxup the xxup rope xxup bridge ... xxunk relax , xxmaj willie ! i stole the xxup real stones back about a month ago ! xxmaj besides , i convinced them you were xxmaj kate xxmaj capshaw ! \" \n",
       " \n",
       "  xxmaj if you have n't already seen it , cut your losses and go see the xxmaj polar xxmaj express . i do n't want to ruin the ending for you , but there really is a xxmaj santa xxmaj claus . xxmaj most importantly , you wo n't feel cheated leaving the theater .,xxbos xxmaj when xxup hulk hit theaters in 2003 , it was n't long before dvds of the old xxmaj incredible xxmaj hulk xxup tv show popped up in an attempt to cash in on the craze . xxmaj we saw a similar occurrence a year prior when xxmaj spider - xxmaj man cartoons appeared on xxup dvd to coincide with that hero 's big screen debut . xxmaj companies leap at the opportunity to ride on the financial coattails of a hot brand . \n",
       " \n",
       "  xxmaj so the fact that this picture never surfaced on the shelves of xxmaj wal - xxmaj mart as its featured heroes clobbered the box office in the summer of 2005 says a lot . i guess everyone involved would just rather forget . xxmaj to be fair , xxup the xxup fantastic xxup four is not as bad as everyone says . xxmaj let me rephrase that . xxmaj it 's not as unentertaining as all of its negative reviews might suggest . \n",
       " \n",
       "  xxmaj veteran television actor xxmaj alex xxmaj hyde - xxmaj white ( no , you do n't remember any of his roles ) leads the way as xxmaj reed xxmaj richards , the brilliant scientist who , along with his crew , gains bizarre powers after an outer space mishap . xxmaj he 's left with the ability to stretch and xxunk his body to outrageous lengths . xxmaj his future wife , xxmaj sue xxmaj storm ( xxmaj rebecca xxmaj xxunk ) , can suddenly turn invisible , while her brother , xxmaj johnny ( xxmaj jay xxmaj underwood ) , may now ignite himself at will . xxmaj then there 's poor xxmaj ben xxmaj grimm ( xxmaj michael xxmaj bailey xxmaj smith ) , the lovable lug whose body morphs into a mass of craggy , orange rock . \n",
       " \n",
       "  xxmaj just as the friends are becoming accustomed to all of this , they are called upon to rescue the world from certain chaos . xxmaj it seems xxmaj reed 's old colleague xxmaj victor von xxmaj doom ( xxmaj joseph xxmaj culp ) is living up to his name , and that villainous xxmaj jeweler ( xxmaj ian xxmaj trigger ) is n't exactly helping old ladies cross the street , either . xxmaj can our heroes save the day ? xxmaj of course they can ; like any superhero movie , it 's just a question of how and when . \n",
       " \n",
       "  xxmaj what 's striking about xxup the xxup fantastic xxup four is how amateurish it is in virtually every aspect . xxmaj the dialog is so lame and tired it sounds like it was written by a junior high drama class . xxmaj the acting is so unpolished it makes a third - rate afternoon soap opera look like xxmaj shakespeare . xxmaj the special effects are surprisingly good considering the minuscule budget , but there are still some positively embarrassing moments . xxmaj when xxmaj the xxmaj human xxmaj torch fully ignites his body , for instance , the entire movie briefly turns into a cartoon . i can just hear that production meeting . \" xxmaj oh , no one will notice . xxmaj they 'll be too intrigued by the action ! \" i mean really , a cartoon ? xxmaj at least give me a mannequin on fire held up by a string ! xxmaj prior to that , the scene in which the foursome come to on earth after their spaceship crashes is pure teens - in - the - backyard fare . xxmaj the crew simply found a field and lit a vaguely - spaceship - like object on fire . xxmaj that 's the only remnant of such a major disaster ? \n",
       " \n",
       "  xxmaj of course there was n't a whole lot to work with in the script . xxmaj there is a fairly coherent story here , but it 's all so simplified . xxmaj when xxmaj reed and xxmaj ben decide to go into outer space , they simply drop by the xxmaj storms ' house and ask if they 'd care to join them . xxmaj is it really that easy ? xxmaj do n't these sort of things require , oh , i do n't know , years of training and expertise ? xxmaj not in the world of these writers , who seemed to be inspired by the underrated genius on display in xxup full xxup house reruns . xxmaj but as bad as that may be , nothing can compare to how painfully clichéd xxmaj dr. xxmaj doom is . xxmaj he was pulled right out of those awful superhero cartoons from the 1960s , right down to the evil laugh and slamming his clenched fist down on the table to punctuate his remarks . xxmaj no comic book , least of all xxmaj fantastic xxmaj four , has ever featured a villain so obscenely one dimensional . \n",
       " \n",
       "  xxmaj ultimately , xxup the xxup fantastic xxup four is saved from being a complete turkey because it 's just so damn innocent . xxmaj you can tell the people involved , as little talent or experience as they had , really tried . xxmaj they did n't know the final result would be so embarrassing . xxmaj they were under the impression that this was their big break , that people would flock to the theaters . xxmaj it bears repeating that they had virtually no money to work with ( and i 'm sure half of that was eaten up by the cool xxmaj thing costume ) . xxmaj all things considered , they did well , and for its many flaws , the finished product is a fair amount of fun for comic book fans .\n",
       "y: CategoryList\n",
       "neg,neg,neg,neg,neg\n",
       "Path: /home/luan/.fastai/data/imdb;\n",
       "\n",
       "Test: None, model=SequentialRNN(\n",
       "  (0): MultiBatchEncoder(\n",
       "    (module): AWD_LSTM(\n",
       "      (encoder): Embedding(60003, 400, padding_idx=1)\n",
       "      (encoder_dp): EmbeddingDropout(\n",
       "        (emb): Embedding(60003, 400, padding_idx=1)\n",
       "      )\n",
       "      (rnns): ModuleList(\n",
       "        (0): WeightDropout(\n",
       "          (module): LSTM(400, 1150, batch_first=True)\n",
       "        )\n",
       "        (1): WeightDropout(\n",
       "          (module): LSTM(1150, 1150, batch_first=True)\n",
       "        )\n",
       "        (2): WeightDropout(\n",
       "          (module): LSTM(1150, 400, batch_first=True)\n",
       "        )\n",
       "      )\n",
       "      (input_dp): RNNDropout()\n",
       "      (hidden_dps): ModuleList(\n",
       "        (0): RNNDropout()\n",
       "        (1): RNNDropout()\n",
       "        (2): RNNDropout()\n",
       "      )\n",
       "    )\n",
       "  )\n",
       "  (1): PoolingLinearClassifier(\n",
       "    (layers): Sequential(\n",
       "      (0): BatchNorm1d(1200, eps=1e-05, momentum=0.1, affine=True, track_running_stats=True)\n",
       "      (1): Dropout(p=0.2)\n",
       "      (2): Linear(in_features=1200, out_features=50, bias=True)\n",
       "      (3): ReLU(inplace)\n",
       "      (4): BatchNorm1d(50, eps=1e-05, momentum=0.1, affine=True, track_running_stats=True)\n",
       "      (5): Dropout(p=0.1)\n",
       "      (6): Linear(in_features=50, out_features=2, bias=True)\n",
       "    )\n",
       "  )\n",
       "), opt_func=functools.partial(<class 'torch.optim.adam.Adam'>, betas=(0.9, 0.99)), loss_func=FlattenedLoss of CrossEntropyLoss(), metrics=[<function accuracy at 0x7fcfda6d6ae8>], true_wd=True, bn_wd=True, wd=0.01, train_bn=True, path=PosixPath('/home/luan/.fastai/data/imdb'), model_dir='models', callback_fns=[<class 'fastai.basic_train.Recorder'>], callbacks=[RNNTrainer\n",
       "learn: RNNLearner(data=TextClasDataBunch;\n",
       "\n",
       "Train: LabelList (25000 items)\n",
       "x: TextList\n",
       "xxbos xxmaj admittedly , i did n't have high expectations of \" xxmaj corky xxmaj romano . \" xxmaj but then again , who did ? xxmaj however , i felt it deserved the benefit of the doubt . i had no high hopes of \" xxmaj joe xxmaj dirt \" either -- another recent comedy starring an xxup snl cast member -- and i ended up being pleasantly surprised . xxmaj but this film is just as bad as it looks in the previews . xxmaj chris xxmaj kattan is actually a talented comic actor -- contrary to what you might think after watching this movie -- with great energy . xxmaj he 's been in many hilarious xxup snl skits , and i think he 's one of the most talented cast members on xxup snl as of now . xxmaj in this case , he 's given a lame , pointless script and he tries to remedy each scene with his incessant mugging . xxmaj throughout each scene , he attempts a lame xxmaj jerry xxmaj lewis act and fails miserably . xxmaj jerry xxmaj lewis knew how to pull off this type of physical comedy , not to mention he worked with much better writing . xxmaj kattan simply looks like some ignorant fool with xxup adhd who had one too many xxmaj cafe xxmaj xxunk . xxmaj he does n't even wait for the punchline ; he assumes we 'll all laugh once he starts jumping around like an ape on crack . xxmaj in one scene , he ends up in a tugging match with a dog who has a package of cocaine in his mouth . xxmaj the package explodes and the cocaine splashes all over him . xxmaj he comes back to the job , strung out on coke . xxmaj now , how are we supposed to laugh at the fact that he 's acting hyper and on - edge , when he 's doing the same thing throughout the whole film ? \n",
       " \n",
       "  xxmaj as for the rest of the cast members ... xxmaj vanessa xxmaj shaw is really hot , xxmaj peter xxmaj berg is wasted in a thankless role and so is xxmaj chris xxmaj penn . xxmaj peter xxmaj falk is also wasted , though he has a few funny lines that i 'm pretty sure he improvised . i hope xxmaj falk gets a decent movie someday soon . xxmaj that 's too much talent too waste on a clunker like \" xxmaj corky xxmaj romano . \" i did n't like xxmaj falk 's last movie \" xxmaj made \" all that much either , but at least he had a decent role . \n",
       " \n",
       "  i chuckled a few times , but i could not get a single laugh . xxmaj each gag is performed with no sense of timing or delivery . xxmaj and it 's made worse by xxmaj kattan 's hammy acting . xxmaj and there are certain gags that are xxunk dragged out . xxmaj for example , when xxmaj kattan is about to fart in his two brothers ' faces . xxmaj he stands there for 2 or 3 minutes , trying to get out a fart and when he finally he does it 's a little tiny one . xxmaj it 's bad enough when you have a gag that 's funny and drag it out , but when you have a lame gag and you drag it out it 's a hell of a lot worse . xxmaj and another example of this is when he tries to translate what those two xxmaj asian men are saying during a drug bust . i can go on and on about what 's wrong with this so - called comedy , but i 'm not gon na waste my time . xxmaj like i said earlier , if you predicted bad things from the trailers -- you predicted right . \n",
       " \n",
       "  xxmaj my score : 3 ( out of 10 ),xxbos i bought this movie and after i watched it i decided that i did not care for it . xxmaj the acting was xxup bad . xxmaj was the principal a robot ? xxmaj he had no personality and his facial expression did n't change through the whole movie . xxmaj at times the voices did n't match up . xxmaj people talking and their lips did n't even move .,xxbos a truly horrible film that left me feeling sullied by having watched the forty minutes or so i could stand . xxmaj not the actors ' fault , but the writer / director , producers , financiers , etc . , need a very stiff talking to . xxmaj maybe it thinks it is profound . xxmaj it is n't . xxmaj this rape and ultra - violence , unlike that central to xxmaj clockwork xxmaj orange , has nothing to say about or add to the sum of human understanding . xxmaj it 's no xxmaj straw xxmaj dogs , either , to which i have seen it compared . xxmaj rather it feels like something xxmaj pete xxmaj walker might have turned his hand to , yet even in saying that i 'm probably being a bit unfair on xxmaj pete xxmaj walker . \n",
       " \n",
       "  xxmaj revenge is a powerful human desire , but xxmaj the xxmaj bedroom xxmaj window has more to say about that and male xxunk than this pitiful effort . \n",
       " \n",
       "  i do n't think it 's particularly misogynistic , merely too gleeful in its depiction of certain details -- the blood running down xxup ga 's leg post rape , par example . xxmaj it 's neither challenging nor confrontational , though i 'm sure the film - makers consider themselves very ' daring ' , just deeply unpleasant . \n",
       " \n",
       "  xxmaj is this as high as we can aim ? xxmaj is this why those involved wanted to make films ? ( i did write in here the xxmaj latin phrase which translates as xxmaj oh the xxmaj times ! xxmaj oh the customs ! xxmaj but the new spell - check on imdb would n't let me post until i had removed it . xxmaj likewise i had to remove square parentheses . xxmaj get it sorted imdb . ) \n",
       " \n",
       "  xxmaj where is the lofty aspiration ? xxmaj the noble impulse ? xxmaj when you look at xxmaj british film - the joyful comedies of xxmaj ealing or the xxmaj boulting xxmaj brothers ; xxmaj carol xxmaj reed 's work with xxmaj graham xxmaj greene on xxmaj fallen xxmaj idol , xxmaj our xxmaj man in xxmaj havana or the sublime xxmaj the xxmaj third xxmaj man ( a film which has far more to say about evil than a thousand xxmaj straightheads ) ; the work of xxmaj powell & xxmaj pressburger ; or if you want to talk about sex , violence and male xxunk look at \" xxmaj the xxmaj offence ' xxmaj dir . xxmaj sidney xxmaj lumet , from an original play by xxmaj john xxmaj hopkins ; check out \" xxmaj tunes of xxmaj glory \" for something worth making , that has something to say . \n",
       " \n",
       "  xxmaj unlike the foregoing , xxmaj straightheads is , alas , an altogether hateful waste of celluloid .,xxbos * * * xxup review xxup may xxup contain xxup some xxup spoilers * * * i 'll make this review short and sweet . i bought this movie from xxmaj best xxmaj buy because it sounded interested and had some top actors in it like xxmaj kevin xxmaj spacey and xxmaj morgan xxmaj freeman . xxmaj how bad could it be , right ? xxmaj well , it 's pretty bad . xxmaj justin xxmaj timberlake plays xxmaj pollack , a wannabe journalist who stumbles across a case that may lead to corrupt cops at xxmaj edison 's xxmaj police xxmaj force . xxup ll xxmaj cool j is xxmaj deed , a cop within the force on a special force team called xxup f.r.a.t. ( xxmaj first xxmaj response xxmaj assault xxmaj tactics ) . xxmaj he 's teamed with an \" on - the - edge \" bad cop named xxmaj lazerov ( xxmaj dylan mcdermott ) . xxmaj in the opening scene we see xxmaj lazerov & xxmaj deed taking on some bank robbers , but at night they are busting a couple of guys doing drugs . i do n't want to give to much away , but things turn bad for the guys doing the drugs . xxmaj pollack , who works for xxmaj ashford ( xxmaj morgan xxmaj freeman ) goes to a trial involving xxmaj deeds & xxmaj lazerov . xxmaj he suspect foul play and with the help of xxmaj ashford , does some investigate that turns ugly . xxmaj wallace ( xxmaj kevin xxmaj spacey ) who is all within the xxup f.r.a.t. team joins with xxmaj ashford to try to bring the corrupt cops to justice . \n",
       " \n",
       "  xxmaj you can tell from the beginning that xxmaj freeman and xxmaj spacey 's performance are pretty lackluster . xxmaj the only person that give a all out performance is xxmaj dylan mcdermott . xxmaj he is a complete nut case in this movie and made a believer out of me . xxup ll xxmaj cool j is terrible in this film . xxmaj he says every line the same way and shows pretty much the same emotion . xxmaj he was much better in movies like xxmaj deep xxmaj blue xxmaj sea & xxmaj any xxmaj given xxmaj sunday . xxmaj the film starts off with some nice action but then drags it feet through the rest of the film . xxmaj the ending is far from satisfying . \n",
       " \n",
       "  xxmaj do n't waste your time with this film . i 'm putting it on xxmaj ebay this weekend .,xxbos xxmaj the only thing that kept me from vomiting after seeing this movie was the fact that these are just actors and not the freak show that usually appears on the xxup tv show . xxmaj this is also the main reason that fans of the xxup tv show wo n't like the movie , but not the only reason . xxmaj this movie has about as much entertainment value as getting a root canal . xxmaj it approaches the xxunk depths of bad movie making , and then gets even worse . i wo n't waste your time describing this movie in further detail ; suffice it to say that i pity the poor camera people who had to suffer through watching this c**p the first time .\n",
       "y: CategoryList\n",
       "neg,neg,neg,neg,neg\n",
       "Path: /home/luan/.fastai/data/imdb;\n",
       "\n",
       "Valid: LabelList (25000 items)\n",
       "x: TextList\n",
       "xxbos xxmaj this movie ca n't decide what it is -- a soft porno or a sf movie . xxmaj not enough plot for a real movie , but way too much for a porno . \n",
       " \n",
       "  xxmaj in a galaxy far far away , a good princess ( we know she 's good because she has long blonde hair , wears a white toga , is polite , and is mooning wistfully about her dying mother when we first see her ) inherits the kingdom over her elder sister , who is evil ( and we know this because she has dark hair and wears too much makeup , abuses her male sexual slaves , sneers and curls her lip all the time , and talks xxunk about the horrors she 'll perpetrate when she 's queen ) . xxmaj the evil princess gets upset and tries to stage a coup , but the good sister gets away to xxmaj earth . xxmaj of course , she materializes buck naked in a bar during a wet t - shirt contest . xxmaj it really goes downhill from there . xxmaj the acting is ludicrous , the dialog sounds like it was written for a porno , and the general storyline is ridiculous . xxmaj there 's not even enough skin to make happy the sort of person who 'd watch this for skin . i love \" good \" bad movies , and this one 's not even enjoyable on a \" bad movie \" level .,xxbos xxmaj this pathetic excuse for a movie does n't have a decent structure or a sensible closure . xxmaj the characters were confusing and the entire plot kept getting off track . i 'd have to say that xxmaj pixel xxmaj perfect was a disgrace . xxmaj this is what happens when you let xxmaj disney channel make movies .,xxbos i saw this movie and was bored out of my mind ! i am a fan of xxmaj peanuts , but i ca n't understand why xxmaj charles xxmaj schultz let this disaster be made ! xxmaj spoilers ahead . \n",
       " \n",
       "  i ca n't believe xxmaj snoopy would let his friends sleep on the ground outside in a dangerous situation and go out to a bar and swig a few cold ones without standing watch ! xxmaj the story was complete nonsense , even for comic strip characters . xxmaj it takes them t xxrep 4 o long to get to xxmaj france , plus once they get to xxmaj france i had a feeling that the writer ( i still ca n't believe it was xxmaj schultz ) did n't know what to do once they got there . \n",
       " \n",
       "  xxmaj peanuts is best made in 30 minute episodes , not 80 minute movies . \n",
       " \n",
       "  xxmaj go home xxmaj charlie xxmaj brown , you are at your best there . \n",
       " \n",
       " ,xxbos xxmaj every xxmaj james xxmaj bond movie has its own set of rules . xxmaj just like every xxmaj indiana xxmaj jones movie has xxup its own set of rules . xxmaj and the fact that screenwriters do n't break these rules maintains the integrity of the characters . xxmaj with a completely unnecessary plot twist , the integrity of both xxmaj ocean films plummets somewhere between xxmaj airplane 2 and a xxmaj roadrunner cartoon . \n",
       " \n",
       "  xxmaj imagine what would happen , while teetering on the rope bridge outside of the xxmaj temple of xxmaj doom , if xxmaj indy told xxmaj shorty and xxmaj willie not to worry because throughout the entire first two movies he 's secretly had super powers and can fly them both to safety . \n",
       " \n",
       "  xxmaj entertaining ? xxmaj sure , for a xxmaj roadrunner cartoon . xxmaj but xxmaj spielberg would never have done that because it would have destroyed the integrity of the film . xxmaj more importantly , it would have xxup angered the audience . xxmaj they 'd already sat on the edge of their seats through 3 hours worth of xxmaj indiana xxmaj jones movies and they were counting on xxmaj indiana to get them off that bridge in a believable way . xxmaj if he were to fly off ? xxmaj people would have walked out of the theaters the same way people did during xxmaj ocean 's 12 . \n",
       " \n",
       "  xxup spoilers \n",
       " \n",
       "  1 . xxmaj julia xxmaj xxunk , xxmaj tess , infiltrates a museum by disguising herself as ... xxmaj julia xxmaj roberts ? ! ? a clever twist ? xxmaj by breaking the fourth wall three hours after we 've been introduced to these characters ? xxmaj is this the xxmaj naked xxmaj gun 33 and 1 / 3 ? xxmaj it 's a textbook example of how a cheap laugh can ruin an entire film . xxmaj but wait ... just in case you have n't walked out yet ... \n",
       " \n",
       "  2 . xxmaj the suspense builds throughout the last hour of the movie -- how will they pull off the heist -- there are only 10 ... 8 ... 5 ... 2 xxup days xxup left ! xxmaj and then in the last 12 minutes of the film , the xxup only entertaining part of this movie , we see that the heist was made days earlier and took xxmaj matt xxmaj damon all of 30 seconds to pull off . xxmaj the past 10 days ? a complete waste of your time . \n",
       " \n",
       "  xxup back xxup to xxup indiana xxup jones xxup on xxup the xxup rope xxup bridge ... xxunk relax , xxmaj willie ! i stole the xxup real stones back about a month ago ! xxmaj besides , i convinced them you were xxmaj kate xxmaj capshaw ! \" \n",
       " \n",
       "  xxmaj if you have n't already seen it , cut your losses and go see the xxmaj polar xxmaj express . i do n't want to ruin the ending for you , but there really is a xxmaj santa xxmaj claus . xxmaj most importantly , you wo n't feel cheated leaving the theater .,xxbos xxmaj when xxup hulk hit theaters in 2003 , it was n't long before dvds of the old xxmaj incredible xxmaj hulk xxup tv show popped up in an attempt to cash in on the craze . xxmaj we saw a similar occurrence a year prior when xxmaj spider - xxmaj man cartoons appeared on xxup dvd to coincide with that hero 's big screen debut . xxmaj companies leap at the opportunity to ride on the financial coattails of a hot brand . \n",
       " \n",
       "  xxmaj so the fact that this picture never surfaced on the shelves of xxmaj wal - xxmaj mart as its featured heroes clobbered the box office in the summer of 2005 says a lot . i guess everyone involved would just rather forget . xxmaj to be fair , xxup the xxup fantastic xxup four is not as bad as everyone says . xxmaj let me rephrase that . xxmaj it 's not as unentertaining as all of its negative reviews might suggest . \n",
       " \n",
       "  xxmaj veteran television actor xxmaj alex xxmaj hyde - xxmaj white ( no , you do n't remember any of his roles ) leads the way as xxmaj reed xxmaj richards , the brilliant scientist who , along with his crew , gains bizarre powers after an outer space mishap . xxmaj he 's left with the ability to stretch and xxunk his body to outrageous lengths . xxmaj his future wife , xxmaj sue xxmaj storm ( xxmaj rebecca xxmaj xxunk ) , can suddenly turn invisible , while her brother , xxmaj johnny ( xxmaj jay xxmaj underwood ) , may now ignite himself at will . xxmaj then there 's poor xxmaj ben xxmaj grimm ( xxmaj michael xxmaj bailey xxmaj smith ) , the lovable lug whose body morphs into a mass of craggy , orange rock . \n",
       " \n",
       "  xxmaj just as the friends are becoming accustomed to all of this , they are called upon to rescue the world from certain chaos . xxmaj it seems xxmaj reed 's old colleague xxmaj victor von xxmaj doom ( xxmaj joseph xxmaj culp ) is living up to his name , and that villainous xxmaj jeweler ( xxmaj ian xxmaj trigger ) is n't exactly helping old ladies cross the street , either . xxmaj can our heroes save the day ? xxmaj of course they can ; like any superhero movie , it 's just a question of how and when . \n",
       " \n",
       "  xxmaj what 's striking about xxup the xxup fantastic xxup four is how amateurish it is in virtually every aspect . xxmaj the dialog is so lame and tired it sounds like it was written by a junior high drama class . xxmaj the acting is so unpolished it makes a third - rate afternoon soap opera look like xxmaj shakespeare . xxmaj the special effects are surprisingly good considering the minuscule budget , but there are still some positively embarrassing moments . xxmaj when xxmaj the xxmaj human xxmaj torch fully ignites his body , for instance , the entire movie briefly turns into a cartoon . i can just hear that production meeting . \" xxmaj oh , no one will notice . xxmaj they 'll be too intrigued by the action ! \" i mean really , a cartoon ? xxmaj at least give me a mannequin on fire held up by a string ! xxmaj prior to that , the scene in which the foursome come to on earth after their spaceship crashes is pure teens - in - the - backyard fare . xxmaj the crew simply found a field and lit a vaguely - spaceship - like object on fire . xxmaj that 's the only remnant of such a major disaster ? \n",
       " \n",
       "  xxmaj of course there was n't a whole lot to work with in the script . xxmaj there is a fairly coherent story here , but it 's all so simplified . xxmaj when xxmaj reed and xxmaj ben decide to go into outer space , they simply drop by the xxmaj storms ' house and ask if they 'd care to join them . xxmaj is it really that easy ? xxmaj do n't these sort of things require , oh , i do n't know , years of training and expertise ? xxmaj not in the world of these writers , who seemed to be inspired by the underrated genius on display in xxup full xxup house reruns . xxmaj but as bad as that may be , nothing can compare to how painfully clichéd xxmaj dr. xxmaj doom is . xxmaj he was pulled right out of those awful superhero cartoons from the 1960s , right down to the evil laugh and slamming his clenched fist down on the table to punctuate his remarks . xxmaj no comic book , least of all xxmaj fantastic xxmaj four , has ever featured a villain so obscenely one dimensional . \n",
       " \n",
       "  xxmaj ultimately , xxup the xxup fantastic xxup four is saved from being a complete turkey because it 's just so damn innocent . xxmaj you can tell the people involved , as little talent or experience as they had , really tried . xxmaj they did n't know the final result would be so embarrassing . xxmaj they were under the impression that this was their big break , that people would flock to the theaters . xxmaj it bears repeating that they had virtually no money to work with ( and i 'm sure half of that was eaten up by the cool xxmaj thing costume ) . xxmaj all things considered , they did well , and for its many flaws , the finished product is a fair amount of fun for comic book fans .\n",
       "y: CategoryList\n",
       "neg,neg,neg,neg,neg\n",
       "Path: /home/luan/.fastai/data/imdb;\n",
       "\n",
       "Test: None, model=SequentialRNN(\n",
       "  (0): MultiBatchEncoder(\n",
       "    (module): AWD_LSTM(\n",
       "      (encoder): Embedding(60003, 400, padding_idx=1)\n",
       "      (encoder_dp): EmbeddingDropout(\n",
       "        (emb): Embedding(60003, 400, padding_idx=1)\n",
       "      )\n",
       "      (rnns): ModuleList(\n",
       "        (0): WeightDropout(\n",
       "          (module): LSTM(400, 1150, batch_first=True)\n",
       "        )\n",
       "        (1): WeightDropout(\n",
       "          (module): LSTM(1150, 1150, batch_first=True)\n",
       "        )\n",
       "        (2): WeightDropout(\n",
       "          (module): LSTM(1150, 400, batch_first=True)\n",
       "        )\n",
       "      )\n",
       "      (input_dp): RNNDropout()\n",
       "      (hidden_dps): ModuleList(\n",
       "        (0): RNNDropout()\n",
       "        (1): RNNDropout()\n",
       "        (2): RNNDropout()\n",
       "      )\n",
       "    )\n",
       "  )\n",
       "  (1): PoolingLinearClassifier(\n",
       "    (layers): Sequential(\n",
       "      (0): BatchNorm1d(1200, eps=1e-05, momentum=0.1, affine=True, track_running_stats=True)\n",
       "      (1): Dropout(p=0.2)\n",
       "      (2): Linear(in_features=1200, out_features=50, bias=True)\n",
       "      (3): ReLU(inplace)\n",
       "      (4): BatchNorm1d(50, eps=1e-05, momentum=0.1, affine=True, track_running_stats=True)\n",
       "      (5): Dropout(p=0.1)\n",
       "      (6): Linear(in_features=50, out_features=2, bias=True)\n",
       "    )\n",
       "  )\n",
       "), opt_func=functools.partial(<class 'torch.optim.adam.Adam'>, betas=(0.9, 0.99)), loss_func=FlattenedLoss of CrossEntropyLoss(), metrics=[<function accuracy at 0x7fcfda6d6ae8>], true_wd=True, bn_wd=True, wd=0.01, train_bn=True, path=PosixPath('/home/luan/.fastai/data/imdb'), model_dir='models', callback_fns=[<class 'fastai.basic_train.Recorder'>], callbacks=[...], layer_groups=[Sequential(\n",
       "  (0): Embedding(60003, 400, padding_idx=1)\n",
       "  (1): EmbeddingDropout(\n",
       "    (emb): Embedding(60003, 400, padding_idx=1)\n",
       "  )\n",
       "), Sequential(\n",
       "  (0): WeightDropout(\n",
       "    (module): LSTM(400, 1150, batch_first=True)\n",
       "  )\n",
       "  (1): RNNDropout()\n",
       "), Sequential(\n",
       "  (0): WeightDropout(\n",
       "    (module): LSTM(1150, 1150, batch_first=True)\n",
       "  )\n",
       "  (1): RNNDropout()\n",
       "), Sequential(\n",
       "  (0): WeightDropout(\n",
       "    (module): LSTM(1150, 400, batch_first=True)\n",
       "  )\n",
       "  (1): RNNDropout()\n",
       "), Sequential(\n",
       "  (0): PoolingLinearClassifier(\n",
       "    (layers): Sequential(\n",
       "      (0): BatchNorm1d(1200, eps=1e-05, momentum=0.1, affine=True, track_running_stats=True)\n",
       "      (1): Dropout(p=0.2)\n",
       "      (2): Linear(in_features=1200, out_features=50, bias=True)\n",
       "      (3): ReLU(inplace)\n",
       "      (4): BatchNorm1d(50, eps=1e-05, momentum=0.1, affine=True, track_running_stats=True)\n",
       "      (5): Dropout(p=0.1)\n",
       "      (6): Linear(in_features=50, out_features=2, bias=True)\n",
       "    )\n",
       "  )\n",
       ")])\n",
       "alpha: 2.0\n",
       "beta: 1.0], layer_groups=[Sequential(\n",
       "  (0): Embedding(60003, 400, padding_idx=1)\n",
       "  (1): EmbeddingDropout(\n",
       "    (emb): Embedding(60003, 400, padding_idx=1)\n",
       "  )\n",
       "), Sequential(\n",
       "  (0): WeightDropout(\n",
       "    (module): LSTM(400, 1150, batch_first=True)\n",
       "  )\n",
       "  (1): RNNDropout()\n",
       "), Sequential(\n",
       "  (0): WeightDropout(\n",
       "    (module): LSTM(1150, 1150, batch_first=True)\n",
       "  )\n",
       "  (1): RNNDropout()\n",
       "), Sequential(\n",
       "  (0): WeightDropout(\n",
       "    (module): LSTM(1150, 400, batch_first=True)\n",
       "  )\n",
       "  (1): RNNDropout()\n",
       "), Sequential(\n",
       "  (0): PoolingLinearClassifier(\n",
       "    (layers): Sequential(\n",
       "      (0): BatchNorm1d(1200, eps=1e-05, momentum=0.1, affine=True, track_running_stats=True)\n",
       "      (1): Dropout(p=0.2)\n",
       "      (2): Linear(in_features=1200, out_features=50, bias=True)\n",
       "      (3): ReLU(inplace)\n",
       "      (4): BatchNorm1d(50, eps=1e-05, momentum=0.1, affine=True, track_running_stats=True)\n",
       "      (5): Dropout(p=0.1)\n",
       "      (6): Linear(in_features=50, out_features=2, bias=True)\n",
       "    )\n",
       "  )\n",
       ")])"
      ]
     },
     "execution_count": 11,
     "metadata": {},
     "output_type": "execute_result"
    }
   ],
   "source": [
    "learn.load('second')"
   ]
  },
  {
   "cell_type": "markdown",
   "metadata": {},
   "source": [
    "# Continue training. Modify bach size to fit in GPU"
   ]
  },
  {
   "cell_type": "code",
   "execution_count": 12,
   "metadata": {},
   "outputs": [],
   "source": [
    "# Modify the bach size\n",
    "bs = 30\n",
    "learn.data.batch_size = bs"
   ]
  },
  {
   "cell_type": "code",
   "execution_count": 13,
   "metadata": {},
   "outputs": [
    {
     "data": {
      "text/html": [
       "Total time: 34:20 <p><table style='width:300px; margin-bottom:10px'>\n",
       "  <tr>\n",
       "    <th>epoch</th>\n",
       "    <th>train_loss</th>\n",
       "    <th>valid_loss</th>\n",
       "    <th>accuracy</th>\n",
       "  </tr>\n",
       "  <tr>\n",
       "    <th>1</th>\n",
       "    <th>0.355103</th>\n",
       "    <th>0.299147</th>\n",
       "    <th>0.872800</th>\n",
       "  </tr>\n",
       "  <tr>\n",
       "    <th>2</th>\n",
       "    <th>0.527454</th>\n",
       "    <th>0.358387</th>\n",
       "    <th>0.835640</th>\n",
       "  </tr>\n",
       "  <tr>\n",
       "    <th>3</th>\n",
       "    <th>0.426946</th>\n",
       "    <th>0.314960</th>\n",
       "    <th>0.864320</th>\n",
       "  </tr>\n",
       "  <tr>\n",
       "    <th>4</th>\n",
       "    <th>0.421342</th>\n",
       "    <th>0.303351</th>\n",
       "    <th>0.871920</th>\n",
       "  </tr>\n",
       "</table>\n"
      ],
      "text/plain": [
       "<IPython.core.display.HTML object>"
      ]
     },
     "metadata": {},
     "output_type": "display_data"
    }
   ],
   "source": [
    "learn.freeze_to(-3)\n",
    "learn.fit_one_cycle(4, slice(5e-3/(2.6**4),5e-3), moms=(0.8,0.7))"
   ]
  },
  {
   "cell_type": "code",
   "execution_count": 14,
   "metadata": {},
   "outputs": [],
   "source": [
    "learn.save('third')"
   ]
  },
  {
   "cell_type": "code",
   "execution_count": 11,
   "metadata": {},
   "outputs": [
    {
     "data": {
      "text/plain": [
       "RNNLearner(data=TextClasDataBunch;\n",
       "\n",
       "Train: LabelList (25000 items)\n",
       "x: TextList\n",
       "xxbos xxmaj admittedly , i did n't have high expectations of \" xxmaj corky xxmaj romano . \" xxmaj but then again , who did ? xxmaj however , i felt it deserved the benefit of the doubt . i had no high hopes of \" xxmaj joe xxmaj dirt \" either -- another recent comedy starring an xxup snl cast member -- and i ended up being pleasantly surprised . xxmaj but this film is just as bad as it looks in the previews . xxmaj chris xxmaj kattan is actually a talented comic actor -- contrary to what you might think after watching this movie -- with great energy . xxmaj he 's been in many hilarious xxup snl skits , and i think he 's one of the most talented cast members on xxup snl as of now . xxmaj in this case , he 's given a lame , pointless script and he tries to remedy each scene with his incessant mugging . xxmaj throughout each scene , he attempts a lame xxmaj jerry xxmaj lewis act and fails miserably . xxmaj jerry xxmaj lewis knew how to pull off this type of physical comedy , not to mention he worked with much better writing . xxmaj kattan simply looks like some ignorant fool with xxup adhd who had one too many xxmaj cafe xxmaj xxunk . xxmaj he does n't even wait for the punchline ; he assumes we 'll all laugh once he starts jumping around like an ape on crack . xxmaj in one scene , he ends up in a tugging match with a dog who has a package of cocaine in his mouth . xxmaj the package explodes and the cocaine splashes all over him . xxmaj he comes back to the job , strung out on coke . xxmaj now , how are we supposed to laugh at the fact that he 's acting hyper and on - edge , when he 's doing the same thing throughout the whole film ? \n",
       " \n",
       "  xxmaj as for the rest of the cast members ... xxmaj vanessa xxmaj shaw is really hot , xxmaj peter xxmaj berg is wasted in a thankless role and so is xxmaj chris xxmaj penn . xxmaj peter xxmaj falk is also wasted , though he has a few funny lines that i 'm pretty sure he improvised . i hope xxmaj falk gets a decent movie someday soon . xxmaj that 's too much talent too waste on a clunker like \" xxmaj corky xxmaj romano . \" i did n't like xxmaj falk 's last movie \" xxmaj made \" all that much either , but at least he had a decent role . \n",
       " \n",
       "  i chuckled a few times , but i could not get a single laugh . xxmaj each gag is performed with no sense of timing or delivery . xxmaj and it 's made worse by xxmaj kattan 's hammy acting . xxmaj and there are certain gags that are xxunk dragged out . xxmaj for example , when xxmaj kattan is about to fart in his two brothers ' faces . xxmaj he stands there for 2 or 3 minutes , trying to get out a fart and when he finally he does it 's a little tiny one . xxmaj it 's bad enough when you have a gag that 's funny and drag it out , but when you have a lame gag and you drag it out it 's a hell of a lot worse . xxmaj and another example of this is when he tries to translate what those two xxmaj asian men are saying during a drug bust . i can go on and on about what 's wrong with this so - called comedy , but i 'm not gon na waste my time . xxmaj like i said earlier , if you predicted bad things from the trailers -- you predicted right . \n",
       " \n",
       "  xxmaj my score : 3 ( out of 10 ),xxbos i bought this movie and after i watched it i decided that i did not care for it . xxmaj the acting was xxup bad . xxmaj was the principal a robot ? xxmaj he had no personality and his facial expression did n't change through the whole movie . xxmaj at times the voices did n't match up . xxmaj people talking and their lips did n't even move .,xxbos a truly horrible film that left me feeling sullied by having watched the forty minutes or so i could stand . xxmaj not the actors ' fault , but the writer / director , producers , financiers , etc . , need a very stiff talking to . xxmaj maybe it thinks it is profound . xxmaj it is n't . xxmaj this rape and ultra - violence , unlike that central to xxmaj clockwork xxmaj orange , has nothing to say about or add to the sum of human understanding . xxmaj it 's no xxmaj straw xxmaj dogs , either , to which i have seen it compared . xxmaj rather it feels like something xxmaj pete xxmaj walker might have turned his hand to , yet even in saying that i 'm probably being a bit unfair on xxmaj pete xxmaj walker . \n",
       " \n",
       "  xxmaj revenge is a powerful human desire , but xxmaj the xxmaj bedroom xxmaj window has more to say about that and male xxunk than this pitiful effort . \n",
       " \n",
       "  i do n't think it 's particularly misogynistic , merely too gleeful in its depiction of certain details -- the blood running down xxup ga 's leg post rape , par example . xxmaj it 's neither challenging nor confrontational , though i 'm sure the film - makers consider themselves very ' daring ' , just deeply unpleasant . \n",
       " \n",
       "  xxmaj is this as high as we can aim ? xxmaj is this why those involved wanted to make films ? ( i did write in here the xxmaj latin phrase which translates as xxmaj oh the xxmaj times ! xxmaj oh the customs ! xxmaj but the new spell - check on imdb would n't let me post until i had removed it . xxmaj likewise i had to remove square parentheses . xxmaj get it sorted imdb . ) \n",
       " \n",
       "  xxmaj where is the lofty aspiration ? xxmaj the noble impulse ? xxmaj when you look at xxmaj british film - the joyful comedies of xxmaj ealing or the xxmaj boulting xxmaj brothers ; xxmaj carol xxmaj reed 's work with xxmaj graham xxmaj greene on xxmaj fallen xxmaj idol , xxmaj our xxmaj man in xxmaj havana or the sublime xxmaj the xxmaj third xxmaj man ( a film which has far more to say about evil than a thousand xxmaj straightheads ) ; the work of xxmaj powell & xxmaj pressburger ; or if you want to talk about sex , violence and male xxunk look at \" xxmaj the xxmaj offence ' xxmaj dir . xxmaj sidney xxmaj lumet , from an original play by xxmaj john xxmaj hopkins ; check out \" xxmaj tunes of xxmaj glory \" for something worth making , that has something to say . \n",
       " \n",
       "  xxmaj unlike the foregoing , xxmaj straightheads is , alas , an altogether hateful waste of celluloid .,xxbos * * * xxup review xxup may xxup contain xxup some xxup spoilers * * * i 'll make this review short and sweet . i bought this movie from xxmaj best xxmaj buy because it sounded interested and had some top actors in it like xxmaj kevin xxmaj spacey and xxmaj morgan xxmaj freeman . xxmaj how bad could it be , right ? xxmaj well , it 's pretty bad . xxmaj justin xxmaj timberlake plays xxmaj pollack , a wannabe journalist who stumbles across a case that may lead to corrupt cops at xxmaj edison 's xxmaj police xxmaj force . xxup ll xxmaj cool j is xxmaj deed , a cop within the force on a special force team called xxup f.r.a.t. ( xxmaj first xxmaj response xxmaj assault xxmaj tactics ) . xxmaj he 's teamed with an \" on - the - edge \" bad cop named xxmaj lazerov ( xxmaj dylan mcdermott ) . xxmaj in the opening scene we see xxmaj lazerov & xxmaj deed taking on some bank robbers , but at night they are busting a couple of guys doing drugs . i do n't want to give to much away , but things turn bad for the guys doing the drugs . xxmaj pollack , who works for xxmaj ashford ( xxmaj morgan xxmaj freeman ) goes to a trial involving xxmaj deeds & xxmaj lazerov . xxmaj he suspect foul play and with the help of xxmaj ashford , does some investigate that turns ugly . xxmaj wallace ( xxmaj kevin xxmaj spacey ) who is all within the xxup f.r.a.t. team joins with xxmaj ashford to try to bring the corrupt cops to justice . \n",
       " \n",
       "  xxmaj you can tell from the beginning that xxmaj freeman and xxmaj spacey 's performance are pretty lackluster . xxmaj the only person that give a all out performance is xxmaj dylan mcdermott . xxmaj he is a complete nut case in this movie and made a believer out of me . xxup ll xxmaj cool j is terrible in this film . xxmaj he says every line the same way and shows pretty much the same emotion . xxmaj he was much better in movies like xxmaj deep xxmaj blue xxmaj sea & xxmaj any xxmaj given xxmaj sunday . xxmaj the film starts off with some nice action but then drags it feet through the rest of the film . xxmaj the ending is far from satisfying . \n",
       " \n",
       "  xxmaj do n't waste your time with this film . i 'm putting it on xxmaj ebay this weekend .,xxbos xxmaj the only thing that kept me from vomiting after seeing this movie was the fact that these are just actors and not the freak show that usually appears on the xxup tv show . xxmaj this is also the main reason that fans of the xxup tv show wo n't like the movie , but not the only reason . xxmaj this movie has about as much entertainment value as getting a root canal . xxmaj it approaches the xxunk depths of bad movie making , and then gets even worse . i wo n't waste your time describing this movie in further detail ; suffice it to say that i pity the poor camera people who had to suffer through watching this c**p the first time .\n",
       "y: CategoryList\n",
       "neg,neg,neg,neg,neg\n",
       "Path: /home/luan/.fastai/data/imdb;\n",
       "\n",
       "Valid: LabelList (25000 items)\n",
       "x: TextList\n",
       "xxbos xxmaj this movie ca n't decide what it is -- a soft porno or a sf movie . xxmaj not enough plot for a real movie , but way too much for a porno . \n",
       " \n",
       "  xxmaj in a galaxy far far away , a good princess ( we know she 's good because she has long blonde hair , wears a white toga , is polite , and is mooning wistfully about her dying mother when we first see her ) inherits the kingdom over her elder sister , who is evil ( and we know this because she has dark hair and wears too much makeup , abuses her male sexual slaves , sneers and curls her lip all the time , and talks xxunk about the horrors she 'll perpetrate when she 's queen ) . xxmaj the evil princess gets upset and tries to stage a coup , but the good sister gets away to xxmaj earth . xxmaj of course , she materializes buck naked in a bar during a wet t - shirt contest . xxmaj it really goes downhill from there . xxmaj the acting is ludicrous , the dialog sounds like it was written for a porno , and the general storyline is ridiculous . xxmaj there 's not even enough skin to make happy the sort of person who 'd watch this for skin . i love \" good \" bad movies , and this one 's not even enjoyable on a \" bad movie \" level .,xxbos xxmaj this pathetic excuse for a movie does n't have a decent structure or a sensible closure . xxmaj the characters were confusing and the entire plot kept getting off track . i 'd have to say that xxmaj pixel xxmaj perfect was a disgrace . xxmaj this is what happens when you let xxmaj disney channel make movies .,xxbos i saw this movie and was bored out of my mind ! i am a fan of xxmaj peanuts , but i ca n't understand why xxmaj charles xxmaj schultz let this disaster be made ! xxmaj spoilers ahead . \n",
       " \n",
       "  i ca n't believe xxmaj snoopy would let his friends sleep on the ground outside in a dangerous situation and go out to a bar and swig a few cold ones without standing watch ! xxmaj the story was complete nonsense , even for comic strip characters . xxmaj it takes them t xxrep 4 o long to get to xxmaj france , plus once they get to xxmaj france i had a feeling that the writer ( i still ca n't believe it was xxmaj schultz ) did n't know what to do once they got there . \n",
       " \n",
       "  xxmaj peanuts is best made in 30 minute episodes , not 80 minute movies . \n",
       " \n",
       "  xxmaj go home xxmaj charlie xxmaj brown , you are at your best there . \n",
       " \n",
       " ,xxbos xxmaj every xxmaj james xxmaj bond movie has its own set of rules . xxmaj just like every xxmaj indiana xxmaj jones movie has xxup its own set of rules . xxmaj and the fact that screenwriters do n't break these rules maintains the integrity of the characters . xxmaj with a completely unnecessary plot twist , the integrity of both xxmaj ocean films plummets somewhere between xxmaj airplane 2 and a xxmaj roadrunner cartoon . \n",
       " \n",
       "  xxmaj imagine what would happen , while teetering on the rope bridge outside of the xxmaj temple of xxmaj doom , if xxmaj indy told xxmaj shorty and xxmaj willie not to worry because throughout the entire first two movies he 's secretly had super powers and can fly them both to safety . \n",
       " \n",
       "  xxmaj entertaining ? xxmaj sure , for a xxmaj roadrunner cartoon . xxmaj but xxmaj spielberg would never have done that because it would have destroyed the integrity of the film . xxmaj more importantly , it would have xxup angered the audience . xxmaj they 'd already sat on the edge of their seats through 3 hours worth of xxmaj indiana xxmaj jones movies and they were counting on xxmaj indiana to get them off that bridge in a believable way . xxmaj if he were to fly off ? xxmaj people would have walked out of the theaters the same way people did during xxmaj ocean 's 12 . \n",
       " \n",
       "  xxup spoilers \n",
       " \n",
       "  1 . xxmaj julia xxmaj xxunk , xxmaj tess , infiltrates a museum by disguising herself as ... xxmaj julia xxmaj roberts ? ! ? a clever twist ? xxmaj by breaking the fourth wall three hours after we 've been introduced to these characters ? xxmaj is this the xxmaj naked xxmaj gun 33 and 1 / 3 ? xxmaj it 's a textbook example of how a cheap laugh can ruin an entire film . xxmaj but wait ... just in case you have n't walked out yet ... \n",
       " \n",
       "  2 . xxmaj the suspense builds throughout the last hour of the movie -- how will they pull off the heist -- there are only 10 ... 8 ... 5 ... 2 xxup days xxup left ! xxmaj and then in the last 12 minutes of the film , the xxup only entertaining part of this movie , we see that the heist was made days earlier and took xxmaj matt xxmaj damon all of 30 seconds to pull off . xxmaj the past 10 days ? a complete waste of your time . \n",
       " \n",
       "  xxup back xxup to xxup indiana xxup jones xxup on xxup the xxup rope xxup bridge ... xxunk relax , xxmaj willie ! i stole the xxup real stones back about a month ago ! xxmaj besides , i convinced them you were xxmaj kate xxmaj capshaw ! \" \n",
       " \n",
       "  xxmaj if you have n't already seen it , cut your losses and go see the xxmaj polar xxmaj express . i do n't want to ruin the ending for you , but there really is a xxmaj santa xxmaj claus . xxmaj most importantly , you wo n't feel cheated leaving the theater .,xxbos xxmaj when xxup hulk hit theaters in 2003 , it was n't long before dvds of the old xxmaj incredible xxmaj hulk xxup tv show popped up in an attempt to cash in on the craze . xxmaj we saw a similar occurrence a year prior when xxmaj spider - xxmaj man cartoons appeared on xxup dvd to coincide with that hero 's big screen debut . xxmaj companies leap at the opportunity to ride on the financial coattails of a hot brand . \n",
       " \n",
       "  xxmaj so the fact that this picture never surfaced on the shelves of xxmaj wal - xxmaj mart as its featured heroes clobbered the box office in the summer of 2005 says a lot . i guess everyone involved would just rather forget . xxmaj to be fair , xxup the xxup fantastic xxup four is not as bad as everyone says . xxmaj let me rephrase that . xxmaj it 's not as unentertaining as all of its negative reviews might suggest . \n",
       " \n",
       "  xxmaj veteran television actor xxmaj alex xxmaj hyde - xxmaj white ( no , you do n't remember any of his roles ) leads the way as xxmaj reed xxmaj richards , the brilliant scientist who , along with his crew , gains bizarre powers after an outer space mishap . xxmaj he 's left with the ability to stretch and xxunk his body to outrageous lengths . xxmaj his future wife , xxmaj sue xxmaj storm ( xxmaj rebecca xxmaj xxunk ) , can suddenly turn invisible , while her brother , xxmaj johnny ( xxmaj jay xxmaj underwood ) , may now ignite himself at will . xxmaj then there 's poor xxmaj ben xxmaj grimm ( xxmaj michael xxmaj bailey xxmaj smith ) , the lovable lug whose body morphs into a mass of craggy , orange rock . \n",
       " \n",
       "  xxmaj just as the friends are becoming accustomed to all of this , they are called upon to rescue the world from certain chaos . xxmaj it seems xxmaj reed 's old colleague xxmaj victor von xxmaj doom ( xxmaj joseph xxmaj culp ) is living up to his name , and that villainous xxmaj jeweler ( xxmaj ian xxmaj trigger ) is n't exactly helping old ladies cross the street , either . xxmaj can our heroes save the day ? xxmaj of course they can ; like any superhero movie , it 's just a question of how and when . \n",
       " \n",
       "  xxmaj what 's striking about xxup the xxup fantastic xxup four is how amateurish it is in virtually every aspect . xxmaj the dialog is so lame and tired it sounds like it was written by a junior high drama class . xxmaj the acting is so unpolished it makes a third - rate afternoon soap opera look like xxmaj shakespeare . xxmaj the special effects are surprisingly good considering the minuscule budget , but there are still some positively embarrassing moments . xxmaj when xxmaj the xxmaj human xxmaj torch fully ignites his body , for instance , the entire movie briefly turns into a cartoon . i can just hear that production meeting . \" xxmaj oh , no one will notice . xxmaj they 'll be too intrigued by the action ! \" i mean really , a cartoon ? xxmaj at least give me a mannequin on fire held up by a string ! xxmaj prior to that , the scene in which the foursome come to on earth after their spaceship crashes is pure teens - in - the - backyard fare . xxmaj the crew simply found a field and lit a vaguely - spaceship - like object on fire . xxmaj that 's the only remnant of such a major disaster ? \n",
       " \n",
       "  xxmaj of course there was n't a whole lot to work with in the script . xxmaj there is a fairly coherent story here , but it 's all so simplified . xxmaj when xxmaj reed and xxmaj ben decide to go into outer space , they simply drop by the xxmaj storms ' house and ask if they 'd care to join them . xxmaj is it really that easy ? xxmaj do n't these sort of things require , oh , i do n't know , years of training and expertise ? xxmaj not in the world of these writers , who seemed to be inspired by the underrated genius on display in xxup full xxup house reruns . xxmaj but as bad as that may be , nothing can compare to how painfully clichéd xxmaj dr. xxmaj doom is . xxmaj he was pulled right out of those awful superhero cartoons from the 1960s , right down to the evil laugh and slamming his clenched fist down on the table to punctuate his remarks . xxmaj no comic book , least of all xxmaj fantastic xxmaj four , has ever featured a villain so obscenely one dimensional . \n",
       " \n",
       "  xxmaj ultimately , xxup the xxup fantastic xxup four is saved from being a complete turkey because it 's just so damn innocent . xxmaj you can tell the people involved , as little talent or experience as they had , really tried . xxmaj they did n't know the final result would be so embarrassing . xxmaj they were under the impression that this was their big break , that people would flock to the theaters . xxmaj it bears repeating that they had virtually no money to work with ( and i 'm sure half of that was eaten up by the cool xxmaj thing costume ) . xxmaj all things considered , they did well , and for its many flaws , the finished product is a fair amount of fun for comic book fans .\n",
       "y: CategoryList\n",
       "neg,neg,neg,neg,neg\n",
       "Path: /home/luan/.fastai/data/imdb;\n",
       "\n",
       "Test: None, model=SequentialRNN(\n",
       "  (0): MultiBatchEncoder(\n",
       "    (module): AWD_LSTM(\n",
       "      (encoder): Embedding(60003, 400, padding_idx=1)\n",
       "      (encoder_dp): EmbeddingDropout(\n",
       "        (emb): Embedding(60003, 400, padding_idx=1)\n",
       "      )\n",
       "      (rnns): ModuleList(\n",
       "        (0): WeightDropout(\n",
       "          (module): LSTM(400, 1150, batch_first=True)\n",
       "        )\n",
       "        (1): WeightDropout(\n",
       "          (module): LSTM(1150, 1150, batch_first=True)\n",
       "        )\n",
       "        (2): WeightDropout(\n",
       "          (module): LSTM(1150, 400, batch_first=True)\n",
       "        )\n",
       "      )\n",
       "      (input_dp): RNNDropout()\n",
       "      (hidden_dps): ModuleList(\n",
       "        (0): RNNDropout()\n",
       "        (1): RNNDropout()\n",
       "        (2): RNNDropout()\n",
       "      )\n",
       "    )\n",
       "  )\n",
       "  (1): PoolingLinearClassifier(\n",
       "    (layers): Sequential(\n",
       "      (0): BatchNorm1d(1200, eps=1e-05, momentum=0.1, affine=True, track_running_stats=True)\n",
       "      (1): Dropout(p=0.2)\n",
       "      (2): Linear(in_features=1200, out_features=50, bias=True)\n",
       "      (3): ReLU(inplace)\n",
       "      (4): BatchNorm1d(50, eps=1e-05, momentum=0.1, affine=True, track_running_stats=True)\n",
       "      (5): Dropout(p=0.1)\n",
       "      (6): Linear(in_features=50, out_features=2, bias=True)\n",
       "    )\n",
       "  )\n",
       "), opt_func=functools.partial(<class 'torch.optim.adam.Adam'>, betas=(0.9, 0.99)), loss_func=FlattenedLoss of CrossEntropyLoss(), metrics=[<function accuracy at 0x7f3d9f3c1ae8>], true_wd=True, bn_wd=True, wd=0.01, train_bn=True, path=PosixPath('/home/luan/.fastai/data/imdb'), model_dir='models', callback_fns=[<class 'fastai.basic_train.Recorder'>], callbacks=[RNNTrainer\n",
       "learn: RNNLearner(data=TextClasDataBunch;\n",
       "\n",
       "Train: LabelList (25000 items)\n",
       "x: TextList\n",
       "xxbos xxmaj admittedly , i did n't have high expectations of \" xxmaj corky xxmaj romano . \" xxmaj but then again , who did ? xxmaj however , i felt it deserved the benefit of the doubt . i had no high hopes of \" xxmaj joe xxmaj dirt \" either -- another recent comedy starring an xxup snl cast member -- and i ended up being pleasantly surprised . xxmaj but this film is just as bad as it looks in the previews . xxmaj chris xxmaj kattan is actually a talented comic actor -- contrary to what you might think after watching this movie -- with great energy . xxmaj he 's been in many hilarious xxup snl skits , and i think he 's one of the most talented cast members on xxup snl as of now . xxmaj in this case , he 's given a lame , pointless script and he tries to remedy each scene with his incessant mugging . xxmaj throughout each scene , he attempts a lame xxmaj jerry xxmaj lewis act and fails miserably . xxmaj jerry xxmaj lewis knew how to pull off this type of physical comedy , not to mention he worked with much better writing . xxmaj kattan simply looks like some ignorant fool with xxup adhd who had one too many xxmaj cafe xxmaj xxunk . xxmaj he does n't even wait for the punchline ; he assumes we 'll all laugh once he starts jumping around like an ape on crack . xxmaj in one scene , he ends up in a tugging match with a dog who has a package of cocaine in his mouth . xxmaj the package explodes and the cocaine splashes all over him . xxmaj he comes back to the job , strung out on coke . xxmaj now , how are we supposed to laugh at the fact that he 's acting hyper and on - edge , when he 's doing the same thing throughout the whole film ? \n",
       " \n",
       "  xxmaj as for the rest of the cast members ... xxmaj vanessa xxmaj shaw is really hot , xxmaj peter xxmaj berg is wasted in a thankless role and so is xxmaj chris xxmaj penn . xxmaj peter xxmaj falk is also wasted , though he has a few funny lines that i 'm pretty sure he improvised . i hope xxmaj falk gets a decent movie someday soon . xxmaj that 's too much talent too waste on a clunker like \" xxmaj corky xxmaj romano . \" i did n't like xxmaj falk 's last movie \" xxmaj made \" all that much either , but at least he had a decent role . \n",
       " \n",
       "  i chuckled a few times , but i could not get a single laugh . xxmaj each gag is performed with no sense of timing or delivery . xxmaj and it 's made worse by xxmaj kattan 's hammy acting . xxmaj and there are certain gags that are xxunk dragged out . xxmaj for example , when xxmaj kattan is about to fart in his two brothers ' faces . xxmaj he stands there for 2 or 3 minutes , trying to get out a fart and when he finally he does it 's a little tiny one . xxmaj it 's bad enough when you have a gag that 's funny and drag it out , but when you have a lame gag and you drag it out it 's a hell of a lot worse . xxmaj and another example of this is when he tries to translate what those two xxmaj asian men are saying during a drug bust . i can go on and on about what 's wrong with this so - called comedy , but i 'm not gon na waste my time . xxmaj like i said earlier , if you predicted bad things from the trailers -- you predicted right . \n",
       " \n",
       "  xxmaj my score : 3 ( out of 10 ),xxbos i bought this movie and after i watched it i decided that i did not care for it . xxmaj the acting was xxup bad . xxmaj was the principal a robot ? xxmaj he had no personality and his facial expression did n't change through the whole movie . xxmaj at times the voices did n't match up . xxmaj people talking and their lips did n't even move .,xxbos a truly horrible film that left me feeling sullied by having watched the forty minutes or so i could stand . xxmaj not the actors ' fault , but the writer / director , producers , financiers , etc . , need a very stiff talking to . xxmaj maybe it thinks it is profound . xxmaj it is n't . xxmaj this rape and ultra - violence , unlike that central to xxmaj clockwork xxmaj orange , has nothing to say about or add to the sum of human understanding . xxmaj it 's no xxmaj straw xxmaj dogs , either , to which i have seen it compared . xxmaj rather it feels like something xxmaj pete xxmaj walker might have turned his hand to , yet even in saying that i 'm probably being a bit unfair on xxmaj pete xxmaj walker . \n",
       " \n",
       "  xxmaj revenge is a powerful human desire , but xxmaj the xxmaj bedroom xxmaj window has more to say about that and male xxunk than this pitiful effort . \n",
       " \n",
       "  i do n't think it 's particularly misogynistic , merely too gleeful in its depiction of certain details -- the blood running down xxup ga 's leg post rape , par example . xxmaj it 's neither challenging nor confrontational , though i 'm sure the film - makers consider themselves very ' daring ' , just deeply unpleasant . \n",
       " \n",
       "  xxmaj is this as high as we can aim ? xxmaj is this why those involved wanted to make films ? ( i did write in here the xxmaj latin phrase which translates as xxmaj oh the xxmaj times ! xxmaj oh the customs ! xxmaj but the new spell - check on imdb would n't let me post until i had removed it . xxmaj likewise i had to remove square parentheses . xxmaj get it sorted imdb . ) \n",
       " \n",
       "  xxmaj where is the lofty aspiration ? xxmaj the noble impulse ? xxmaj when you look at xxmaj british film - the joyful comedies of xxmaj ealing or the xxmaj boulting xxmaj brothers ; xxmaj carol xxmaj reed 's work with xxmaj graham xxmaj greene on xxmaj fallen xxmaj idol , xxmaj our xxmaj man in xxmaj havana or the sublime xxmaj the xxmaj third xxmaj man ( a film which has far more to say about evil than a thousand xxmaj straightheads ) ; the work of xxmaj powell & xxmaj pressburger ; or if you want to talk about sex , violence and male xxunk look at \" xxmaj the xxmaj offence ' xxmaj dir . xxmaj sidney xxmaj lumet , from an original play by xxmaj john xxmaj hopkins ; check out \" xxmaj tunes of xxmaj glory \" for something worth making , that has something to say . \n",
       " \n",
       "  xxmaj unlike the foregoing , xxmaj straightheads is , alas , an altogether hateful waste of celluloid .,xxbos * * * xxup review xxup may xxup contain xxup some xxup spoilers * * * i 'll make this review short and sweet . i bought this movie from xxmaj best xxmaj buy because it sounded interested and had some top actors in it like xxmaj kevin xxmaj spacey and xxmaj morgan xxmaj freeman . xxmaj how bad could it be , right ? xxmaj well , it 's pretty bad . xxmaj justin xxmaj timberlake plays xxmaj pollack , a wannabe journalist who stumbles across a case that may lead to corrupt cops at xxmaj edison 's xxmaj police xxmaj force . xxup ll xxmaj cool j is xxmaj deed , a cop within the force on a special force team called xxup f.r.a.t. ( xxmaj first xxmaj response xxmaj assault xxmaj tactics ) . xxmaj he 's teamed with an \" on - the - edge \" bad cop named xxmaj lazerov ( xxmaj dylan mcdermott ) . xxmaj in the opening scene we see xxmaj lazerov & xxmaj deed taking on some bank robbers , but at night they are busting a couple of guys doing drugs . i do n't want to give to much away , but things turn bad for the guys doing the drugs . xxmaj pollack , who works for xxmaj ashford ( xxmaj morgan xxmaj freeman ) goes to a trial involving xxmaj deeds & xxmaj lazerov . xxmaj he suspect foul play and with the help of xxmaj ashford , does some investigate that turns ugly . xxmaj wallace ( xxmaj kevin xxmaj spacey ) who is all within the xxup f.r.a.t. team joins with xxmaj ashford to try to bring the corrupt cops to justice . \n",
       " \n",
       "  xxmaj you can tell from the beginning that xxmaj freeman and xxmaj spacey 's performance are pretty lackluster . xxmaj the only person that give a all out performance is xxmaj dylan mcdermott . xxmaj he is a complete nut case in this movie and made a believer out of me . xxup ll xxmaj cool j is terrible in this film . xxmaj he says every line the same way and shows pretty much the same emotion . xxmaj he was much better in movies like xxmaj deep xxmaj blue xxmaj sea & xxmaj any xxmaj given xxmaj sunday . xxmaj the film starts off with some nice action but then drags it feet through the rest of the film . xxmaj the ending is far from satisfying . \n",
       " \n",
       "  xxmaj do n't waste your time with this film . i 'm putting it on xxmaj ebay this weekend .,xxbos xxmaj the only thing that kept me from vomiting after seeing this movie was the fact that these are just actors and not the freak show that usually appears on the xxup tv show . xxmaj this is also the main reason that fans of the xxup tv show wo n't like the movie , but not the only reason . xxmaj this movie has about as much entertainment value as getting a root canal . xxmaj it approaches the xxunk depths of bad movie making , and then gets even worse . i wo n't waste your time describing this movie in further detail ; suffice it to say that i pity the poor camera people who had to suffer through watching this c**p the first time .\n",
       "y: CategoryList\n",
       "neg,neg,neg,neg,neg\n",
       "Path: /home/luan/.fastai/data/imdb;\n",
       "\n",
       "Valid: LabelList (25000 items)\n",
       "x: TextList\n",
       "xxbos xxmaj this movie ca n't decide what it is -- a soft porno or a sf movie . xxmaj not enough plot for a real movie , but way too much for a porno . \n",
       " \n",
       "  xxmaj in a galaxy far far away , a good princess ( we know she 's good because she has long blonde hair , wears a white toga , is polite , and is mooning wistfully about her dying mother when we first see her ) inherits the kingdom over her elder sister , who is evil ( and we know this because she has dark hair and wears too much makeup , abuses her male sexual slaves , sneers and curls her lip all the time , and talks xxunk about the horrors she 'll perpetrate when she 's queen ) . xxmaj the evil princess gets upset and tries to stage a coup , but the good sister gets away to xxmaj earth . xxmaj of course , she materializes buck naked in a bar during a wet t - shirt contest . xxmaj it really goes downhill from there . xxmaj the acting is ludicrous , the dialog sounds like it was written for a porno , and the general storyline is ridiculous . xxmaj there 's not even enough skin to make happy the sort of person who 'd watch this for skin . i love \" good \" bad movies , and this one 's not even enjoyable on a \" bad movie \" level .,xxbos xxmaj this pathetic excuse for a movie does n't have a decent structure or a sensible closure . xxmaj the characters were confusing and the entire plot kept getting off track . i 'd have to say that xxmaj pixel xxmaj perfect was a disgrace . xxmaj this is what happens when you let xxmaj disney channel make movies .,xxbos i saw this movie and was bored out of my mind ! i am a fan of xxmaj peanuts , but i ca n't understand why xxmaj charles xxmaj schultz let this disaster be made ! xxmaj spoilers ahead . \n",
       " \n",
       "  i ca n't believe xxmaj snoopy would let his friends sleep on the ground outside in a dangerous situation and go out to a bar and swig a few cold ones without standing watch ! xxmaj the story was complete nonsense , even for comic strip characters . xxmaj it takes them t xxrep 4 o long to get to xxmaj france , plus once they get to xxmaj france i had a feeling that the writer ( i still ca n't believe it was xxmaj schultz ) did n't know what to do once they got there . \n",
       " \n",
       "  xxmaj peanuts is best made in 30 minute episodes , not 80 minute movies . \n",
       " \n",
       "  xxmaj go home xxmaj charlie xxmaj brown , you are at your best there . \n",
       " \n",
       " ,xxbos xxmaj every xxmaj james xxmaj bond movie has its own set of rules . xxmaj just like every xxmaj indiana xxmaj jones movie has xxup its own set of rules . xxmaj and the fact that screenwriters do n't break these rules maintains the integrity of the characters . xxmaj with a completely unnecessary plot twist , the integrity of both xxmaj ocean films plummets somewhere between xxmaj airplane 2 and a xxmaj roadrunner cartoon . \n",
       " \n",
       "  xxmaj imagine what would happen , while teetering on the rope bridge outside of the xxmaj temple of xxmaj doom , if xxmaj indy told xxmaj shorty and xxmaj willie not to worry because throughout the entire first two movies he 's secretly had super powers and can fly them both to safety . \n",
       " \n",
       "  xxmaj entertaining ? xxmaj sure , for a xxmaj roadrunner cartoon . xxmaj but xxmaj spielberg would never have done that because it would have destroyed the integrity of the film . xxmaj more importantly , it would have xxup angered the audience . xxmaj they 'd already sat on the edge of their seats through 3 hours worth of xxmaj indiana xxmaj jones movies and they were counting on xxmaj indiana to get them off that bridge in a believable way . xxmaj if he were to fly off ? xxmaj people would have walked out of the theaters the same way people did during xxmaj ocean 's 12 . \n",
       " \n",
       "  xxup spoilers \n",
       " \n",
       "  1 . xxmaj julia xxmaj xxunk , xxmaj tess , infiltrates a museum by disguising herself as ... xxmaj julia xxmaj roberts ? ! ? a clever twist ? xxmaj by breaking the fourth wall three hours after we 've been introduced to these characters ? xxmaj is this the xxmaj naked xxmaj gun 33 and 1 / 3 ? xxmaj it 's a textbook example of how a cheap laugh can ruin an entire film . xxmaj but wait ... just in case you have n't walked out yet ... \n",
       " \n",
       "  2 . xxmaj the suspense builds throughout the last hour of the movie -- how will they pull off the heist -- there are only 10 ... 8 ... 5 ... 2 xxup days xxup left ! xxmaj and then in the last 12 minutes of the film , the xxup only entertaining part of this movie , we see that the heist was made days earlier and took xxmaj matt xxmaj damon all of 30 seconds to pull off . xxmaj the past 10 days ? a complete waste of your time . \n",
       " \n",
       "  xxup back xxup to xxup indiana xxup jones xxup on xxup the xxup rope xxup bridge ... xxunk relax , xxmaj willie ! i stole the xxup real stones back about a month ago ! xxmaj besides , i convinced them you were xxmaj kate xxmaj capshaw ! \" \n",
       " \n",
       "  xxmaj if you have n't already seen it , cut your losses and go see the xxmaj polar xxmaj express . i do n't want to ruin the ending for you , but there really is a xxmaj santa xxmaj claus . xxmaj most importantly , you wo n't feel cheated leaving the theater .,xxbos xxmaj when xxup hulk hit theaters in 2003 , it was n't long before dvds of the old xxmaj incredible xxmaj hulk xxup tv show popped up in an attempt to cash in on the craze . xxmaj we saw a similar occurrence a year prior when xxmaj spider - xxmaj man cartoons appeared on xxup dvd to coincide with that hero 's big screen debut . xxmaj companies leap at the opportunity to ride on the financial coattails of a hot brand . \n",
       " \n",
       "  xxmaj so the fact that this picture never surfaced on the shelves of xxmaj wal - xxmaj mart as its featured heroes clobbered the box office in the summer of 2005 says a lot . i guess everyone involved would just rather forget . xxmaj to be fair , xxup the xxup fantastic xxup four is not as bad as everyone says . xxmaj let me rephrase that . xxmaj it 's not as unentertaining as all of its negative reviews might suggest . \n",
       " \n",
       "  xxmaj veteran television actor xxmaj alex xxmaj hyde - xxmaj white ( no , you do n't remember any of his roles ) leads the way as xxmaj reed xxmaj richards , the brilliant scientist who , along with his crew , gains bizarre powers after an outer space mishap . xxmaj he 's left with the ability to stretch and xxunk his body to outrageous lengths . xxmaj his future wife , xxmaj sue xxmaj storm ( xxmaj rebecca xxmaj xxunk ) , can suddenly turn invisible , while her brother , xxmaj johnny ( xxmaj jay xxmaj underwood ) , may now ignite himself at will . xxmaj then there 's poor xxmaj ben xxmaj grimm ( xxmaj michael xxmaj bailey xxmaj smith ) , the lovable lug whose body morphs into a mass of craggy , orange rock . \n",
       " \n",
       "  xxmaj just as the friends are becoming accustomed to all of this , they are called upon to rescue the world from certain chaos . xxmaj it seems xxmaj reed 's old colleague xxmaj victor von xxmaj doom ( xxmaj joseph xxmaj culp ) is living up to his name , and that villainous xxmaj jeweler ( xxmaj ian xxmaj trigger ) is n't exactly helping old ladies cross the street , either . xxmaj can our heroes save the day ? xxmaj of course they can ; like any superhero movie , it 's just a question of how and when . \n",
       " \n",
       "  xxmaj what 's striking about xxup the xxup fantastic xxup four is how amateurish it is in virtually every aspect . xxmaj the dialog is so lame and tired it sounds like it was written by a junior high drama class . xxmaj the acting is so unpolished it makes a third - rate afternoon soap opera look like xxmaj shakespeare . xxmaj the special effects are surprisingly good considering the minuscule budget , but there are still some positively embarrassing moments . xxmaj when xxmaj the xxmaj human xxmaj torch fully ignites his body , for instance , the entire movie briefly turns into a cartoon . i can just hear that production meeting . \" xxmaj oh , no one will notice . xxmaj they 'll be too intrigued by the action ! \" i mean really , a cartoon ? xxmaj at least give me a mannequin on fire held up by a string ! xxmaj prior to that , the scene in which the foursome come to on earth after their spaceship crashes is pure teens - in - the - backyard fare . xxmaj the crew simply found a field and lit a vaguely - spaceship - like object on fire . xxmaj that 's the only remnant of such a major disaster ? \n",
       " \n",
       "  xxmaj of course there was n't a whole lot to work with in the script . xxmaj there is a fairly coherent story here , but it 's all so simplified . xxmaj when xxmaj reed and xxmaj ben decide to go into outer space , they simply drop by the xxmaj storms ' house and ask if they 'd care to join them . xxmaj is it really that easy ? xxmaj do n't these sort of things require , oh , i do n't know , years of training and expertise ? xxmaj not in the world of these writers , who seemed to be inspired by the underrated genius on display in xxup full xxup house reruns . xxmaj but as bad as that may be , nothing can compare to how painfully clichéd xxmaj dr. xxmaj doom is . xxmaj he was pulled right out of those awful superhero cartoons from the 1960s , right down to the evil laugh and slamming his clenched fist down on the table to punctuate his remarks . xxmaj no comic book , least of all xxmaj fantastic xxmaj four , has ever featured a villain so obscenely one dimensional . \n",
       " \n",
       "  xxmaj ultimately , xxup the xxup fantastic xxup four is saved from being a complete turkey because it 's just so damn innocent . xxmaj you can tell the people involved , as little talent or experience as they had , really tried . xxmaj they did n't know the final result would be so embarrassing . xxmaj they were under the impression that this was their big break , that people would flock to the theaters . xxmaj it bears repeating that they had virtually no money to work with ( and i 'm sure half of that was eaten up by the cool xxmaj thing costume ) . xxmaj all things considered , they did well , and for its many flaws , the finished product is a fair amount of fun for comic book fans .\n",
       "y: CategoryList\n",
       "neg,neg,neg,neg,neg\n",
       "Path: /home/luan/.fastai/data/imdb;\n",
       "\n",
       "Test: None, model=SequentialRNN(\n",
       "  (0): MultiBatchEncoder(\n",
       "    (module): AWD_LSTM(\n",
       "      (encoder): Embedding(60003, 400, padding_idx=1)\n",
       "      (encoder_dp): EmbeddingDropout(\n",
       "        (emb): Embedding(60003, 400, padding_idx=1)\n",
       "      )\n",
       "      (rnns): ModuleList(\n",
       "        (0): WeightDropout(\n",
       "          (module): LSTM(400, 1150, batch_first=True)\n",
       "        )\n",
       "        (1): WeightDropout(\n",
       "          (module): LSTM(1150, 1150, batch_first=True)\n",
       "        )\n",
       "        (2): WeightDropout(\n",
       "          (module): LSTM(1150, 400, batch_first=True)\n",
       "        )\n",
       "      )\n",
       "      (input_dp): RNNDropout()\n",
       "      (hidden_dps): ModuleList(\n",
       "        (0): RNNDropout()\n",
       "        (1): RNNDropout()\n",
       "        (2): RNNDropout()\n",
       "      )\n",
       "    )\n",
       "  )\n",
       "  (1): PoolingLinearClassifier(\n",
       "    (layers): Sequential(\n",
       "      (0): BatchNorm1d(1200, eps=1e-05, momentum=0.1, affine=True, track_running_stats=True)\n",
       "      (1): Dropout(p=0.2)\n",
       "      (2): Linear(in_features=1200, out_features=50, bias=True)\n",
       "      (3): ReLU(inplace)\n",
       "      (4): BatchNorm1d(50, eps=1e-05, momentum=0.1, affine=True, track_running_stats=True)\n",
       "      (5): Dropout(p=0.1)\n",
       "      (6): Linear(in_features=50, out_features=2, bias=True)\n",
       "    )\n",
       "  )\n",
       "), opt_func=functools.partial(<class 'torch.optim.adam.Adam'>, betas=(0.9, 0.99)), loss_func=FlattenedLoss of CrossEntropyLoss(), metrics=[<function accuracy at 0x7f3d9f3c1ae8>], true_wd=True, bn_wd=True, wd=0.01, train_bn=True, path=PosixPath('/home/luan/.fastai/data/imdb'), model_dir='models', callback_fns=[<class 'fastai.basic_train.Recorder'>], callbacks=[...], layer_groups=[Sequential(\n",
       "  (0): Embedding(60003, 400, padding_idx=1)\n",
       "  (1): EmbeddingDropout(\n",
       "    (emb): Embedding(60003, 400, padding_idx=1)\n",
       "  )\n",
       "), Sequential(\n",
       "  (0): WeightDropout(\n",
       "    (module): LSTM(400, 1150, batch_first=True)\n",
       "  )\n",
       "  (1): RNNDropout()\n",
       "), Sequential(\n",
       "  (0): WeightDropout(\n",
       "    (module): LSTM(1150, 1150, batch_first=True)\n",
       "  )\n",
       "  (1): RNNDropout()\n",
       "), Sequential(\n",
       "  (0): WeightDropout(\n",
       "    (module): LSTM(1150, 400, batch_first=True)\n",
       "  )\n",
       "  (1): RNNDropout()\n",
       "), Sequential(\n",
       "  (0): PoolingLinearClassifier(\n",
       "    (layers): Sequential(\n",
       "      (0): BatchNorm1d(1200, eps=1e-05, momentum=0.1, affine=True, track_running_stats=True)\n",
       "      (1): Dropout(p=0.2)\n",
       "      (2): Linear(in_features=1200, out_features=50, bias=True)\n",
       "      (3): ReLU(inplace)\n",
       "      (4): BatchNorm1d(50, eps=1e-05, momentum=0.1, affine=True, track_running_stats=True)\n",
       "      (5): Dropout(p=0.1)\n",
       "      (6): Linear(in_features=50, out_features=2, bias=True)\n",
       "    )\n",
       "  )\n",
       ")])\n",
       "alpha: 2.0\n",
       "beta: 1.0], layer_groups=[Sequential(\n",
       "  (0): Embedding(60003, 400, padding_idx=1)\n",
       "  (1): EmbeddingDropout(\n",
       "    (emb): Embedding(60003, 400, padding_idx=1)\n",
       "  )\n",
       "), Sequential(\n",
       "  (0): WeightDropout(\n",
       "    (module): LSTM(400, 1150, batch_first=True)\n",
       "  )\n",
       "  (1): RNNDropout()\n",
       "), Sequential(\n",
       "  (0): WeightDropout(\n",
       "    (module): LSTM(1150, 1150, batch_first=True)\n",
       "  )\n",
       "  (1): RNNDropout()\n",
       "), Sequential(\n",
       "  (0): WeightDropout(\n",
       "    (module): LSTM(1150, 400, batch_first=True)\n",
       "  )\n",
       "  (1): RNNDropout()\n",
       "), Sequential(\n",
       "  (0): PoolingLinearClassifier(\n",
       "    (layers): Sequential(\n",
       "      (0): BatchNorm1d(1200, eps=1e-05, momentum=0.1, affine=True, track_running_stats=True)\n",
       "      (1): Dropout(p=0.2)\n",
       "      (2): Linear(in_features=1200, out_features=50, bias=True)\n",
       "      (3): ReLU(inplace)\n",
       "      (4): BatchNorm1d(50, eps=1e-05, momentum=0.1, affine=True, track_running_stats=True)\n",
       "      (5): Dropout(p=0.1)\n",
       "      (6): Linear(in_features=50, out_features=2, bias=True)\n",
       "    )\n",
       "  )\n",
       ")])"
      ]
     },
     "execution_count": 11,
     "metadata": {},
     "output_type": "execute_result"
    }
   ],
   "source": [
    "learn.load('third')"
   ]
  },
  {
   "cell_type": "code",
   "execution_count": 12,
   "metadata": {},
   "outputs": [],
   "source": [
    "bs = 17\n",
    "learn.data.batch_size = bs"
   ]
  },
  {
   "cell_type": "code",
   "execution_count": 13,
   "metadata": {},
   "outputs": [
    {
     "data": {
      "text/html": [
       "Total time: 2:01:04 <p><table style='width:300px; margin-bottom:10px'>\n",
       "  <tr>\n",
       "    <th>epoch</th>\n",
       "    <th>train_loss</th>\n",
       "    <th>valid_loss</th>\n",
       "    <th>accuracy</th>\n",
       "  </tr>\n",
       "  <tr>\n",
       "    <th>1</th>\n",
       "    <th>0.388331</th>\n",
       "    <th>0.295844</th>\n",
       "    <th>0.872280</th>\n",
       "  </tr>\n",
       "  <tr>\n",
       "    <th>2</th>\n",
       "    <th>0.389355</th>\n",
       "    <th>0.324385</th>\n",
       "    <th>0.873520</th>\n",
       "  </tr>\n",
       "  <tr>\n",
       "    <th>3</th>\n",
       "    <th>0.347947</th>\n",
       "    <th>0.277922</th>\n",
       "    <th>0.885920</th>\n",
       "  </tr>\n",
       "  <tr>\n",
       "    <th>4</th>\n",
       "    <th>0.353919</th>\n",
       "    <th>0.264901</th>\n",
       "    <th>0.889920</th>\n",
       "  </tr>\n",
       "  <tr>\n",
       "    <th>5</th>\n",
       "    <th>0.300959</th>\n",
       "    <th>0.260551</th>\n",
       "    <th>0.893600</th>\n",
       "  </tr>\n",
       "  <tr>\n",
       "    <th>6</th>\n",
       "    <th>0.318198</th>\n",
       "    <th>0.255544</th>\n",
       "    <th>0.895000</th>\n",
       "  </tr>\n",
       "  <tr>\n",
       "    <th>7</th>\n",
       "    <th>0.290724</th>\n",
       "    <th>0.254245</th>\n",
       "    <th>0.895560</th>\n",
       "  </tr>\n",
       "  <tr>\n",
       "    <th>8</th>\n",
       "    <th>0.280921</th>\n",
       "    <th>0.258811</th>\n",
       "    <th>0.893560</th>\n",
       "  </tr>\n",
       "</table>\n"
      ],
      "text/plain": [
       "<IPython.core.display.HTML object>"
      ]
     },
     "metadata": {},
     "output_type": "display_data"
    }
   ],
   "source": [
    "learn.unfreeze()\n",
    "learn.fit_one_cycle(8, slice(1e-3/(2.6**4),1e-3), moms=(0.8,0.7))"
   ]
  }
 ],
 "metadata": {
  "kernelspec": {
   "display_name": "fastai_v3",
   "language": "python",
   "name": "fastai_v3"
  },
  "language_info": {
   "codemirror_mode": {
    "name": "ipython",
    "version": 3
   },
   "file_extension": ".py",
   "mimetype": "text/x-python",
   "name": "python",
   "nbconvert_exporter": "python",
   "pygments_lexer": "ipython3",
   "version": "3.7.1"
  }
 },
 "nbformat": 4,
 "nbformat_minor": 2
}
