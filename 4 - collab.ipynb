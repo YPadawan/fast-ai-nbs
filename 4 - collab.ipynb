{
 "cells": [
  {
   "cell_type": "code",
   "execution_count": 1,
   "metadata": {},
   "outputs": [],
   "source": [
    "%reload_ext autoreload\n",
    "%autoreload 2\n",
    "%matplotlib inline\n",
    "\n",
    "from fastai.collab import *\n",
    "from fastai.tabular import *"
   ]
  },
  {
   "cell_type": "code",
   "execution_count": 2,
   "metadata": {},
   "outputs": [
    {
     "data": {
      "text/plain": [
       "True"
      ]
     },
     "execution_count": 2,
     "metadata": {},
     "output_type": "execute_result"
    }
   ],
   "source": [
    "import torch\n",
    "torch.cuda.is_available()"
   ]
  },
  {
   "cell_type": "code",
   "execution_count": 3,
   "metadata": {},
   "outputs": [
    {
     "data": {
      "text/plain": [
       "True"
      ]
     },
     "execution_count": 3,
     "metadata": {},
     "output_type": "execute_result"
    }
   ],
   "source": [
    "torch.backends.cudnn.enabled"
   ]
  },
  {
   "cell_type": "markdown",
   "metadata": {},
   "source": [
    "# Collarborative filtering example"
   ]
  },
  {
   "cell_type": "code",
   "execution_count": 4,
   "metadata": {},
   "outputs": [],
   "source": [
    "user, item, title = 'userId', 'movieId', 'title'"
   ]
  },
  {
   "cell_type": "code",
   "execution_count": 5,
   "metadata": {},
   "outputs": [
    {
     "data": {
      "text/plain": [
       "PosixPath('/home/luan/.fastai/data/movie_lens_sample')"
      ]
     },
     "execution_count": 5,
     "metadata": {},
     "output_type": "execute_result"
    }
   ],
   "source": [
    "path = untar_data(URLs.ML_SAMPLE)\n",
    "path"
   ]
  },
  {
   "cell_type": "code",
   "execution_count": 6,
   "metadata": {},
   "outputs": [
    {
     "data": {
      "text/plain": [
       "[PosixPath('/home/luan/.fastai/data/movie_lens_sample/ratings.csv')]"
      ]
     },
     "execution_count": 6,
     "metadata": {},
     "output_type": "execute_result"
    }
   ],
   "source": [
    "path.ls()"
   ]
  },
  {
   "cell_type": "code",
   "execution_count": 7,
   "metadata": {},
   "outputs": [
    {
     "data": {
      "text/html": [
       "<div>\n",
       "<style scoped>\n",
       "    .dataframe tbody tr th:only-of-type {\n",
       "        vertical-align: middle;\n",
       "    }\n",
       "\n",
       "    .dataframe tbody tr th {\n",
       "        vertical-align: top;\n",
       "    }\n",
       "\n",
       "    .dataframe thead th {\n",
       "        text-align: right;\n",
       "    }\n",
       "</style>\n",
       "<table border=\"1\" class=\"dataframe\">\n",
       "  <thead>\n",
       "    <tr style=\"text-align: right;\">\n",
       "      <th></th>\n",
       "      <th>userId</th>\n",
       "      <th>movieId</th>\n",
       "      <th>rating</th>\n",
       "      <th>timestamp</th>\n",
       "    </tr>\n",
       "  </thead>\n",
       "  <tbody>\n",
       "    <tr>\n",
       "      <th>0</th>\n",
       "      <td>73</td>\n",
       "      <td>1097</td>\n",
       "      <td>4.0</td>\n",
       "      <td>1255504951</td>\n",
       "    </tr>\n",
       "    <tr>\n",
       "      <th>1</th>\n",
       "      <td>561</td>\n",
       "      <td>924</td>\n",
       "      <td>3.5</td>\n",
       "      <td>1172695223</td>\n",
       "    </tr>\n",
       "    <tr>\n",
       "      <th>2</th>\n",
       "      <td>157</td>\n",
       "      <td>260</td>\n",
       "      <td>3.5</td>\n",
       "      <td>1291598691</td>\n",
       "    </tr>\n",
       "    <tr>\n",
       "      <th>3</th>\n",
       "      <td>358</td>\n",
       "      <td>1210</td>\n",
       "      <td>5.0</td>\n",
       "      <td>957481884</td>\n",
       "    </tr>\n",
       "    <tr>\n",
       "      <th>4</th>\n",
       "      <td>130</td>\n",
       "      <td>316</td>\n",
       "      <td>2.0</td>\n",
       "      <td>1138999234</td>\n",
       "    </tr>\n",
       "  </tbody>\n",
       "</table>\n",
       "</div>"
      ],
      "text/plain": [
       "   userId  movieId  rating   timestamp\n",
       "0      73     1097     4.0  1255504951\n",
       "1     561      924     3.5  1172695223\n",
       "2     157      260     3.5  1291598691\n",
       "3     358     1210     5.0   957481884\n",
       "4     130      316     2.0  1138999234"
      ]
     },
     "execution_count": 7,
     "metadata": {},
     "output_type": "execute_result"
    }
   ],
   "source": [
    "ratings = pd.read_csv(path/'ratings.csv')\n",
    "ratings.head()"
   ]
  },
  {
   "cell_type": "code",
   "execution_count": 8,
   "metadata": {},
   "outputs": [],
   "source": [
    "data = CollabDataBunch.from_df(ratings, seed=42)"
   ]
  },
  {
   "cell_type": "code",
   "execution_count": 9,
   "metadata": {},
   "outputs": [],
   "source": [
    "y_range = [0, 5.5]"
   ]
  },
  {
   "cell_type": "code",
   "execution_count": 10,
   "metadata": {},
   "outputs": [],
   "source": [
    "learn = collab_learner(data, n_factors=50, y_range=y_range)"
   ]
  },
  {
   "cell_type": "code",
   "execution_count": 11,
   "metadata": {},
   "outputs": [
    {
     "data": {
      "text/html": [
       "Total time: 00:01 <p><table style='width:300px; margin-bottom:10px'>\n",
       "  <tr>\n",
       "    <th>epoch</th>\n",
       "    <th>train_loss</th>\n",
       "    <th>valid_loss</th>\n",
       "    <th>time</th>\n",
       "  </tr>\n",
       "  <tr>\n",
       "    <th>0</th>\n",
       "    <th>1.609264</th>\n",
       "    <th>0.922423</th>\n",
       "    <th>00:00</th>\n",
       "  </tr>\n",
       "  <tr>\n",
       "    <th>1</th>\n",
       "    <th>0.849644</th>\n",
       "    <th>0.678422</th>\n",
       "    <th>00:00</th>\n",
       "  </tr>\n",
       "  <tr>\n",
       "    <th>2</th>\n",
       "    <th>0.656378</th>\n",
       "    <th>0.668428</th>\n",
       "    <th>00:00</th>\n",
       "  </tr>\n",
       "</table>\n"
      ],
      "text/plain": [
       "<IPython.core.display.HTML object>"
      ]
     },
     "metadata": {},
     "output_type": "display_data"
    }
   ],
   "source": [
    "learn.fit_one_cycle(3, 5e-3)"
   ]
  },
  {
   "cell_type": "markdown",
   "metadata": {},
   "source": [
    "# New dataset: Movielens 100k\n",
    "\n",
    "http://files.grouplens.org/datasets/movielens/ml-100k.zip"
   ]
  },
  {
   "cell_type": "code",
   "execution_count": 13,
   "metadata": {},
   "outputs": [
    {
     "data": {
      "text/plain": [
       "PosixPath('/home/luan/.fastai/data/ml-100k')"
      ]
     },
     "execution_count": 13,
     "metadata": {},
     "output_type": "execute_result"
    }
   ],
   "source": [
    "path = Config.data_path()/'ml-100k'\n",
    "path"
   ]
  },
  {
   "cell_type": "code",
   "execution_count": 14,
   "metadata": {},
   "outputs": [
    {
     "data": {
      "text/html": [
       "<div>\n",
       "<style scoped>\n",
       "    .dataframe tbody tr th:only-of-type {\n",
       "        vertical-align: middle;\n",
       "    }\n",
       "\n",
       "    .dataframe tbody tr th {\n",
       "        vertical-align: top;\n",
       "    }\n",
       "\n",
       "    .dataframe thead th {\n",
       "        text-align: right;\n",
       "    }\n",
       "</style>\n",
       "<table border=\"1\" class=\"dataframe\">\n",
       "  <thead>\n",
       "    <tr style=\"text-align: right;\">\n",
       "      <th></th>\n",
       "      <th>userId</th>\n",
       "      <th>movieId</th>\n",
       "      <th>rating</th>\n",
       "      <th>timestamp</th>\n",
       "    </tr>\n",
       "  </thead>\n",
       "  <tbody>\n",
       "    <tr>\n",
       "      <th>0</th>\n",
       "      <td>196</td>\n",
       "      <td>242</td>\n",
       "      <td>3</td>\n",
       "      <td>881250949</td>\n",
       "    </tr>\n",
       "    <tr>\n",
       "      <th>1</th>\n",
       "      <td>186</td>\n",
       "      <td>302</td>\n",
       "      <td>3</td>\n",
       "      <td>891717742</td>\n",
       "    </tr>\n",
       "    <tr>\n",
       "      <th>2</th>\n",
       "      <td>22</td>\n",
       "      <td>377</td>\n",
       "      <td>1</td>\n",
       "      <td>878887116</td>\n",
       "    </tr>\n",
       "    <tr>\n",
       "      <th>3</th>\n",
       "      <td>244</td>\n",
       "      <td>51</td>\n",
       "      <td>2</td>\n",
       "      <td>880606923</td>\n",
       "    </tr>\n",
       "    <tr>\n",
       "      <th>4</th>\n",
       "      <td>166</td>\n",
       "      <td>346</td>\n",
       "      <td>1</td>\n",
       "      <td>886397596</td>\n",
       "    </tr>\n",
       "  </tbody>\n",
       "</table>\n",
       "</div>"
      ],
      "text/plain": [
       "   userId  movieId  rating  timestamp\n",
       "0     196      242       3  881250949\n",
       "1     186      302       3  891717742\n",
       "2      22      377       1  878887116\n",
       "3     244       51       2  880606923\n",
       "4     166      346       1  886397596"
      ]
     },
     "execution_count": 14,
     "metadata": {},
     "output_type": "execute_result"
    }
   ],
   "source": [
    "ratings = pd.read_csv(path/'u.data', delimiter='\\t', header=None,\n",
    "                      names=[user,item,'rating','timestamp'])\n",
    "ratings.head()"
   ]
  },
  {
   "cell_type": "code",
   "execution_count": 15,
   "metadata": {},
   "outputs": [
    {
     "data": {
      "text/html": [
       "<div>\n",
       "<style scoped>\n",
       "    .dataframe tbody tr th:only-of-type {\n",
       "        vertical-align: middle;\n",
       "    }\n",
       "\n",
       "    .dataframe tbody tr th {\n",
       "        vertical-align: top;\n",
       "    }\n",
       "\n",
       "    .dataframe thead th {\n",
       "        text-align: right;\n",
       "    }\n",
       "</style>\n",
       "<table border=\"1\" class=\"dataframe\">\n",
       "  <thead>\n",
       "    <tr style=\"text-align: right;\">\n",
       "      <th></th>\n",
       "      <th>movieId</th>\n",
       "      <th>title</th>\n",
       "      <th>date</th>\n",
       "      <th>N</th>\n",
       "      <th>url</th>\n",
       "      <th>g0</th>\n",
       "      <th>g1</th>\n",
       "      <th>g2</th>\n",
       "      <th>g3</th>\n",
       "      <th>g4</th>\n",
       "      <th>...</th>\n",
       "      <th>g9</th>\n",
       "      <th>g10</th>\n",
       "      <th>g11</th>\n",
       "      <th>g12</th>\n",
       "      <th>g13</th>\n",
       "      <th>g14</th>\n",
       "      <th>g15</th>\n",
       "      <th>g16</th>\n",
       "      <th>g17</th>\n",
       "      <th>g18</th>\n",
       "    </tr>\n",
       "  </thead>\n",
       "  <tbody>\n",
       "    <tr>\n",
       "      <th>0</th>\n",
       "      <td>1</td>\n",
       "      <td>Toy Story (1995)</td>\n",
       "      <td>01-Jan-1995</td>\n",
       "      <td>NaN</td>\n",
       "      <td>http://us.imdb.com/M/title-exact?Toy%20Story%2...</td>\n",
       "      <td>0</td>\n",
       "      <td>0</td>\n",
       "      <td>0</td>\n",
       "      <td>1</td>\n",
       "      <td>1</td>\n",
       "      <td>...</td>\n",
       "      <td>0</td>\n",
       "      <td>0</td>\n",
       "      <td>0</td>\n",
       "      <td>0</td>\n",
       "      <td>0</td>\n",
       "      <td>0</td>\n",
       "      <td>0</td>\n",
       "      <td>0</td>\n",
       "      <td>0</td>\n",
       "      <td>0</td>\n",
       "    </tr>\n",
       "    <tr>\n",
       "      <th>1</th>\n",
       "      <td>2</td>\n",
       "      <td>GoldenEye (1995)</td>\n",
       "      <td>01-Jan-1995</td>\n",
       "      <td>NaN</td>\n",
       "      <td>http://us.imdb.com/M/title-exact?GoldenEye%20(...</td>\n",
       "      <td>0</td>\n",
       "      <td>1</td>\n",
       "      <td>1</td>\n",
       "      <td>0</td>\n",
       "      <td>0</td>\n",
       "      <td>...</td>\n",
       "      <td>0</td>\n",
       "      <td>0</td>\n",
       "      <td>0</td>\n",
       "      <td>0</td>\n",
       "      <td>0</td>\n",
       "      <td>0</td>\n",
       "      <td>0</td>\n",
       "      <td>1</td>\n",
       "      <td>0</td>\n",
       "      <td>0</td>\n",
       "    </tr>\n",
       "    <tr>\n",
       "      <th>2</th>\n",
       "      <td>3</td>\n",
       "      <td>Four Rooms (1995)</td>\n",
       "      <td>01-Jan-1995</td>\n",
       "      <td>NaN</td>\n",
       "      <td>http://us.imdb.com/M/title-exact?Four%20Rooms%...</td>\n",
       "      <td>0</td>\n",
       "      <td>0</td>\n",
       "      <td>0</td>\n",
       "      <td>0</td>\n",
       "      <td>0</td>\n",
       "      <td>...</td>\n",
       "      <td>0</td>\n",
       "      <td>0</td>\n",
       "      <td>0</td>\n",
       "      <td>0</td>\n",
       "      <td>0</td>\n",
       "      <td>0</td>\n",
       "      <td>0</td>\n",
       "      <td>1</td>\n",
       "      <td>0</td>\n",
       "      <td>0</td>\n",
       "    </tr>\n",
       "    <tr>\n",
       "      <th>3</th>\n",
       "      <td>4</td>\n",
       "      <td>Get Shorty (1995)</td>\n",
       "      <td>01-Jan-1995</td>\n",
       "      <td>NaN</td>\n",
       "      <td>http://us.imdb.com/M/title-exact?Get%20Shorty%...</td>\n",
       "      <td>0</td>\n",
       "      <td>1</td>\n",
       "      <td>0</td>\n",
       "      <td>0</td>\n",
       "      <td>0</td>\n",
       "      <td>...</td>\n",
       "      <td>0</td>\n",
       "      <td>0</td>\n",
       "      <td>0</td>\n",
       "      <td>0</td>\n",
       "      <td>0</td>\n",
       "      <td>0</td>\n",
       "      <td>0</td>\n",
       "      <td>0</td>\n",
       "      <td>0</td>\n",
       "      <td>0</td>\n",
       "    </tr>\n",
       "    <tr>\n",
       "      <th>4</th>\n",
       "      <td>5</td>\n",
       "      <td>Copycat (1995)</td>\n",
       "      <td>01-Jan-1995</td>\n",
       "      <td>NaN</td>\n",
       "      <td>http://us.imdb.com/M/title-exact?Copycat%20(1995)</td>\n",
       "      <td>0</td>\n",
       "      <td>0</td>\n",
       "      <td>0</td>\n",
       "      <td>0</td>\n",
       "      <td>0</td>\n",
       "      <td>...</td>\n",
       "      <td>0</td>\n",
       "      <td>0</td>\n",
       "      <td>0</td>\n",
       "      <td>0</td>\n",
       "      <td>0</td>\n",
       "      <td>0</td>\n",
       "      <td>0</td>\n",
       "      <td>1</td>\n",
       "      <td>0</td>\n",
       "      <td>0</td>\n",
       "    </tr>\n",
       "  </tbody>\n",
       "</table>\n",
       "<p>5 rows × 24 columns</p>\n",
       "</div>"
      ],
      "text/plain": [
       "   movieId              title         date   N  \\\n",
       "0        1   Toy Story (1995)  01-Jan-1995 NaN   \n",
       "1        2   GoldenEye (1995)  01-Jan-1995 NaN   \n",
       "2        3  Four Rooms (1995)  01-Jan-1995 NaN   \n",
       "3        4  Get Shorty (1995)  01-Jan-1995 NaN   \n",
       "4        5     Copycat (1995)  01-Jan-1995 NaN   \n",
       "\n",
       "                                                 url  g0  g1  g2  g3  g4 ...   \\\n",
       "0  http://us.imdb.com/M/title-exact?Toy%20Story%2...   0   0   0   1   1 ...    \n",
       "1  http://us.imdb.com/M/title-exact?GoldenEye%20(...   0   1   1   0   0 ...    \n",
       "2  http://us.imdb.com/M/title-exact?Four%20Rooms%...   0   0   0   0   0 ...    \n",
       "3  http://us.imdb.com/M/title-exact?Get%20Shorty%...   0   1   0   0   0 ...    \n",
       "4  http://us.imdb.com/M/title-exact?Copycat%20(1995)   0   0   0   0   0 ...    \n",
       "\n",
       "   g9  g10  g11  g12  g13  g14  g15  g16  g17  g18  \n",
       "0   0    0    0    0    0    0    0    0    0    0  \n",
       "1   0    0    0    0    0    0    0    1    0    0  \n",
       "2   0    0    0    0    0    0    0    1    0    0  \n",
       "3   0    0    0    0    0    0    0    0    0    0  \n",
       "4   0    0    0    0    0    0    0    1    0    0  \n",
       "\n",
       "[5 rows x 24 columns]"
      ]
     },
     "execution_count": 15,
     "metadata": {},
     "output_type": "execute_result"
    }
   ],
   "source": [
    "movies = pd.read_csv(path/'u.item',  delimiter='|', encoding='latin-1', header=None,\n",
    "                    names=[item, 'title', 'date', 'N', 'url', *[f'g{i}' for i in range(19)]])\n",
    "movies.head()"
   ]
  },
  {
   "cell_type": "code",
   "execution_count": 16,
   "metadata": {},
   "outputs": [
    {
     "data": {
      "text/plain": [
       "Index(['movieId', 'title', 'date', 'N', 'url', 'g0', 'g1', 'g2', 'g3', 'g4',\n",
       "       'g5', 'g6', 'g7', 'g8', 'g9', 'g10', 'g11', 'g12', 'g13', 'g14', 'g15',\n",
       "       'g16', 'g17', 'g18'],\n",
       "      dtype='object')"
      ]
     },
     "execution_count": 16,
     "metadata": {},
     "output_type": "execute_result"
    }
   ],
   "source": [
    "movies.columns"
   ]
  },
  {
   "cell_type": "code",
   "execution_count": 17,
   "metadata": {},
   "outputs": [
    {
     "data": {
      "text/plain": [
       "100000"
      ]
     },
     "execution_count": 17,
     "metadata": {},
     "output_type": "execute_result"
    }
   ],
   "source": [
    "len(ratings)"
   ]
  },
  {
   "cell_type": "code",
   "execution_count": 18,
   "metadata": {},
   "outputs": [
    {
     "data": {
      "text/html": [
       "<div>\n",
       "<style scoped>\n",
       "    .dataframe tbody tr th:only-of-type {\n",
       "        vertical-align: middle;\n",
       "    }\n",
       "\n",
       "    .dataframe tbody tr th {\n",
       "        vertical-align: top;\n",
       "    }\n",
       "\n",
       "    .dataframe thead th {\n",
       "        text-align: right;\n",
       "    }\n",
       "</style>\n",
       "<table border=\"1\" class=\"dataframe\">\n",
       "  <thead>\n",
       "    <tr style=\"text-align: right;\">\n",
       "      <th></th>\n",
       "      <th>userId</th>\n",
       "      <th>movieId</th>\n",
       "      <th>rating</th>\n",
       "      <th>timestamp</th>\n",
       "      <th>title</th>\n",
       "    </tr>\n",
       "  </thead>\n",
       "  <tbody>\n",
       "    <tr>\n",
       "      <th>0</th>\n",
       "      <td>196</td>\n",
       "      <td>242</td>\n",
       "      <td>3</td>\n",
       "      <td>881250949</td>\n",
       "      <td>Kolya (1996)</td>\n",
       "    </tr>\n",
       "    <tr>\n",
       "      <th>1</th>\n",
       "      <td>63</td>\n",
       "      <td>242</td>\n",
       "      <td>3</td>\n",
       "      <td>875747190</td>\n",
       "      <td>Kolya (1996)</td>\n",
       "    </tr>\n",
       "    <tr>\n",
       "      <th>2</th>\n",
       "      <td>226</td>\n",
       "      <td>242</td>\n",
       "      <td>5</td>\n",
       "      <td>883888671</td>\n",
       "      <td>Kolya (1996)</td>\n",
       "    </tr>\n",
       "    <tr>\n",
       "      <th>3</th>\n",
       "      <td>154</td>\n",
       "      <td>242</td>\n",
       "      <td>3</td>\n",
       "      <td>879138235</td>\n",
       "      <td>Kolya (1996)</td>\n",
       "    </tr>\n",
       "    <tr>\n",
       "      <th>4</th>\n",
       "      <td>306</td>\n",
       "      <td>242</td>\n",
       "      <td>5</td>\n",
       "      <td>876503793</td>\n",
       "      <td>Kolya (1996)</td>\n",
       "    </tr>\n",
       "  </tbody>\n",
       "</table>\n",
       "</div>"
      ],
      "text/plain": [
       "   userId  movieId  rating  timestamp         title\n",
       "0     196      242       3  881250949  Kolya (1996)\n",
       "1      63      242       3  875747190  Kolya (1996)\n",
       "2     226      242       5  883888671  Kolya (1996)\n",
       "3     154      242       3  879138235  Kolya (1996)\n",
       "4     306      242       5  876503793  Kolya (1996)"
      ]
     },
     "execution_count": 18,
     "metadata": {},
     "output_type": "execute_result"
    }
   ],
   "source": [
    "rating_movie = ratings.merge(movies[[item, title]])\n",
    "rating_movie.head()  # Got title?"
   ]
  },
  {
   "cell_type": "code",
   "execution_count": 19,
   "metadata": {},
   "outputs": [
    {
     "data": {
      "text/html": [
       "<div>\n",
       "<style scoped>\n",
       "    .dataframe tbody tr th:only-of-type {\n",
       "        vertical-align: middle;\n",
       "    }\n",
       "\n",
       "    .dataframe tbody tr th {\n",
       "        vertical-align: top;\n",
       "    }\n",
       "\n",
       "    .dataframe thead th {\n",
       "        text-align: right;\n",
       "    }\n",
       "</style>\n",
       "<table border=\"1\" class=\"dataframe\">\n",
       "  <thead>\n",
       "    <tr style=\"text-align: right;\">\n",
       "      <th></th>\n",
       "      <th>userId</th>\n",
       "      <th>movieId</th>\n",
       "      <th>rating</th>\n",
       "      <th>timestamp</th>\n",
       "      <th>title</th>\n",
       "    </tr>\n",
       "  </thead>\n",
       "  <tbody>\n",
       "    <tr>\n",
       "      <th>3</th>\n",
       "      <td>154</td>\n",
       "      <td>242</td>\n",
       "      <td>3</td>\n",
       "      <td>879138235</td>\n",
       "      <td>Kolya (1996)</td>\n",
       "    </tr>\n",
       "    <tr>\n",
       "      <th>128</th>\n",
       "      <td>154</td>\n",
       "      <td>302</td>\n",
       "      <td>4</td>\n",
       "      <td>879138235</td>\n",
       "      <td>L.A. Confidential (1997)</td>\n",
       "    </tr>\n",
       "    <tr>\n",
       "      <th>681</th>\n",
       "      <td>154</td>\n",
       "      <td>474</td>\n",
       "      <td>5</td>\n",
       "      <td>879138783</td>\n",
       "      <td>Dr. Strangelove or: How I Learned to Stop Worr...</td>\n",
       "    </tr>\n",
       "    <tr>\n",
       "      <th>2080</th>\n",
       "      <td>154</td>\n",
       "      <td>222</td>\n",
       "      <td>2</td>\n",
       "      <td>879138910</td>\n",
       "      <td>Star Trek: First Contact (1996)</td>\n",
       "    </tr>\n",
       "    <tr>\n",
       "      <th>9077</th>\n",
       "      <td>154</td>\n",
       "      <td>143</td>\n",
       "      <td>3</td>\n",
       "      <td>879139003</td>\n",
       "      <td>Sound of Music, The (1965)</td>\n",
       "    </tr>\n",
       "  </tbody>\n",
       "</table>\n",
       "</div>"
      ],
      "text/plain": [
       "      userId  movieId  rating  timestamp  \\\n",
       "3        154      242       3  879138235   \n",
       "128      154      302       4  879138235   \n",
       "681      154      474       5  879138783   \n",
       "2080     154      222       2  879138910   \n",
       "9077     154      143       3  879139003   \n",
       "\n",
       "                                                  title  \n",
       "3                                          Kolya (1996)  \n",
       "128                            L.A. Confidential (1997)  \n",
       "681   Dr. Strangelove or: How I Learned to Stop Worr...  \n",
       "2080                    Star Trek: First Contact (1996)  \n",
       "9077                         Sound of Music, The (1965)  "
      ]
     },
     "execution_count": 19,
     "metadata": {},
     "output_type": "execute_result"
    }
   ],
   "source": [
    "rating_movie[rating_movie.userId == 154].head()  # For 1 userId. "
   ]
  },
  {
   "cell_type": "code",
   "execution_count": 20,
   "metadata": {},
   "outputs": [],
   "source": [
    "data = CollabDataBunch.from_df(rating_movie, seed=42, valid_pct=0.1, item_name=title)"
   ]
  },
  {
   "cell_type": "code",
   "execution_count": 21,
   "metadata": {},
   "outputs": [
    {
     "data": {
      "text/html": [
       "<table border=\"1\" class=\"dataframe\">\n",
       "  <thead>\n",
       "    <tr style=\"text-align: right;\">\n",
       "      <th>userId</th>\n",
       "      <th>title</th>\n",
       "      <th>target</th>\n",
       "    </tr>\n",
       "  </thead>\n",
       "  <tbody>\n",
       "    <tr>\n",
       "      <td>551</td>\n",
       "      <td>Batman (1989)</td>\n",
       "      <td>3.0</td>\n",
       "    </tr>\n",
       "    <tr>\n",
       "      <td>450</td>\n",
       "      <td>Cape Fear (1991)</td>\n",
       "      <td>4.0</td>\n",
       "    </tr>\n",
       "    <tr>\n",
       "      <td>92</td>\n",
       "      <td>Private Parts (1997)</td>\n",
       "      <td>4.0</td>\n",
       "    </tr>\n",
       "    <tr>\n",
       "      <td>654</td>\n",
       "      <td>Fish Called Wanda, A (1988)</td>\n",
       "      <td>4.0</td>\n",
       "    </tr>\n",
       "    <tr>\n",
       "      <td>671</td>\n",
       "      <td>Star Wars (1977)</td>\n",
       "      <td>5.0</td>\n",
       "    </tr>\n",
       "  </tbody>\n",
       "</table>"
      ],
      "text/plain": [
       "<IPython.core.display.HTML object>"
      ]
     },
     "metadata": {},
     "output_type": "display_data"
    }
   ],
   "source": [
    "data.show_batch()"
   ]
  },
  {
   "cell_type": "code",
   "execution_count": 22,
   "metadata": {},
   "outputs": [
    {
     "data": {
      "text/plain": [
       "64"
      ]
     },
     "execution_count": 22,
     "metadata": {},
     "output_type": "execute_result"
    }
   ],
   "source": [
    "data.batch_size"
   ]
  },
  {
   "cell_type": "code",
   "execution_count": 35,
   "metadata": {},
   "outputs": [
    {
     "data": {
      "text/plain": [
       "TabularDataBunch;\n",
       "\n",
       "Train: LabelList (90000 items)\n",
       "x: CollabList\n",
       "userId 196; title Kolya (1996); ,userId 63; title Kolya (1996); ,userId 226; title Kolya (1996); ,userId 154; title Kolya (1996); ,userId 306; title Kolya (1996); \n",
       "y: FloatList\n",
       "3.0,3.0,5.0,3.0,5.0\n",
       "Path: .;\n",
       "\n",
       "Valid: LabelList (10000 items)\n",
       "x: CollabList\n",
       "userId 498; title Casino (1995); ,userId 642; title Pocahontas (1995); ,userId 58; title 2001: A Space Odyssey (1968); ,userId 495; title Cat People (1982); ,userId 618; title Philadelphia (1993); \n",
       "y: FloatList\n",
       "3.0,5.0,4.0,3.0,3.0\n",
       "Path: .;\n",
       "\n",
       "Test: None"
      ]
     },
     "execution_count": 35,
     "metadata": {},
     "output_type": "execute_result"
    }
   ],
   "source": [
    "data"
   ]
  },
  {
   "cell_type": "code",
   "execution_count": 23,
   "metadata": {},
   "outputs": [],
   "source": [
    "y_range = [0,5.5]\n",
    "learn = collab_learner(data, n_factors=40, y_range=y_range, wd=1e-1)"
   ]
  },
  {
   "cell_type": "code",
   "execution_count": 24,
   "metadata": {},
   "outputs": [
    {
     "data": {
      "text/html": [],
      "text/plain": [
       "<IPython.core.display.HTML object>"
      ]
     },
     "metadata": {},
     "output_type": "display_data"
    },
    {
     "name": "stdout",
     "output_type": "stream",
     "text": [
      "LR Finder is complete, type {learner_name}.recorder.plot() to see the graph.\n"
     ]
    },
    {
     "data": {
      "image/png": "[encoded data removed]",
      "text/plain": [
       "<Figure size 432x288 with 1 Axes>"
      ]
     },
     "metadata": {
      "needs_background": "light"
     },
     "output_type": "display_data"
    }
   ],
   "source": [
    "learn.lr_find()\n",
    "learn.recorder.plot(skip_end=15)"
   ]
  },
  {
   "cell_type": "code",
   "execution_count": 25,
   "metadata": {},
   "outputs": [
    {
     "data": {
      "text/html": [
       "Total time: 00:17 <p><table style='width:300px; margin-bottom:10px'>\n",
       "  <tr>\n",
       "    <th>epoch</th>\n",
       "    <th>train_loss</th>\n",
       "    <th>valid_loss</th>\n",
       "    <th>time</th>\n",
       "  </tr>\n",
       "  <tr>\n",
       "    <th>0</th>\n",
       "    <th>0.962078</th>\n",
       "    <th>0.940111</th>\n",
       "    <th>00:03</th>\n",
       "  </tr>\n",
       "  <tr>\n",
       "    <th>1</th>\n",
       "    <th>0.858546</th>\n",
       "    <th>0.880728</th>\n",
       "    <th>00:03</th>\n",
       "  </tr>\n",
       "  <tr>\n",
       "    <th>2</th>\n",
       "    <th>0.767471</th>\n",
       "    <th>0.834896</th>\n",
       "    <th>00:04</th>\n",
       "  </tr>\n",
       "  <tr>\n",
       "    <th>3</th>\n",
       "    <th>0.656606</th>\n",
       "    <th>0.814134</th>\n",
       "    <th>00:03</th>\n",
       "  </tr>\n",
       "  <tr>\n",
       "    <th>4</th>\n",
       "    <th>0.548445</th>\n",
       "    <th>0.813016</th>\n",
       "    <th>00:03</th>\n",
       "  </tr>\n",
       "</table>\n"
      ],
      "text/plain": [
       "<IPython.core.display.HTML object>"
      ]
     },
     "metadata": {},
     "output_type": "display_data"
    }
   ],
   "source": [
    "learn.fit_one_cycle(5, 5e-3)"
   ]
  },
  {
   "cell_type": "code",
   "execution_count": 26,
   "metadata": {},
   "outputs": [],
   "source": [
    "learn.save('dotprod')"
   ]
  },
  {
   "cell_type": "markdown",
   "metadata": {},
   "source": [
    "# Interpretation"
   ]
  },
  {
   "cell_type": "code",
   "execution_count": null,
   "metadata": {},
   "outputs": [],
   "source": [
    "learn.load('dotprod')"
   ]
  },
  {
   "cell_type": "code",
   "execution_count": 27,
   "metadata": {},
   "outputs": [
    {
     "data": {
      "text/plain": [
       "EmbeddingDotBias(\n",
       "  (u_weight): Embedding(944, 40)\n",
       "  (i_weight): Embedding(1654, 40)\n",
       "  (u_bias): Embedding(944, 1)\n",
       "  (i_bias): Embedding(1654, 1)\n",
       ")"
      ]
     },
     "execution_count": 27,
     "metadata": {},
     "output_type": "execute_result"
    }
   ],
   "source": [
    "learn.model"
   ]
  },
  {
   "cell_type": "code",
   "execution_count": 28,
   "metadata": {},
   "outputs": [
    {
     "data": {
      "text/plain": [
       "array(['Star Wars (1977)', 'Contact (1997)', 'Fargo (1996)', 'Return of the Jedi (1983)', 'Liar Liar (1997)',\n",
       "       'English Patient, The (1996)', 'Scream (1996)', 'Toy Story (1995)', 'Air Force One (1997)',\n",
       "       'Independence Day (ID4) (1996)'], dtype=object)"
      ]
     },
     "execution_count": 28,
     "metadata": {},
     "output_type": "execute_result"
    }
   ],
   "source": [
    "g = rating_movie.groupby(title)['rating'].count()\n",
    "top_movies = g.sort_values(ascending=False).index.values[:1000]\n",
    "top_movies[:10]  # Best 10 movies"
   ]
  },
  {
   "cell_type": "code",
   "execution_count": 30,
   "metadata": {},
   "outputs": [
    {
     "data": {
      "text/plain": [
       "torch.Size([1000])"
      ]
     },
     "execution_count": 30,
     "metadata": {},
     "output_type": "execute_result"
    }
   ],
   "source": [
    "movie_bias = learn.bias(top_movies, is_item=True)\n",
    "movie_bias.shape"
   ]
  },
  {
   "cell_type": "code",
   "execution_count": 31,
   "metadata": {},
   "outputs": [
    {
     "data": {
      "text/plain": [
       "tensor([ 5.5723e-01,  4.2705e-01,  3.8498e-01,  3.8811e-01,  9.6242e-02,\n",
       "         1.5341e-01,  2.2065e-01,  3.2828e-01,  3.0186e-01,  1.4565e-01,\n",
       "         4.5149e-01,  4.6050e-01,  3.1948e-01,  2.8108e-01,  5.1236e-01,\n",
       "         2.2791e-01,  1.5039e-01,  2.5294e-01,  3.9375e-01,  2.3893e-01,\n",
       "         2.5704e-01,  5.7790e-01,  1.2556e-01,  4.3290e-01,  3.2697e-01,\n",
       "         1.3322e-01,  3.9105e-01,  2.2889e-01,  3.2606e-01,  4.4419e-02,\n",
       "         3.6824e-01,  2.2240e-01,  3.4013e-01,  1.9687e-01,  2.3364e-01,\n",
       "         6.3921e-01,  1.6606e-01,  3.3721e-01,  5.3591e-01,  3.5155e-01,\n",
       "         1.7698e-01,  2.2162e-01,  1.1575e-01,  3.1820e-02,  3.4662e-01,\n",
       "         2.7014e-01,  2.7606e-01,  5.5800e-01,  2.1966e-01,  1.8477e-01,\n",
       "         3.7530e-01,  3.9593e-01,  3.8914e-01,  1.2653e-01,  3.2376e-01,\n",
       "         2.3941e-01,  4.8631e-01,  4.5320e-01,  2.2741e-01,  2.0411e-01,\n",
       "        -4.2929e-02,  2.0106e-01,  2.5151e-01, -2.7400e-02,  2.3340e-01,\n",
       "         1.6148e-01,  2.8846e-01,  3.1495e-01,  2.0680e-01,  2.3712e-01,\n",
       "         2.8209e-01,  2.3291e-01,  1.5739e-01,  2.6944e-01,  4.7554e-01,\n",
       "         3.0042e-01, -1.5308e-02,  1.9089e-02,  3.0028e-01,  2.6443e-01,\n",
       "         1.9981e-01,  2.3471e-01,  3.0971e-01,  2.1078e-01,  8.1203e-02,\n",
       "         2.6316e-01,  2.7386e-01,  2.5757e-01,  1.8610e-01,  2.9546e-01,\n",
       "         1.9062e-01,  2.2504e-01,  1.5114e-01,  2.1131e-01,  1.7370e-01,\n",
       "         3.5694e-01,  1.7598e-03,  4.4576e-01,  2.0252e-01,  8.9072e-02,\n",
       "        -5.1034e-02,  1.9426e-01,  1.9936e-01,  2.1275e-02,  9.9008e-02,\n",
       "         1.3077e-01,  3.6091e-01,  5.1803e-01,  9.7454e-02,  1.0832e-01,\n",
       "         2.0600e-01,  2.0959e-01,  7.7185e-02,  2.5502e-01,  2.0631e-01,\n",
       "         4.9725e-01,  1.1621e-01,  3.0641e-01,  1.1850e-01,  5.0631e-01,\n",
       "         3.6266e-01,  2.7928e-01,  3.4036e-01,  3.9392e-01,  3.0204e-01,\n",
       "         5.5664e-02,  9.5085e-02,  1.9075e-01,  1.3569e-01,  1.4686e-01,\n",
       "         2.3060e-01,  2.5432e-01,  1.2470e-01,  4.8207e-02,  1.8986e-01,\n",
       "         2.8107e-01,  2.9799e-01,  3.3808e-01,  2.4456e-01,  1.8123e-01,\n",
       "         1.5787e-01,  2.0144e-01,  4.0608e-01,  1.9746e-01,  4.2646e-01,\n",
       "         1.9888e-01,  2.0640e-01,  2.5655e-01,  4.3476e-01,  1.1287e-01,\n",
       "         8.2369e-02,  6.6428e-02,  1.5755e-01,  2.0663e-01,  1.5906e-01,\n",
       "         1.5140e-01,  3.0819e-01,  1.0360e-01,  1.6683e-01,  2.3959e-01,\n",
       "         1.6952e-01,  2.6909e-02,  2.3480e-01,  3.4498e-01,  1.6657e-01,\n",
       "         2.0395e-01,  7.3448e-02,  1.9826e-01,  1.0250e-01,  1.6051e-01,\n",
       "         1.9513e-01, -1.7156e-02,  6.7307e-02,  1.5967e-01,  1.4151e-01,\n",
       "         3.7461e-01,  2.7835e-01,  1.8046e-01,  2.7617e-02, -4.7455e-02,\n",
       "         3.2066e-01,  1.5555e-01,  1.9139e-01, -7.3451e-04,  2.2642e-02,\n",
       "         6.8551e-02,  2.8505e-02,  1.5185e-01,  4.9094e-01, -1.2459e-02,\n",
       "         3.9731e-03,  1.3160e-01,  2.7180e-01,  1.4592e-01, -9.5620e-02,\n",
       "         1.5147e-01,  1.1928e-01,  9.7475e-02,  2.0401e-01,  3.4929e-01,\n",
       "         1.6649e-01,  8.7398e-02,  5.6060e-02,  2.0750e-01,  1.2875e-01,\n",
       "         1.1732e-01,  4.9569e-02,  2.1318e-01,  3.2161e-02,  2.2784e-01,\n",
       "         2.7048e-01,  2.3764e-01,  1.9401e-01, -2.0470e-05,  2.7851e-01,\n",
       "         1.1870e-01,  1.8365e-01, -7.8671e-02,  1.7026e-01, -9.9486e-02,\n",
       "         3.0617e-01,  3.4107e-01,  1.9709e-01,  1.9668e-01,  2.7881e-01,\n",
       "         2.0587e-01,  6.7711e-02,  8.2393e-02,  2.0031e-01,  3.8798e-01,\n",
       "         3.1592e-01,  2.9686e-01,  6.0608e-02, -8.4967e-02,  1.0463e-01,\n",
       "         2.1193e-01,  9.4529e-02, -1.6687e-01,  7.3768e-02,  3.4690e-01,\n",
       "         4.5932e-02,  1.3872e-01,  2.6433e-01,  2.3788e-01,  9.2876e-02,\n",
       "         7.8028e-02,  1.3077e-01, -1.1246e-02,  1.9126e-01,  1.4824e-01,\n",
       "        -6.0794e-02, -9.5202e-02,  2.4327e-01,  1.5739e-01,  3.1615e-01,\n",
       "         1.5867e-01,  1.0100e-01, -1.2486e-01,  8.9059e-02, -8.2827e-02,\n",
       "         1.9072e-01,  1.9314e-01,  3.7413e-03,  3.4264e-01,  1.8739e-01,\n",
       "         3.9780e-01,  3.4935e-01,  1.8367e-01,  1.0238e-01,  9.3768e-02,\n",
       "         2.2428e-01,  8.1017e-02,  1.7806e-01,  1.6620e-01,  2.1244e-01,\n",
       "         3.2981e-01,  1.7055e-01,  1.7964e-01,  1.8288e-01,  2.1074e-01,\n",
       "         4.9810e-02,  7.0141e-02,  1.0574e-01,  1.2521e-02,  2.4403e-01,\n",
       "         4.1327e-01,  2.7317e-01,  3.0458e-01,  5.4872e-02,  2.4580e-01,\n",
       "         1.6322e-01,  1.5836e-02,  9.2052e-02,  1.2595e-02,  3.0075e-01,\n",
       "         9.7197e-02,  1.4354e-01,  2.7163e-01,  1.5061e-02, -7.1539e-03,\n",
       "         2.4377e-01,  5.1434e-01,  6.5983e-02,  1.4394e-01,  4.8111e-01,\n",
       "         1.2691e-01,  2.1711e-02,  8.1466e-03, -3.3382e-02,  1.5409e-01,\n",
       "         1.6733e-01,  7.4027e-02,  5.8748e-02,  1.0936e-01, -2.7552e-01,\n",
       "         7.8151e-02,  2.4853e-01,  6.9338e-02,  3.1155e-01, -7.5403e-02,\n",
       "         4.3799e-02,  2.5966e-01,  1.9842e-02,  7.9666e-02,  2.5904e-01,\n",
       "         1.6007e-01, -9.2994e-02,  5.4020e-02,  1.3911e-01, -6.5118e-02,\n",
       "         1.1701e-01,  1.3819e-01,  5.7557e-02, -8.8358e-02, -3.3743e-02,\n",
       "         5.4456e-02,  1.5337e-01, -2.3076e-03,  1.5884e-01,  1.7071e-01,\n",
       "         4.3608e-02,  4.3325e-02,  3.4478e-01,  1.8441e-01,  1.6491e-01,\n",
       "         4.9461e-02,  1.2691e-01,  1.0147e-02,  8.2176e-02,  2.6699e-01,\n",
       "         1.3499e-01, -4.4328e-02,  5.0533e-02,  4.0043e-02,  2.7377e-01,\n",
       "         2.3659e-01, -7.9493e-02, -9.6028e-02, -1.6306e-02,  1.3971e-02,\n",
       "         1.4380e-01,  1.0221e-01, -1.4142e-02,  1.7242e-01,  1.4559e-02,\n",
       "        -6.7023e-03, -9.2225e-02,  1.2142e-01,  1.2476e-01,  1.3231e-01,\n",
       "         1.1284e-01, -1.3572e-01,  1.8740e-02,  1.9468e-01,  2.8798e-01,\n",
       "         1.0245e-01,  3.4477e-01,  9.0441e-02,  2.9198e-01,  7.7705e-02,\n",
       "         1.0636e-01,  1.2496e-01,  3.1142e-01, -7.7706e-04,  2.9927e-03,\n",
       "        -2.2580e-02, -1.0636e-02, -5.4591e-03, -2.2163e-01,  2.1248e-01,\n",
       "         1.1588e-01,  6.9083e-02,  1.1737e-01,  1.3317e-01,  1.3094e-01,\n",
       "         1.9856e-01, -3.3903e-02,  1.1328e-01,  4.2680e-02, -1.6694e-02,\n",
       "         2.7889e-01,  4.9179e-03,  9.7527e-02,  1.7756e-02, -1.1350e-01,\n",
       "         1.2926e-01, -5.3786e-02,  4.5451e-02,  5.9479e-02,  1.4021e-01,\n",
       "         1.0481e-01,  1.8032e-01,  2.1041e-01,  1.1490e-02,  1.0505e-01,\n",
       "         1.1160e-02,  1.9191e-01,  3.2274e-01, -8.7753e-02, -4.7345e-02,\n",
       "        -9.3729e-02,  2.0804e-01,  1.4209e-02,  5.8298e-02,  5.5094e-02,\n",
       "         1.5694e-01,  1.2750e-01,  8.9260e-02,  1.9537e-01,  1.1683e-01,\n",
       "         1.0749e-01,  2.0520e-02,  1.1831e-03,  5.4667e-03,  9.3623e-02,\n",
       "         1.3199e-01,  2.8011e-01, -1.6175e-01,  1.6317e-01, -4.0290e-02,\n",
       "         2.2625e-01,  1.5291e-01,  1.3700e-01, -1.9062e-01, -9.1490e-03,\n",
       "         6.2179e-02, -1.0032e-01,  6.6905e-02, -1.5120e-02,  1.3658e-01,\n",
       "         1.1407e-01,  2.9328e-01,  7.0210e-02,  2.6626e-02,  4.5258e-02,\n",
       "         1.1973e-01,  1.4380e-01, -1.4415e-02,  1.0570e-01,  1.6211e-01,\n",
       "         2.8184e-02, -2.3204e-02,  5.2361e-02,  2.0511e-01,  9.9045e-02,\n",
       "         1.5652e-01, -2.1074e-01,  3.0750e-01, -1.0175e-02, -1.0422e-01,\n",
       "         8.2233e-02,  2.9237e-01,  1.3771e-01, -4.3870e-02, -5.9884e-02,\n",
       "         1.6668e-01,  2.4032e-01,  1.5486e-01,  1.6218e-01,  1.5405e-02,\n",
       "        -3.1894e-02,  2.1079e-01,  1.9745e-01,  2.7880e-01, -1.8539e-02,\n",
       "        -1.1466e-01,  2.4848e-01,  3.9543e-01, -1.1243e-01, -2.6485e-01,\n",
       "         1.1023e-01, -2.7001e-02, -1.3985e-01,  2.1032e-01,  9.4618e-02,\n",
       "         1.2715e-01,  1.8017e-01,  2.4509e-01,  3.6982e-01,  8.6161e-02,\n",
       "         1.2268e-01,  1.2365e-01,  6.1606e-02, -1.3310e-01,  8.1109e-02,\n",
       "         5.1036e-02,  2.8287e-03,  5.0570e-02,  2.7849e-01, -1.7151e-01,\n",
       "         2.6938e-01,  1.0794e-01,  2.3219e-01,  1.0956e-01,  2.3581e-02,\n",
       "         2.3338e-01,  9.7919e-02,  6.7859e-02,  1.1779e-01,  2.2098e-01,\n",
       "         1.1013e-01,  4.7510e-02, -1.5637e-01,  2.4420e-01,  7.7477e-02,\n",
       "         1.3958e-01,  1.5217e-01,  1.0868e-01, -1.1758e-01, -1.3080e-02,\n",
       "         9.9628e-02,  2.6624e-01,  4.8295e-02, -5.2518e-02,  1.5388e-01,\n",
       "         2.4999e-01,  5.8802e-02, -1.3494e-01,  2.5262e-01, -6.4479e-02,\n",
       "        -2.9677e-02,  1.2810e-01,  2.2906e-01,  1.2037e-02, -5.9013e-02,\n",
       "         6.1405e-03,  2.3159e-01,  1.8771e-01,  1.6890e-01,  1.8307e-01,\n",
       "         2.4405e-01,  5.1412e-02,  1.3274e-01,  1.7395e-03,  6.2340e-02,\n",
       "         2.7023e-01, -7.1716e-02, -1.2582e-01,  1.1330e-01, -5.4031e-02,\n",
       "         4.9297e-02, -2.4048e-01,  4.8693e-02,  2.2384e-01,  4.2577e-02,\n",
       "         1.5310e-01, -5.3936e-02,  2.7913e-01,  2.5107e-01, -7.4533e-02,\n",
       "         1.6692e-01,  2.4774e-01, -1.8442e-01,  2.0553e-02, -9.2309e-02,\n",
       "         1.6177e-01,  1.6435e-01,  4.4217e-02,  6.2415e-02, -1.4450e-01,\n",
       "         1.0920e-02, -8.7147e-02, -9.4134e-02,  4.1976e-02, -1.5169e-01,\n",
       "        -7.7381e-02, -6.8318e-02,  2.2703e-01,  1.3988e-01, -7.3105e-02,\n",
       "         9.7992e-03,  5.7275e-02, -7.0060e-02,  1.3203e-01,  8.2747e-02,\n",
       "         1.5272e-01,  1.2153e-01,  2.6240e-02,  3.7174e-02,  1.3155e-01,\n",
       "         1.7452e-01,  6.6111e-02,  1.7744e-01, -1.1245e-01,  3.3662e-02,\n",
       "        -2.7111e-02, -1.9038e-01, -8.7909e-02, -1.8629e-03, -6.6774e-02,\n",
       "         1.5248e-01, -4.6865e-02,  6.4859e-02, -2.1259e-01, -2.2098e-02,\n",
       "         2.2095e-01, -7.7164e-02, -1.0309e-01,  8.3932e-02, -1.8960e-01,\n",
       "        -3.9597e-02,  5.2519e-02,  4.4637e-02,  6.6542e-02,  3.4197e-02,\n",
       "        -6.1101e-02,  8.5238e-02,  2.7271e-01,  1.7302e-01,  4.7468e-02,\n",
       "        -1.1599e-01, -1.2341e-01,  3.1740e-02,  2.5596e-01,  7.1250e-02,\n",
       "         8.4727e-02,  1.0421e-01,  2.3066e-01,  1.2029e-01,  1.0091e-01,\n",
       "        -1.9070e-02,  1.0412e-01, -8.6892e-02,  9.4213e-03,  1.2224e-01,\n",
       "        -2.4624e-01,  1.8011e-02,  4.1798e-02,  2.3167e-01,  1.8104e-01,\n",
       "         5.0335e-02,  4.6266e-02, -1.1239e-01,  7.7628e-02,  9.0038e-02,\n",
       "        -6.1406e-02, -9.1073e-02,  1.1183e-02,  1.6987e-01, -1.9523e-01,\n",
       "         1.4689e-01,  2.6777e-02,  1.6958e-01,  1.8617e-01, -8.6251e-02,\n",
       "         2.0306e-02,  2.2494e-02, -1.5942e-01,  7.2621e-02, -7.2420e-02,\n",
       "         1.8455e-01, -1.5263e-01, -1.0177e-01,  3.1817e-03,  1.0157e-01,\n",
       "        -8.2082e-02, -2.6821e-01,  2.7375e-01,  7.9244e-03,  1.5344e-01,\n",
       "        -4.8413e-02,  1.9833e-01,  7.3221e-03,  1.3643e-01,  1.2686e-01,\n",
       "         1.5192e-01, -9.6313e-02, -1.5727e-01, -9.4918e-02, -6.8061e-02,\n",
       "        -4.2365e-03, -6.0297e-02,  2.2564e-02,  5.3370e-02,  7.5109e-02,\n",
       "         2.3493e-01, -9.6420e-02,  1.9403e-01,  1.0493e-01,  1.2882e-01,\n",
       "         2.1041e-01,  2.3851e-01,  5.2759e-02, -5.9910e-02, -1.3156e-01,\n",
       "         3.6558e-02,  7.6191e-02, -8.3602e-02,  1.2012e-01, -7.7431e-02,\n",
       "        -1.7458e-02,  5.3591e-02,  8.3448e-02, -1.5184e-01,  9.2541e-03,\n",
       "         1.4248e-01, -2.4927e-01, -2.1436e-02,  6.5525e-03, -5.2936e-02,\n",
       "         3.7726e-02,  5.9915e-02,  1.2678e-01,  1.1513e-02, -2.1545e-01,\n",
       "         3.0150e-01,  1.3949e-02,  1.7542e-01,  6.8495e-02, -7.3880e-02,\n",
       "        -1.8262e-01,  1.4688e-01, -1.1978e-02,  2.2293e-02,  7.1845e-03,\n",
       "         2.2790e-01, -1.4346e-01, -1.1898e-01, -8.8259e-03,  1.6722e-01,\n",
       "        -8.1860e-04, -4.7845e-02,  1.8067e-01,  1.8513e-01, -5.8683e-02,\n",
       "         6.8780e-02,  1.3199e-01, -9.6340e-02, -1.2837e-01,  1.1863e-01,\n",
       "         1.9151e-01, -8.8480e-03, -1.3690e-02,  9.9961e-02,  2.0978e-01,\n",
       "         3.0132e-02,  1.3213e-01,  2.2368e-01,  1.8283e-01, -5.3707e-02,\n",
       "         9.7231e-02,  2.1574e-01,  3.6462e-02, -1.2287e-01,  8.4448e-02,\n",
       "         3.2799e-02,  8.4421e-02,  2.2255e-01,  2.9959e-02, -1.3401e-01,\n",
       "        -1.8763e-02, -2.9542e-02, -6.1082e-02, -1.3229e-01,  4.7854e-02,\n",
       "         2.0234e-02,  1.0667e-01,  1.5370e-02, -2.1981e-01,  2.6174e-02,\n",
       "        -6.4638e-02,  2.9101e-01,  8.9791e-02, -1.4006e-02, -6.4771e-02,\n",
       "         8.7655e-02, -1.1612e-01, -7.6346e-02,  3.8978e-02,  1.1898e-02,\n",
       "        -1.9298e-01,  3.1949e-01, -6.8309e-02,  1.3039e-01,  1.8175e-01,\n",
       "         8.5686e-02, -2.2128e-01,  6.2075e-02, -7.6920e-03,  2.0060e-01,\n",
       "        -2.6962e-02,  1.8073e-02, -8.3107e-02,  3.8935e-02, -1.0364e-01,\n",
       "         1.0668e-02,  3.7739e-02,  2.7236e-01, -1.9807e-01,  9.7286e-02,\n",
       "         2.2858e-02,  6.2471e-02,  3.3099e-02,  1.2534e-02,  1.0268e-01,\n",
       "         1.3123e-02, -6.2144e-03, -8.7297e-02, -8.6887e-02,  1.5159e-01,\n",
       "        -3.3187e-02, -1.1231e-01,  5.1571e-02,  2.3631e-01,  1.8460e-02,\n",
       "         4.5575e-02,  1.2843e-01, -1.0027e-01, -1.0079e-01, -1.7061e-01,\n",
       "        -2.2978e-01,  1.7525e-01,  1.4735e-01, -6.2389e-02,  1.6447e-01,\n",
       "         3.5790e-02,  1.2215e-01,  1.1916e-01, -3.0470e-02,  9.6750e-02,\n",
       "         1.0647e-01,  2.6994e-01,  1.7474e-01, -7.8990e-02,  2.3452e-01,\n",
       "        -1.1894e-01,  9.7716e-02, -8.2717e-02, -1.3476e-01,  4.2324e-02,\n",
       "         1.5257e-01, -1.2324e-01, -9.0795e-02, -1.3086e-01,  4.4538e-02,\n",
       "        -5.0101e-02,  7.8171e-02,  1.2220e-01, -1.4597e-01, -7.0033e-03,\n",
       "         8.3349e-02,  2.5485e-02, -6.5580e-02,  1.3481e-02, -1.5861e-01,\n",
       "        -7.9570e-02,  8.0178e-02,  5.0347e-02, -1.2697e-01,  1.1666e-01,\n",
       "         7.1776e-02,  1.7464e-01,  1.9161e-01, -2.2440e-01, -8.2167e-03,\n",
       "         8.9174e-02, -5.7142e-03, -3.8144e-02, -7.8867e-02, -1.0166e-01,\n",
       "        -9.9362e-02, -1.4835e-02,  4.3039e-02, -2.2937e-01,  7.4650e-02,\n",
       "         1.5988e-02,  7.7837e-02, -1.1586e-01, -1.6386e-02, -3.8718e-02,\n",
       "         7.4659e-02, -1.0562e-01, -1.3971e-02, -3.8648e-02,  3.4026e-02,\n",
       "         1.4371e-01,  1.0589e-01,  1.2801e-03, -8.3545e-02,  4.8275e-02,\n",
       "         2.8791e-02, -5.2426e-03,  2.4560e-02,  4.8330e-03,  1.1148e-01,\n",
       "        -2.1309e-02,  6.0624e-02,  2.2959e-01,  1.2080e-01, -5.9576e-02,\n",
       "        -2.8629e-01,  1.2235e-01,  1.4133e-01, -1.3165e-01,  1.9054e-01,\n",
       "         7.6236e-02, -1.1905e-01,  6.3003e-02, -1.3961e-01, -7.5115e-03,\n",
       "        -2.9420e-02, -4.6788e-02,  2.0403e-01,  1.4205e-01, -2.4137e-02,\n",
       "         5.2896e-02,  9.2594e-02, -1.2822e-01, -2.2148e-03, -1.0554e-01,\n",
       "        -1.2126e-01, -1.9438e-01,  1.6196e-01, -3.5059e-01,  7.0614e-02,\n",
       "         1.0714e-01,  1.8986e-02,  6.6982e-03,  8.7415e-02, -1.4667e-01,\n",
       "         5.9298e-02,  6.3386e-02,  6.3699e-02, -1.1855e-01, -8.9410e-02,\n",
       "        -1.3591e-01,  1.5291e-01, -8.7379e-02, -1.6739e-02,  1.8795e-02,\n",
       "         1.2348e-02,  6.5710e-02,  8.6358e-02, -1.5721e-01,  1.1340e-01,\n",
       "         5.0305e-02, -3.7833e-02,  9.8730e-02,  4.4638e-02,  2.3965e-01,\n",
       "        -1.3764e-02,  1.4172e-01, -1.8581e-01, -6.5192e-02,  8.0837e-02,\n",
       "        -2.6085e-02, -7.6478e-02,  5.6366e-02, -1.2189e-01, -8.7303e-02,\n",
       "         1.1380e-01,  8.7555e-02, -1.1431e-01, -7.8572e-02,  6.3738e-02,\n",
       "        -1.1755e-01,  8.7722e-02, -9.8859e-02,  1.0713e-02, -4.1059e-02,\n",
       "         9.6994e-02,  2.1257e-03, -1.4134e-01, -9.0342e-02, -1.5689e-02,\n",
       "         9.5311e-02, -3.5850e-02,  1.2671e-01, -1.4094e-01, -2.1560e-02,\n",
       "        -1.2309e-01,  2.1063e-01, -7.0638e-03, -5.7963e-03,  5.2210e-02,\n",
       "         1.0080e-01,  1.4892e-01, -6.6499e-03, -1.5442e-01,  8.5389e-02])"
      ]
     },
     "execution_count": 31,
     "metadata": {},
     "output_type": "execute_result"
    }
   ],
   "source": [
    "movie_bias   # bias from the embedding :D"
   ]
  },
  {
   "cell_type": "code",
   "execution_count": 32,
   "metadata": {},
   "outputs": [],
   "source": [
    "mean_ratings = rating_movie.groupby(title)['rating'].mean()\n",
    "movie_ratings = [(b, i, mean_ratings.loc[i]) for i,b in zip(top_movies,movie_bias)]"
   ]
  },
  {
   "cell_type": "code",
   "execution_count": 33,
   "metadata": {},
   "outputs": [
    {
     "data": {
      "text/plain": [
       "title\n",
       "'Til There Was You (1997)                                   2.333333\n",
       "1-900 (1994)                                                2.600000\n",
       "101 Dalmatians (1996)                                       2.908257\n",
       "12 Angry Men (1957)                                         4.344000\n",
       "187 (1997)                                                  3.024390\n",
       "2 Days in the Valley (1996)                                 3.225806\n",
       "20,000 Leagues Under the Sea (1954)                         3.500000\n",
       "2001: A Space Odyssey (1968)                                3.969112\n",
       "3 Ninjas: High Noon At Mega Mountain (1998)                 1.000000\n",
       "39 Steps, The (1935)                                        4.050847\n",
       "8 1/2 (1963)                                                3.815789\n",
       "8 Heads in a Duffel Bag (1997)                              3.250000\n",
       "8 Seconds (1994)                                            3.750000\n",
       "A Chef in Love (1996)                                       4.125000\n",
       "Above the Rim (1994)                                        3.000000\n",
       "Absolute Power (1997)                                       3.370079\n",
       "Abyss, The (1989)                                           3.589404\n",
       "Ace Ventura: Pet Detective (1994)                           3.048544\n",
       "Ace Ventura: When Nature Calls (1995)                       2.675676\n",
       "Across the Sea of Time (1995)                               2.750000\n",
       "Addams Family Values (1993)                                 2.816092\n",
       "Addicted to Love (1997)                                     3.166667\n",
       "Addiction, The (1995)                                       2.181818\n",
       "Adventures of Pinocchio, The (1996)                         3.051282\n",
       "Adventures of Priscilla, Queen of the Desert, The (1994)    3.594595\n",
       "Adventures of Robin Hood, The (1938)                        3.791045\n",
       "Affair to Remember, An (1957)                               4.192308\n",
       "African Queen, The (1951)                                   4.184211\n",
       "Afterglow (1997)                                            3.111111\n",
       "Age of Innocence, The (1993)                                3.384615\n",
       "                                                              ...   \n",
       "Window to Paris (1994)                                      4.000000\n",
       "Wings of Courage (1995)                                     4.000000\n",
       "Wings of Desire (1987)                                      4.000000\n",
       "Wings of the Dove, The (1997)                               3.680000\n",
       "Winnie the Pooh and the Blustery Day (1968)                 3.800000\n",
       "Winter Guest, The (1997)                                    3.444444\n",
       "Wishmaster (1997)                                           2.444444\n",
       "With Honors (1994)                                          3.065217\n",
       "Withnail and I (1987)                                       3.230769\n",
       "Witness (1985)                                              4.000000\n",
       "Wizard of Oz, The (1939)                                    4.077236\n",
       "Wolf (1994)                                                 2.701493\n",
       "Woman in Question, The (1950)                               1.000000\n",
       "Women, The (1939)                                           3.666667\n",
       "Wonderful, Horrible Life of Leni Riefenstahl, The (1993)    4.000000\n",
       "Wonderland (1997)                                           3.200000\n",
       "Wooden Man's Bride, The (Wu Kui) (1994)                     2.666667\n",
       "World of Apu, The (Apur Sansar) (1959)                      4.000000\n",
       "Wrong Trousers, The (1993)                                  4.466102\n",
       "Wyatt Earp (1994)                                           3.100000\n",
       "Yankee Zulu (1994)                                          1.000000\n",
       "Year of the Horse (1997)                                    3.285714\n",
       "You So Crazy (1994)                                         3.000000\n",
       "Young Frankenstein (1974)                                   3.945000\n",
       "Young Guns (1988)                                           3.207921\n",
       "Young Guns II (1990)                                        2.772727\n",
       "Young Poisoner's Handbook, The (1995)                       3.341463\n",
       "Zeus and Roxanne (1997)                                     2.166667\n",
       "unknown                                                     3.444444\n",
       "Á köldum klaka (Cold Fever) (1994)                          3.000000\n",
       "Name: rating, Length: 1664, dtype: float64"
      ]
     },
     "execution_count": 33,
     "metadata": {},
     "output_type": "execute_result"
    }
   ],
   "source": [
    "mean_ratings"
   ]
  },
  {
   "cell_type": "code",
   "execution_count": 34,
   "metadata": {},
   "outputs": [],
   "source": [
    "item0 = lambda o:o[0]"
   ]
  },
  {
   "cell_type": "code",
   "execution_count": 39,
   "metadata": {},
   "outputs": [
    {
     "data": {
      "text/plain": [
       "[(tensor(-0.3506),\n",
       "  'Children of the Corn: The Gathering (1996)',\n",
       "  1.3157894736842106),\n",
       " (tensor(-0.2863),\n",
       "  'Lawnmower Man 2: Beyond Cyberspace (1996)',\n",
       "  1.7142857142857142),\n",
       " (tensor(-0.2755), 'Cable Guy, The (1996)', 2.339622641509434),\n",
       " (tensor(-0.2682), 'Mortal Kombat: Annihilation (1997)', 1.9534883720930232),\n",
       " (tensor(-0.2649), 'Striptease (1996)', 2.2388059701492535),\n",
       " (tensor(-0.2493), 'Crow: City of Angels, The (1996)', 1.9487179487179487),\n",
       " (tensor(-0.2462), \"Joe's Apartment (1996)\", 2.2444444444444445),\n",
       " (tensor(-0.2405), 'Island of Dr. Moreau, The (1996)', 2.1578947368421053),\n",
       " (tensor(-0.2298), 'Free Willy 3: The Rescue (1997)', 1.7407407407407407),\n",
       " (tensor(-0.2294), 'Showgirls (1995)', 1.9565217391304348),\n",
       " (tensor(-0.2244), 'Grease 2 (1982)', 2.0),\n",
       " (tensor(-0.2216), 'Beautician and the Beast, The (1997)', 2.313953488372093),\n",
       " (tensor(-0.2213), 'Barb Wire (1996)', 1.9333333333333333),\n",
       " (tensor(-0.2198), 'Bio-Dome (1996)', 1.903225806451613),\n",
       " (tensor(-0.2154), 'Speed 2: Cruise Control (1997)', 2.1315789473684212)]"
      ]
     },
     "execution_count": 39,
     "metadata": {},
     "output_type": "execute_result"
    }
   ],
   "source": [
    "sorted(movie_ratings, key=item0)[:15]"
   ]
  },
  {
   "cell_type": "code",
   "execution_count": 38,
   "metadata": {},
   "outputs": [
    {
     "data": {
      "text/plain": [
       "[(tensor(0.6392), \"Schindler's List (1993)\", 4.466442953020135),\n",
       " (tensor(0.5779), 'Titanic (1997)', 4.2457142857142856),\n",
       " (tensor(0.5580), 'Shawshank Redemption, The (1994)', 4.445229681978798),\n",
       " (tensor(0.5572), 'Star Wars (1977)', 4.3584905660377355),\n",
       " (tensor(0.5359), 'L.A. Confidential (1997)', 4.161616161616162),\n",
       " (tensor(0.5180), 'Rear Window (1954)', 4.3875598086124405),\n",
       " (tensor(0.5143), 'As Good As It Gets (1997)', 4.196428571428571),\n",
       " (tensor(0.5124), 'Silence of the Lambs, The (1991)', 4.28974358974359),\n",
       " (tensor(0.5063), 'Good Will Hunting (1997)', 4.262626262626263),\n",
       " (tensor(0.4972), 'Boot, Das (1981)', 4.203980099502488),\n",
       " (tensor(0.4909), 'Apt Pupil (1998)', 4.1),\n",
       " (tensor(0.4863), 'Usual Suspects, The (1995)', 4.385767790262173),\n",
       " (tensor(0.4811), 'Close Shave, A (1995)', 4.491071428571429),\n",
       " (tensor(0.4755), 'Casablanca (1942)', 4.45679012345679),\n",
       " (tensor(0.4605), 'Godfather, The (1972)', 4.283292978208232)]"
      ]
     },
     "execution_count": 38,
     "metadata": {},
     "output_type": "execute_result"
    }
   ],
   "source": [
    "sorted(movie_ratings, key=lambda o: o[0], reverse=True)[:15]   # Why sort by tensor????"
   ]
  },
  {
   "cell_type": "markdown",
   "metadata": {},
   "source": [
    "# Movie weights"
   ]
  },
  {
   "cell_type": "code",
   "execution_count": 40,
   "metadata": {},
   "outputs": [
    {
     "data": {
      "text/plain": [
       "torch.Size([1000, 40])"
      ]
     },
     "execution_count": 40,
     "metadata": {},
     "output_type": "execute_result"
    }
   ],
   "source": [
    "movie_w = learn.weight(top_movies, is_item=True)\n",
    "movie_w.shape"
   ]
  },
  {
   "cell_type": "code",
   "execution_count": 41,
   "metadata": {},
   "outputs": [
    {
     "data": {
      "text/plain": [
       "torch.Size([1000, 3])"
      ]
     },
     "execution_count": 41,
     "metadata": {},
     "output_type": "execute_result"
    }
   ],
   "source": [
    "movie_pca = movie_w.pca(3)   # Easy use of pca? :D\n",
    "movie_pca.shape"
   ]
  },
  {
   "cell_type": "code",
   "execution_count": 42,
   "metadata": {},
   "outputs": [],
   "source": [
    "fac0,fac1,fac2 = movie_pca.t()\n",
    "movie_comp = [(f, i) for f,i in zip(fac0, top_movies)]"
   ]
  },
  {
   "cell_type": "code",
   "execution_count": 43,
   "metadata": {
    "scrolled": true
   },
   "outputs": [
    {
     "data": {
      "text/plain": [
       "[(tensor(1.2651), 'Jungle2Jungle (1997)'),\n",
       " (tensor(1.1815), \"McHale's Navy (1997)\"),\n",
       " (tensor(1.1513), 'Leave It to Beaver (1997)'),\n",
       " (tensor(1.1435), 'Bio-Dome (1996)'),\n",
       " (tensor(1.1423), 'Children of the Corn: The Gathering (1996)'),\n",
       " (tensor(1.1324), 'Home Alone 3 (1997)'),\n",
       " (tensor(1.1100), 'D3: The Mighty Ducks (1996)'),\n",
       " (tensor(1.0773), 'Congo (1995)'),\n",
       " (tensor(1.0465), 'Flipper (1996)'),\n",
       " (tensor(1.0371), 'Mortal Kombat: Annihilation (1997)')]"
      ]
     },
     "execution_count": 43,
     "metadata": {},
     "output_type": "execute_result"
    }
   ],
   "source": [
    "sorted(movie_comp, key=itemgetter(0), reverse=True)[:10]"
   ]
  },
  {
   "cell_type": "code",
   "execution_count": 44,
   "metadata": {
    "scrolled": true
   },
   "outputs": [
    {
     "data": {
      "text/plain": [
       "[(tensor(-1.1549), 'Wrong Trousers, The (1993)'),\n",
       " (tensor(-1.0780), 'Chinatown (1974)'),\n",
       " (tensor(-1.0680), 'Casablanca (1942)'),\n",
       " (tensor(-1.0624), 'Close Shave, A (1995)'),\n",
       " (tensor(-1.0190), 'Lawrence of Arabia (1962)'),\n",
       " (tensor(-1.0155), 'Wallace & Gromit: The Best of Aardman Animation (1996)'),\n",
       " (tensor(-0.9779), 'Ran (1985)'),\n",
       " (tensor(-0.9719), 'Godfather, The (1972)'),\n",
       " (tensor(-0.9413), 'When We Were Kings (1996)'),\n",
       " (tensor(-0.9294),\n",
       "  'Dr. Strangelove or: How I Learned to Stop Worrying and Love the Bomb (1963)')]"
      ]
     },
     "execution_count": 44,
     "metadata": {},
     "output_type": "execute_result"
    }
   ],
   "source": [
    "sorted(movie_comp, key=itemgetter(0))[:10]"
   ]
  },
  {
   "cell_type": "code",
   "execution_count": 45,
   "metadata": {},
   "outputs": [],
   "source": [
    "movie_comp = [(f, i) for f,i in zip(fac1, top_movies)]"
   ]
  },
  {
   "cell_type": "code",
   "execution_count": 46,
   "metadata": {
    "scrolled": true
   },
   "outputs": [
    {
     "data": {
      "text/plain": [
       "[(tensor(0.8745), 'Ready to Wear (Pret-A-Porter) (1994)'),\n",
       " (tensor(0.8187), 'Nosferatu (Nosferatu, eine Symphonie des Grauens) (1922)'),\n",
       " (tensor(0.7754), 'Stupids, The (1996)'),\n",
       " (tensor(0.7479), 'Keys to Tulsa (1997)'),\n",
       " (tensor(0.7397), 'Big Night (1996)'),\n",
       " (tensor(0.7367), 'Jude (1996)'),\n",
       " (tensor(0.7335), 'Cable Guy, The (1996)'),\n",
       " (tensor(0.7270), 'Beavis and Butt-head Do America (1996)'),\n",
       " (tensor(0.7253), 'Trainspotting (1996)'),\n",
       " (tensor(0.7148), 'Very Brady Sequel, A (1996)')]"
      ]
     },
     "execution_count": 46,
     "metadata": {},
     "output_type": "execute_result"
    }
   ],
   "source": [
    "sorted(movie_comp, key=itemgetter(0), reverse=True)[:10]"
   ]
  },
  {
   "cell_type": "code",
   "execution_count": 47,
   "metadata": {
    "scrolled": true
   },
   "outputs": [
    {
     "data": {
      "text/plain": [
       "[(tensor(-1.1309), 'Braveheart (1995)'),\n",
       " (tensor(-1.0764), 'Titanic (1997)'),\n",
       " (tensor(-1.0587), 'Raiders of the Lost Ark (1981)'),\n",
       " (tensor(-0.8900), 'Independence Day (ID4) (1996)'),\n",
       " (tensor(-0.8657), 'Forrest Gump (1994)'),\n",
       " (tensor(-0.8475), 'Air Force One (1997)'),\n",
       " (tensor(-0.8307), 'American President, The (1995)'),\n",
       " (tensor(-0.8223), 'Back to the Future (1985)'),\n",
       " (tensor(-0.8135), 'Hunt for Red October, The (1990)'),\n",
       " (tensor(-0.8124), 'Top Gun (1986)')]"
      ]
     },
     "execution_count": 47,
     "metadata": {},
     "output_type": "execute_result"
    }
   ],
   "source": [
    "sorted(movie_comp, key=itemgetter(0))[:10]"
   ]
  },
  {
   "cell_type": "code",
   "execution_count": 48,
   "metadata": {},
   "outputs": [
    {
     "data": {
      "image/png": "[encoded data removed]",
      "text/plain": [
       "<Figure size 1080x1080 with 1 Axes>"
      ]
     },
     "metadata": {
      "needs_background": "light"
     },
     "output_type": "display_data"
    }
   ],
   "source": [
    "idxs = np.random.choice(len(top_movies), 50, replace=False)\n",
    "idxs = list(range(50))\n",
    "X = fac0[idxs]\n",
    "Y = fac2[idxs]\n",
    "plt.figure(figsize=(15,15))\n",
    "plt.scatter(X, Y)\n",
    "for i, x, y in zip(top_movies[idxs], X, Y):\n",
    "    plt.text(x,y,i, color=np.random.rand(3)*0.7, fontsize=11)\n",
    "plt.show()"
   ]
  }
 ],
 "metadata": {
  "kernelspec": {
   "display_name": "fastai_v3",
   "language": "python",
   "name": "fastai_v3"
  },
  "language_info": {
   "codemirror_mode": {
    "name": "ipython",
    "version": 3
   },
   "file_extension": ".py",
   "mimetype": "text/x-python",
   "name": "python",
   "nbconvert_exporter": "python",
   "pygments_lexer": "ipython3",
   "version": "3.7.1"
  }
 },
 "nbformat": 4,
 "nbformat_minor": 2
}
